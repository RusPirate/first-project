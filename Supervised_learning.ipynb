{
 "cells": [
  {
   "cell_type": "markdown",
   "metadata": {
    "toc": true
   },
   "source": [
    "<h1>Содержание<span class=\"tocSkip\"></span></h1>\n",
    "<div class=\"toc\"><ul class=\"toc-item\"><li><span><a href=\"#Подготовка-данных\" data-toc-modified-id=\"Подготовка-данных-1\"><span class=\"toc-item-num\">1&nbsp;&nbsp;</span>Подготовка данных</a></span><ul class=\"toc-item\"><li><span><a href=\"#Обзор-данных\" data-toc-modified-id=\"Обзор-данных-1.1\"><span class=\"toc-item-num\">1.1&nbsp;&nbsp;</span>Обзор данных</a></span></li><li><span><a href=\"#Предобработка-данных\" data-toc-modified-id=\"Предобработка-данных-1.2\"><span class=\"toc-item-num\">1.2&nbsp;&nbsp;</span>Предобработка данных</a></span></li><li><span><a href=\"#Кодирование\" data-toc-modified-id=\"Кодирование-1.3\"><span class=\"toc-item-num\">1.3&nbsp;&nbsp;</span>Кодирование</a></span></li><li><span><a href=\"#Разбитие-данных-на-выборки\" data-toc-modified-id=\"Разбитие-данных-на-выборки-1.4\"><span class=\"toc-item-num\">1.4&nbsp;&nbsp;</span>Разбитие данных на выборки</a></span></li><li><span><a href=\"#Масштабирование-признаков\" data-toc-modified-id=\"Масштабирование-признаков-1.5\"><span class=\"toc-item-num\">1.5&nbsp;&nbsp;</span>Масштабирование признаков</a></span></li></ul></li><li><span><a href=\"#Исследование-задачи\" data-toc-modified-id=\"Исследование-задачи-2\"><span class=\"toc-item-num\">2&nbsp;&nbsp;</span>Исследование задачи</a></span><ul class=\"toc-item\"><li><span><a href=\"#Обучение-модели-и-метрика-accuracy\" data-toc-modified-id=\"Обучение-модели-и-метрика-accuracy-2.1\"><span class=\"toc-item-num\">2.1&nbsp;&nbsp;</span>Обучение модели и метрика accuracy</a></span></li><li><span><a href=\"#Проверка-адекватности-модели\" data-toc-modified-id=\"Проверка-адекватности-модели-2.2\"><span class=\"toc-item-num\">2.2&nbsp;&nbsp;</span>Проверка адекватности модели</a></span></li><li><span><a href=\"#Оценка-качества\" data-toc-modified-id=\"Оценка-качества-2.3\"><span class=\"toc-item-num\">2.3&nbsp;&nbsp;</span>Оценка качества</a></span><ul class=\"toc-item\"><li><span><a href=\"#Решающее-дерево\" data-toc-modified-id=\"Решающее-дерево-2.3.1\"><span class=\"toc-item-num\">2.3.1&nbsp;&nbsp;</span>Решающее дерево</a></span></li><li><span><a href=\"#Случайный-лес\" data-toc-modified-id=\"Случайный-лес-2.3.2\"><span class=\"toc-item-num\">2.3.2&nbsp;&nbsp;</span>Случайный лес</a></span></li><li><span><a href=\"#Логистическая-регрессия\" data-toc-modified-id=\"Логистическая-регрессия-2.3.3\"><span class=\"toc-item-num\">2.3.3&nbsp;&nbsp;</span>Логистическая регрессия</a></span></li></ul></li></ul></li><li><span><a href=\"#Борьба-с-дисбалансом\" data-toc-modified-id=\"Борьба-с-дисбалансом-3\"><span class=\"toc-item-num\">3&nbsp;&nbsp;</span>Борьба с дисбалансом</a></span><ul class=\"toc-item\"><li><span><a href=\"#Решающее-дерево\" data-toc-modified-id=\"Решающее-дерево-3.1\"><span class=\"toc-item-num\">3.1&nbsp;&nbsp;</span>Решающее дерево</a></span></li><li><span><a href=\"#Случайный-лес\" data-toc-modified-id=\"Случайный-лес-3.2\"><span class=\"toc-item-num\">3.2&nbsp;&nbsp;</span>Случайный лес</a></span></li><li><span><a href=\"#Логистическая-регрессия\" data-toc-modified-id=\"Логистическая-регрессия-3.3\"><span class=\"toc-item-num\">3.3&nbsp;&nbsp;</span>Логистическая регрессия</a></span></li><li><span><a href=\"#Уменьшение-выборки\" data-toc-modified-id=\"Уменьшение-выборки-3.4\"><span class=\"toc-item-num\">3.4&nbsp;&nbsp;</span>Уменьшение выборки</a></span></li></ul></li><li><span><a href=\"#Тестирование-модели\" data-toc-modified-id=\"Тестирование-модели-4\"><span class=\"toc-item-num\">4&nbsp;&nbsp;</span>Тестирование модели</a></span></li><li><span><a href=\"#Чек-лист-готовности-проекта\" data-toc-modified-id=\"Чек-лист-готовности-проекта-5\"><span class=\"toc-item-num\">5&nbsp;&nbsp;</span>Чек-лист готовности проекта</a></span></li></ul></div>"
   ]
  },
  {
   "cell_type": "markdown",
   "metadata": {},
   "source": [
    "# Отток клиентов"
   ]
  },
  {
   "cell_type": "markdown",
   "metadata": {},
   "source": [
    "Из «Бета-Банка» стали уходить клиенты. Каждый месяц. Немного, но заметно. Банковские маркетологи посчитали: сохранять текущих клиентов дешевле, чем привлекать новых.\n",
    "\n",
    "Нужно спрогнозировать, уйдёт клиент из банка в ближайшее время или нет. Вам предоставлены исторические данные о поведении клиентов и расторжении договоров с банком. \n",
    "\n",
    "Постройте модель с предельно большим значением *F1*-меры. Чтобы сдать проект успешно, нужно довести метрику до 0.59. Проверьте *F1*-меру на тестовой выборке самостоятельно.\n",
    "\n",
    "Дополнительно измеряйте *AUC-ROC*, сравнивайте её значение с *F1*-мерой.\n",
    "\n",
    "Источник данных: [https://www.kaggle.com/barelydedicated/bank-customer-churn-modeling](https://www.kaggle.com/barelydedicated/bank-customer-churn-modeling)"
   ]
  },
  {
   "cell_type": "markdown",
   "metadata": {},
   "source": [
    "## Подготовка данных\n"
   ]
  },
  {
   "cell_type": "markdown",
   "metadata": {},
   "source": [
    "### Обзор данных"
   ]
  },
  {
   "cell_type": "code",
   "execution_count": 1,
   "metadata": {},
   "outputs": [],
   "source": [
    "import pandas as pd\n",
    "import matplotlib.pyplot as plt\n",
    "from sklearn.model_selection import train_test_split \n",
    "from sklearn.preprocessing import StandardScaler \n",
    "from sklearn.tree import DecisionTreeClassifier \n",
    "from sklearn.ensemble import RandomForestClassifier\n",
    "from sklearn.linear_model import LogisticRegression \n",
    "from sklearn.metrics import accuracy_score \n",
    "from sklearn.metrics import recall_score\n",
    "from sklearn.metrics import precision_score\n",
    "from sklearn.metrics import f1_score\n",
    "from sklearn.metrics import roc_curve \n",
    "from sklearn.metrics import roc_auc_score \n",
    "from sklearn.utils import shuffle"
   ]
  },
  {
   "cell_type": "markdown",
   "metadata": {},
   "source": [
    "Прочитайте файлs формата .csv и сохраним его в переменной df"
   ]
  },
  {
   "cell_type": "code",
   "execution_count": 2,
   "metadata": {},
   "outputs": [],
   "source": [
    "from io import BytesIO\n",
    "import requests\n",
    "spreadsheet_id = '1OEtzn3CyKJ6_-CXiFLCjI5Fe_2zaaniENQq6KQipd7Y'\n",
    "file_name = 'https://docs.google.com/spreadsheets/d/{}/export?format=csv'.format(spreadsheet_id)\n",
    "r = requests.get(file_name)\n",
    "df = pd.read_csv(BytesIO(r.content))"
   ]
  },
  {
   "cell_type": "markdown",
   "metadata": {},
   "source": [
    "Выведем на экран первые 5 строк таблицs, а также посмотрим общую информацию"
   ]
  },
  {
   "cell_type": "code",
   "execution_count": 3,
   "metadata": {},
   "outputs": [
    {
     "data": {
      "text/html": [
       "<div>\n",
       "<style scoped>\n",
       "    .dataframe tbody tr th:only-of-type {\n",
       "        vertical-align: middle;\n",
       "    }\n",
       "\n",
       "    .dataframe tbody tr th {\n",
       "        vertical-align: top;\n",
       "    }\n",
       "\n",
       "    .dataframe thead th {\n",
       "        text-align: right;\n",
       "    }\n",
       "</style>\n",
       "<table border=\"1\" class=\"dataframe\">\n",
       "  <thead>\n",
       "    <tr style=\"text-align: right;\">\n",
       "      <th></th>\n",
       "      <th>RowNumber</th>\n",
       "      <th>CustomerId</th>\n",
       "      <th>Surname</th>\n",
       "      <th>CreditScore</th>\n",
       "      <th>Geography</th>\n",
       "      <th>Gender</th>\n",
       "      <th>Age</th>\n",
       "      <th>Tenure</th>\n",
       "      <th>Balance</th>\n",
       "      <th>NumOfProducts</th>\n",
       "      <th>HasCrCard</th>\n",
       "      <th>IsActiveMember</th>\n",
       "      <th>EstimatedSalary</th>\n",
       "      <th>Exited</th>\n",
       "    </tr>\n",
       "  </thead>\n",
       "  <tbody>\n",
       "    <tr>\n",
       "      <th>0</th>\n",
       "      <td>1</td>\n",
       "      <td>15634602</td>\n",
       "      <td>Hargrave</td>\n",
       "      <td>619</td>\n",
       "      <td>France</td>\n",
       "      <td>Female</td>\n",
       "      <td>42</td>\n",
       "      <td>2</td>\n",
       "      <td>0.00</td>\n",
       "      <td>1</td>\n",
       "      <td>1</td>\n",
       "      <td>1</td>\n",
       "      <td>101348.88</td>\n",
       "      <td>1</td>\n",
       "    </tr>\n",
       "    <tr>\n",
       "      <th>1</th>\n",
       "      <td>2</td>\n",
       "      <td>15647311</td>\n",
       "      <td>Hill</td>\n",
       "      <td>608</td>\n",
       "      <td>Spain</td>\n",
       "      <td>Female</td>\n",
       "      <td>41</td>\n",
       "      <td>1</td>\n",
       "      <td>83807.86</td>\n",
       "      <td>1</td>\n",
       "      <td>0</td>\n",
       "      <td>1</td>\n",
       "      <td>112542.58</td>\n",
       "      <td>0</td>\n",
       "    </tr>\n",
       "    <tr>\n",
       "      <th>2</th>\n",
       "      <td>3</td>\n",
       "      <td>15619304</td>\n",
       "      <td>Onio</td>\n",
       "      <td>502</td>\n",
       "      <td>France</td>\n",
       "      <td>Female</td>\n",
       "      <td>42</td>\n",
       "      <td>8</td>\n",
       "      <td>159660.80</td>\n",
       "      <td>3</td>\n",
       "      <td>1</td>\n",
       "      <td>0</td>\n",
       "      <td>113931.57</td>\n",
       "      <td>1</td>\n",
       "    </tr>\n",
       "    <tr>\n",
       "      <th>3</th>\n",
       "      <td>4</td>\n",
       "      <td>15701354</td>\n",
       "      <td>Boni</td>\n",
       "      <td>699</td>\n",
       "      <td>France</td>\n",
       "      <td>Female</td>\n",
       "      <td>39</td>\n",
       "      <td>1</td>\n",
       "      <td>0.00</td>\n",
       "      <td>2</td>\n",
       "      <td>0</td>\n",
       "      <td>0</td>\n",
       "      <td>93826.63</td>\n",
       "      <td>0</td>\n",
       "    </tr>\n",
       "    <tr>\n",
       "      <th>4</th>\n",
       "      <td>5</td>\n",
       "      <td>15737888</td>\n",
       "      <td>Mitchell</td>\n",
       "      <td>850</td>\n",
       "      <td>Spain</td>\n",
       "      <td>Female</td>\n",
       "      <td>43</td>\n",
       "      <td>2</td>\n",
       "      <td>125510.82</td>\n",
       "      <td>1</td>\n",
       "      <td>1</td>\n",
       "      <td>1</td>\n",
       "      <td>79084.10</td>\n",
       "      <td>0</td>\n",
       "    </tr>\n",
       "  </tbody>\n",
       "</table>\n",
       "</div>"
      ],
      "text/plain": [
       "   RowNumber  CustomerId   Surname  CreditScore Geography  Gender  Age  \\\n",
       "0          1    15634602  Hargrave          619    France  Female   42   \n",
       "1          2    15647311      Hill          608     Spain  Female   41   \n",
       "2          3    15619304      Onio          502    France  Female   42   \n",
       "3          4    15701354      Boni          699    France  Female   39   \n",
       "4          5    15737888  Mitchell          850     Spain  Female   43   \n",
       "\n",
       "   Tenure    Balance  NumOfProducts  HasCrCard  IsActiveMember  \\\n",
       "0       2       0.00              1          1               1   \n",
       "1       1   83807.86              1          0               1   \n",
       "2       8  159660.80              3          1               0   \n",
       "3       1       0.00              2          0               0   \n",
       "4       2  125510.82              1          1               1   \n",
       "\n",
       "   EstimatedSalary  Exited  \n",
       "0        101348.88       1  \n",
       "1        112542.58       0  \n",
       "2        113931.57       1  \n",
       "3         93826.63       0  \n",
       "4         79084.10       0  "
      ]
     },
     "execution_count": 3,
     "metadata": {},
     "output_type": "execute_result"
    }
   ],
   "source": [
    "df.head()"
   ]
  },
  {
   "cell_type": "code",
   "execution_count": 4,
   "metadata": {},
   "outputs": [
    {
     "name": "stdout",
     "output_type": "stream",
     "text": [
      "<class 'pandas.core.frame.DataFrame'>\n",
      "RangeIndex: 10000 entries, 0 to 9999\n",
      "Data columns (total 14 columns):\n",
      " #   Column           Non-Null Count  Dtype  \n",
      "---  ------           --------------  -----  \n",
      " 0   RowNumber        10000 non-null  int64  \n",
      " 1   CustomerId       10000 non-null  int64  \n",
      " 2   Surname          10000 non-null  object \n",
      " 3   CreditScore      10000 non-null  int64  \n",
      " 4   Geography        10000 non-null  object \n",
      " 5   Gender           10000 non-null  object \n",
      " 6   Age              10000 non-null  int64  \n",
      " 7   Tenure           10000 non-null  int64  \n",
      " 8   Balance          10000 non-null  float64\n",
      " 9   NumOfProducts    10000 non-null  int64  \n",
      " 10  HasCrCard        10000 non-null  int64  \n",
      " 11  IsActiveMember   10000 non-null  int64  \n",
      " 12  EstimatedSalary  10000 non-null  float64\n",
      " 13  Exited           10000 non-null  int64  \n",
      "dtypes: float64(2), int64(9), object(3)\n",
      "memory usage: 1.1+ MB\n"
     ]
    }
   ],
   "source": [
    "df.info()"
   ]
  },
  {
   "cell_type": "markdown",
   "metadata": {},
   "source": [
    "В таблице присутствуют пять столбцов. Два стобца имеют тип данных `float`, девять тип данных `int` и 3 столбца тип данных `object`."
   ]
  },
  {
   "cell_type": "markdown",
   "metadata": {},
   "source": [
    "Выведите на экран названия столбцов:"
   ]
  },
  {
   "cell_type": "code",
   "execution_count": 5,
   "metadata": {},
   "outputs": [
    {
     "data": {
      "text/plain": [
       "Index(['RowNumber', 'CustomerId', 'Surname', 'CreditScore', 'Geography',\n",
       "       'Gender', 'Age', 'Tenure', 'Balance', 'NumOfProducts', 'HasCrCard',\n",
       "       'IsActiveMember', 'EstimatedSalary', 'Exited'],\n",
       "      dtype='object')"
      ]
     },
     "execution_count": 5,
     "metadata": {},
     "output_type": "execute_result"
    }
   ],
   "source": [
    "df.columns"
   ]
  },
  {
   "cell_type": "markdown",
   "metadata": {},
   "source": [
    "Приведите названия в соответствие с хорошим стилем:"
   ]
  },
  {
   "cell_type": "code",
   "execution_count": 6,
   "metadata": {},
   "outputs": [],
   "source": [
    "df = df.rename(columns={'RowNumber': 'row_number', 'CustomerId': 'customer_id', 'Surname': 'surname',\n",
    "                        'CreditScore': 'credit_score', 'Geography': 'geography', 'Gender': 'gender',\n",
    "                        'Age': 'age', 'Tenure': 'tenure', 'Balance': 'balance', 'NumOfProducts': 'num_of_products',\n",
    "                        'HasCrCard': 'has_cr_card', 'IsActiveMember': 'is_active_member', 'EstimatedSalary': 'estimated_salary',\n",
    "                        'Exited': 'exited'})"
   ]
  },
  {
   "cell_type": "markdown",
   "metadata": {},
   "source": [
    "Проверьте результат. Для этого ещё раз выведите на экран названия столбцов:"
   ]
  },
  {
   "cell_type": "code",
   "execution_count": 7,
   "metadata": {},
   "outputs": [
    {
     "data": {
      "text/plain": [
       "Index(['row_number', 'customer_id', 'surname', 'credit_score', 'geography',\n",
       "       'gender', 'age', 'tenure', 'balance', 'num_of_products', 'has_cr_card',\n",
       "       'is_active_member', 'estimated_salary', 'exited'],\n",
       "      dtype='object')"
      ]
     },
     "execution_count": 7,
     "metadata": {},
     "output_type": "execute_result"
    }
   ],
   "source": [
    "df.columns"
   ]
  },
  {
   "cell_type": "markdown",
   "metadata": {},
   "source": [
    "Согласно документации к данным:"
   ]
  },
  {
   "cell_type": "markdown",
   "metadata": {},
   "source": [
    "**Признаки**\n",
    "- `row_number` — индекс строки в данных\n",
    "- `customer_id` — уникальный идентификатор клиента\n",
    "- `surname` — фамилия\n",
    "- `credit_score` — кредитный рейтинг\n",
    "- `geography` — страна проживания\n",
    "- `gender` — пол\n",
    "- `age` — возраст\n",
    "- `tenure` — сколько лет человек является клиентом банка\n",
    "- `balance` — баланс на счёте\n",
    "- `num_of_products` — количество продуктов банка, используемых клиентом\n",
    "- `has_cr_card` — наличие кредитной карты\n",
    "- `is_active_member` — активность клиента\n",
    "- `estimated_salary` — предполагаемая зарплата\n",
    "\n",
    "**Целевой признак**\n",
    "- `exited` — факт ухода клиента"
   ]
  },
  {
   "cell_type": "markdown",
   "metadata": {},
   "source": [
    "### Предобработка данных"
   ]
  },
  {
   "cell_type": "markdown",
   "metadata": {},
   "source": [
    "Столбец `customer_id` содержит информацию об уникальном идентификаторе клиента. Он не несет особой ценности для изучения модели, но может быть полезен при поиске дубликатов. "
   ]
  },
  {
   "cell_type": "code",
   "execution_count": 8,
   "metadata": {},
   "outputs": [
    {
     "data": {
      "text/plain": [
       "10000"
      ]
     },
     "execution_count": 8,
     "metadata": {},
     "output_type": "execute_result"
    }
   ],
   "source": [
    "df['customer_id'].value_counts().sum()"
   ]
  },
  {
   "cell_type": "markdown",
   "metadata": {},
   "source": [
    "В столбце `customer_id` получено 10000 уникальных значений, что равняется общему количеству строк, значит дубликатов нет. После проверки столбец можно удалить. Также можно удалить столбец `row_number`, который дублирует индексы датафрейма, и столбец `surname`, который усложнит обучении модели, но не несет никакой ценности. "
   ]
  },
  {
   "cell_type": "code",
   "execution_count": 9,
   "metadata": {
    "scrolled": true
   },
   "outputs": [
    {
     "data": {
      "text/html": [
       "<div>\n",
       "<style scoped>\n",
       "    .dataframe tbody tr th:only-of-type {\n",
       "        vertical-align: middle;\n",
       "    }\n",
       "\n",
       "    .dataframe tbody tr th {\n",
       "        vertical-align: top;\n",
       "    }\n",
       "\n",
       "    .dataframe thead th {\n",
       "        text-align: right;\n",
       "    }\n",
       "</style>\n",
       "<table border=\"1\" class=\"dataframe\">\n",
       "  <thead>\n",
       "    <tr style=\"text-align: right;\">\n",
       "      <th></th>\n",
       "      <th>credit_score</th>\n",
       "      <th>geography</th>\n",
       "      <th>gender</th>\n",
       "      <th>age</th>\n",
       "      <th>tenure</th>\n",
       "      <th>balance</th>\n",
       "      <th>num_of_products</th>\n",
       "      <th>has_cr_card</th>\n",
       "      <th>is_active_member</th>\n",
       "      <th>estimated_salary</th>\n",
       "      <th>exited</th>\n",
       "    </tr>\n",
       "  </thead>\n",
       "  <tbody>\n",
       "    <tr>\n",
       "      <th>0</th>\n",
       "      <td>619</td>\n",
       "      <td>France</td>\n",
       "      <td>Female</td>\n",
       "      <td>42</td>\n",
       "      <td>2</td>\n",
       "      <td>0.00</td>\n",
       "      <td>1</td>\n",
       "      <td>1</td>\n",
       "      <td>1</td>\n",
       "      <td>101348.88</td>\n",
       "      <td>1</td>\n",
       "    </tr>\n",
       "    <tr>\n",
       "      <th>1</th>\n",
       "      <td>608</td>\n",
       "      <td>Spain</td>\n",
       "      <td>Female</td>\n",
       "      <td>41</td>\n",
       "      <td>1</td>\n",
       "      <td>83807.86</td>\n",
       "      <td>1</td>\n",
       "      <td>0</td>\n",
       "      <td>1</td>\n",
       "      <td>112542.58</td>\n",
       "      <td>0</td>\n",
       "    </tr>\n",
       "    <tr>\n",
       "      <th>2</th>\n",
       "      <td>502</td>\n",
       "      <td>France</td>\n",
       "      <td>Female</td>\n",
       "      <td>42</td>\n",
       "      <td>8</td>\n",
       "      <td>159660.80</td>\n",
       "      <td>3</td>\n",
       "      <td>1</td>\n",
       "      <td>0</td>\n",
       "      <td>113931.57</td>\n",
       "      <td>1</td>\n",
       "    </tr>\n",
       "    <tr>\n",
       "      <th>3</th>\n",
       "      <td>699</td>\n",
       "      <td>France</td>\n",
       "      <td>Female</td>\n",
       "      <td>39</td>\n",
       "      <td>1</td>\n",
       "      <td>0.00</td>\n",
       "      <td>2</td>\n",
       "      <td>0</td>\n",
       "      <td>0</td>\n",
       "      <td>93826.63</td>\n",
       "      <td>0</td>\n",
       "    </tr>\n",
       "    <tr>\n",
       "      <th>4</th>\n",
       "      <td>850</td>\n",
       "      <td>Spain</td>\n",
       "      <td>Female</td>\n",
       "      <td>43</td>\n",
       "      <td>2</td>\n",
       "      <td>125510.82</td>\n",
       "      <td>1</td>\n",
       "      <td>1</td>\n",
       "      <td>1</td>\n",
       "      <td>79084.10</td>\n",
       "      <td>0</td>\n",
       "    </tr>\n",
       "  </tbody>\n",
       "</table>\n",
       "</div>"
      ],
      "text/plain": [
       "   credit_score geography  gender  age  tenure    balance  num_of_products  \\\n",
       "0           619    France  Female   42       2       0.00                1   \n",
       "1           608     Spain  Female   41       1   83807.86                1   \n",
       "2           502    France  Female   42       8  159660.80                3   \n",
       "3           699    France  Female   39       1       0.00                2   \n",
       "4           850     Spain  Female   43       2  125510.82                1   \n",
       "\n",
       "   has_cr_card  is_active_member  estimated_salary  exited  \n",
       "0            1                 1         101348.88       1  \n",
       "1            0                 1         112542.58       0  \n",
       "2            1                 0         113931.57       1  \n",
       "3            0                 0          93826.63       0  \n",
       "4            1                 1          79084.10       0  "
      ]
     },
     "execution_count": 9,
     "metadata": {},
     "output_type": "execute_result"
    }
   ],
   "source": [
    "data = df.drop(['customer_id', 'row_number', 'surname'], axis=1)\n",
    "data.head()"
   ]
  },
  {
   "cell_type": "markdown",
   "metadata": {},
   "source": [
    "Проверим количество уникальных значений в столбце `geography`, `gender`"
   ]
  },
  {
   "cell_type": "code",
   "execution_count": 10,
   "metadata": {},
   "outputs": [
    {
     "data": {
      "text/plain": [
       "array(['France', 'Spain', 'Germany'], dtype=object)"
      ]
     },
     "execution_count": 10,
     "metadata": {},
     "output_type": "execute_result"
    }
   ],
   "source": [
    "data['geography'].unique()"
   ]
  },
  {
   "cell_type": "code",
   "execution_count": 11,
   "metadata": {},
   "outputs": [
    {
     "data": {
      "text/plain": [
       "array(['Female', 'Male'], dtype=object)"
      ]
     },
     "execution_count": 11,
     "metadata": {},
     "output_type": "execute_result"
    }
   ],
   "source": [
    "data['gender'].unique()"
   ]
  },
  {
   "cell_type": "markdown",
   "metadata": {},
   "source": [
    "Неявных дубликатов нет, все данные представленны корректно"
   ]
  },
  {
   "cell_type": "markdown",
   "metadata": {},
   "source": [
    "### Кодирование"
   ]
  },
  {
   "cell_type": "markdown",
   "metadata": {},
   "source": [
    "Преобразуем категориальные признаки в численные техникой прямого кодирования (OHE)."
   ]
  },
  {
   "cell_type": "code",
   "execution_count": 12,
   "metadata": {},
   "outputs": [],
   "source": [
    "data_0 = pd.get_dummies(data, drop_first=True)"
   ]
  },
  {
   "cell_type": "code",
   "execution_count": 13,
   "metadata": {},
   "outputs": [
    {
     "data": {
      "text/html": [
       "<div>\n",
       "<style scoped>\n",
       "    .dataframe tbody tr th:only-of-type {\n",
       "        vertical-align: middle;\n",
       "    }\n",
       "\n",
       "    .dataframe tbody tr th {\n",
       "        vertical-align: top;\n",
       "    }\n",
       "\n",
       "    .dataframe thead th {\n",
       "        text-align: right;\n",
       "    }\n",
       "</style>\n",
       "<table border=\"1\" class=\"dataframe\">\n",
       "  <thead>\n",
       "    <tr style=\"text-align: right;\">\n",
       "      <th></th>\n",
       "      <th>credit_score</th>\n",
       "      <th>age</th>\n",
       "      <th>tenure</th>\n",
       "      <th>balance</th>\n",
       "      <th>num_of_products</th>\n",
       "      <th>has_cr_card</th>\n",
       "      <th>is_active_member</th>\n",
       "      <th>estimated_salary</th>\n",
       "      <th>exited</th>\n",
       "      <th>geography_Germany</th>\n",
       "      <th>geography_Spain</th>\n",
       "      <th>gender_Male</th>\n",
       "    </tr>\n",
       "  </thead>\n",
       "  <tbody>\n",
       "    <tr>\n",
       "      <th>0</th>\n",
       "      <td>619</td>\n",
       "      <td>42</td>\n",
       "      <td>2</td>\n",
       "      <td>0.00</td>\n",
       "      <td>1</td>\n",
       "      <td>1</td>\n",
       "      <td>1</td>\n",
       "      <td>101348.88</td>\n",
       "      <td>1</td>\n",
       "      <td>0</td>\n",
       "      <td>0</td>\n",
       "      <td>0</td>\n",
       "    </tr>\n",
       "    <tr>\n",
       "      <th>1</th>\n",
       "      <td>608</td>\n",
       "      <td>41</td>\n",
       "      <td>1</td>\n",
       "      <td>83807.86</td>\n",
       "      <td>1</td>\n",
       "      <td>0</td>\n",
       "      <td>1</td>\n",
       "      <td>112542.58</td>\n",
       "      <td>0</td>\n",
       "      <td>0</td>\n",
       "      <td>1</td>\n",
       "      <td>0</td>\n",
       "    </tr>\n",
       "    <tr>\n",
       "      <th>2</th>\n",
       "      <td>502</td>\n",
       "      <td>42</td>\n",
       "      <td>8</td>\n",
       "      <td>159660.80</td>\n",
       "      <td>3</td>\n",
       "      <td>1</td>\n",
       "      <td>0</td>\n",
       "      <td>113931.57</td>\n",
       "      <td>1</td>\n",
       "      <td>0</td>\n",
       "      <td>0</td>\n",
       "      <td>0</td>\n",
       "    </tr>\n",
       "    <tr>\n",
       "      <th>3</th>\n",
       "      <td>699</td>\n",
       "      <td>39</td>\n",
       "      <td>1</td>\n",
       "      <td>0.00</td>\n",
       "      <td>2</td>\n",
       "      <td>0</td>\n",
       "      <td>0</td>\n",
       "      <td>93826.63</td>\n",
       "      <td>0</td>\n",
       "      <td>0</td>\n",
       "      <td>0</td>\n",
       "      <td>0</td>\n",
       "    </tr>\n",
       "    <tr>\n",
       "      <th>4</th>\n",
       "      <td>850</td>\n",
       "      <td>43</td>\n",
       "      <td>2</td>\n",
       "      <td>125510.82</td>\n",
       "      <td>1</td>\n",
       "      <td>1</td>\n",
       "      <td>1</td>\n",
       "      <td>79084.10</td>\n",
       "      <td>0</td>\n",
       "      <td>0</td>\n",
       "      <td>1</td>\n",
       "      <td>0</td>\n",
       "    </tr>\n",
       "    <tr>\n",
       "      <th>...</th>\n",
       "      <td>...</td>\n",
       "      <td>...</td>\n",
       "      <td>...</td>\n",
       "      <td>...</td>\n",
       "      <td>...</td>\n",
       "      <td>...</td>\n",
       "      <td>...</td>\n",
       "      <td>...</td>\n",
       "      <td>...</td>\n",
       "      <td>...</td>\n",
       "      <td>...</td>\n",
       "      <td>...</td>\n",
       "    </tr>\n",
       "    <tr>\n",
       "      <th>9995</th>\n",
       "      <td>771</td>\n",
       "      <td>39</td>\n",
       "      <td>5</td>\n",
       "      <td>0.00</td>\n",
       "      <td>2</td>\n",
       "      <td>1</td>\n",
       "      <td>0</td>\n",
       "      <td>96270.64</td>\n",
       "      <td>0</td>\n",
       "      <td>0</td>\n",
       "      <td>0</td>\n",
       "      <td>1</td>\n",
       "    </tr>\n",
       "    <tr>\n",
       "      <th>9996</th>\n",
       "      <td>516</td>\n",
       "      <td>35</td>\n",
       "      <td>10</td>\n",
       "      <td>57369.61</td>\n",
       "      <td>1</td>\n",
       "      <td>1</td>\n",
       "      <td>1</td>\n",
       "      <td>101699.77</td>\n",
       "      <td>0</td>\n",
       "      <td>0</td>\n",
       "      <td>0</td>\n",
       "      <td>1</td>\n",
       "    </tr>\n",
       "    <tr>\n",
       "      <th>9997</th>\n",
       "      <td>709</td>\n",
       "      <td>36</td>\n",
       "      <td>7</td>\n",
       "      <td>0.00</td>\n",
       "      <td>1</td>\n",
       "      <td>0</td>\n",
       "      <td>1</td>\n",
       "      <td>42085.58</td>\n",
       "      <td>1</td>\n",
       "      <td>0</td>\n",
       "      <td>0</td>\n",
       "      <td>0</td>\n",
       "    </tr>\n",
       "    <tr>\n",
       "      <th>9998</th>\n",
       "      <td>772</td>\n",
       "      <td>42</td>\n",
       "      <td>3</td>\n",
       "      <td>75075.31</td>\n",
       "      <td>2</td>\n",
       "      <td>1</td>\n",
       "      <td>0</td>\n",
       "      <td>92888.52</td>\n",
       "      <td>1</td>\n",
       "      <td>1</td>\n",
       "      <td>0</td>\n",
       "      <td>1</td>\n",
       "    </tr>\n",
       "    <tr>\n",
       "      <th>9999</th>\n",
       "      <td>792</td>\n",
       "      <td>28</td>\n",
       "      <td>4</td>\n",
       "      <td>130142.79</td>\n",
       "      <td>1</td>\n",
       "      <td>1</td>\n",
       "      <td>0</td>\n",
       "      <td>38190.78</td>\n",
       "      <td>0</td>\n",
       "      <td>0</td>\n",
       "      <td>0</td>\n",
       "      <td>0</td>\n",
       "    </tr>\n",
       "  </tbody>\n",
       "</table>\n",
       "<p>10000 rows × 12 columns</p>\n",
       "</div>"
      ],
      "text/plain": [
       "      credit_score  age  tenure    balance  num_of_products  has_cr_card  \\\n",
       "0              619   42       2       0.00                1            1   \n",
       "1              608   41       1   83807.86                1            0   \n",
       "2              502   42       8  159660.80                3            1   \n",
       "3              699   39       1       0.00                2            0   \n",
       "4              850   43       2  125510.82                1            1   \n",
       "...            ...  ...     ...        ...              ...          ...   \n",
       "9995           771   39       5       0.00                2            1   \n",
       "9996           516   35      10   57369.61                1            1   \n",
       "9997           709   36       7       0.00                1            0   \n",
       "9998           772   42       3   75075.31                2            1   \n",
       "9999           792   28       4  130142.79                1            1   \n",
       "\n",
       "      is_active_member  estimated_salary  exited  geography_Germany  \\\n",
       "0                    1         101348.88       1                  0   \n",
       "1                    1         112542.58       0                  0   \n",
       "2                    0         113931.57       1                  0   \n",
       "3                    0          93826.63       0                  0   \n",
       "4                    1          79084.10       0                  0   \n",
       "...                ...               ...     ...                ...   \n",
       "9995                 0          96270.64       0                  0   \n",
       "9996                 1         101699.77       0                  0   \n",
       "9997                 1          42085.58       1                  0   \n",
       "9998                 0          92888.52       1                  1   \n",
       "9999                 0          38190.78       0                  0   \n",
       "\n",
       "      geography_Spain  gender_Male  \n",
       "0                   0            0  \n",
       "1                   1            0  \n",
       "2                   0            0  \n",
       "3                   0            0  \n",
       "4                   1            0  \n",
       "...               ...          ...  \n",
       "9995                0            1  \n",
       "9996                0            1  \n",
       "9997                0            0  \n",
       "9998                0            1  \n",
       "9999                0            0  \n",
       "\n",
       "[10000 rows x 12 columns]"
      ]
     },
     "execution_count": 13,
     "metadata": {},
     "output_type": "execute_result"
    }
   ],
   "source": [
    "data_0"
   ]
  },
  {
   "cell_type": "markdown",
   "metadata": {},
   "source": [
    "Образовался новый датафрейм, который подойдет для обучения модели. Категориальные признаки мы преобразовали в численный, у нас получилось 12 столбцов. На основе столбца `geography` мы создали 2 столбца с численными значениями, `gender` в 1 столбец, что позволит избежать дами-ловушек."
   ]
  },
  {
   "cell_type": "markdown",
   "metadata": {},
   "source": [
    "### Разбитие данных на выборки"
   ]
  },
  {
   "cell_type": "markdown",
   "metadata": {},
   "source": [
    "Разобьем данные на три части: обучающую, валидационную и тестовую. Обучающая выборка нужна нам для обучения модели. Валидация подсказывает, как ведёт себя модель в полевых условиях и нет ли переобучения, возможно какие-то параметры стоит изменить. Тестовая выборка нужна нам, чтобы правильно оценить готовую модель.\n",
    "\n",
    "Размеры валидационного и тестового наборов определим как равные. Исходные данные разобьем в соотношении 3:1:1."
   ]
  },
  {
   "cell_type": "code",
   "execution_count": 14,
   "metadata": {},
   "outputs": [
    {
     "data": {
      "text/plain": [
       "(10000, 12)"
      ]
     },
     "execution_count": 14,
     "metadata": {},
     "output_type": "execute_result"
    }
   ],
   "source": [
    "data_0.shape # изучим размер исходной таблицы"
   ]
  },
  {
   "cell_type": "code",
   "execution_count": 15,
   "metadata": {},
   "outputs": [],
   "source": [
    "# обучающая=0.6, валидационная + тестовая = 0.4\n",
    "data_0_train, data_0_valid_test = train_test_split(data_0, test_size=0.4, random_state=12345) \n",
    "# валидационную и тестовую модели делим пополам\n",
    "data_0_valid, data_0_test = train_test_split(data_0_valid_test, test_size=0.5, random_state=12345) "
   ]
  },
  {
   "cell_type": "code",
   "execution_count": 16,
   "metadata": {},
   "outputs": [
    {
     "name": "stdout",
     "output_type": "stream",
     "text": [
      "(6000, 12)\n",
      "(2000, 12)\n",
      "(2000, 12)\n"
     ]
    }
   ],
   "source": [
    "print(data_0_train.shape)\n",
    "print(data_0_valid.shape)\n",
    "print(data_0_test.shape)"
   ]
  },
  {
   "cell_type": "markdown",
   "metadata": {},
   "source": [
    "### Масштабирование признаков"
   ]
  },
  {
   "cell_type": "markdown",
   "metadata": {},
   "source": [
    "Один из методов масштабирования — стандартизация данных. Преобразуем обучающую, валидационную и тестовую выборки функцией `transform()`. Определим признаки и целевой признак для выборок и стандартизируем выборки."
   ]
  },
  {
   "cell_type": "code",
   "execution_count": 17,
   "metadata": {},
   "outputs": [],
   "source": [
    "features_train, features_valid, features_test = (data_0_train.drop('exited', axis=1), data_0_valid.drop('exited', axis=1),\n",
    "                                                 data_0_test.drop('exited', axis=1))\n",
    "target_train, target_valid, target_test = (data_0_train['exited'], data_0_valid['exited'], data_0_test['exited'])"
   ]
  },
  {
   "cell_type": "markdown",
   "metadata": {},
   "source": [
    "В переменную `numeric` сохраним список всех численных признаков."
   ]
  },
  {
   "cell_type": "code",
   "execution_count": 18,
   "metadata": {},
   "outputs": [],
   "source": [
    "numeric = ['credit_score', 'age', 'tenure', 'balance', 'num_of_products', 'has_cr_card', 'is_active_member', 'estimated_salary']"
   ]
  },
  {
   "cell_type": "markdown",
   "metadata": {},
   "source": [
    "Создадим объект структуры `StandardScaler()` и настроим его на обучающих данных."
   ]
  },
  {
   "cell_type": "code",
   "execution_count": 19,
   "metadata": {},
   "outputs": [
    {
     "data": {
      "text/plain": [
       "StandardScaler()"
      ]
     },
     "execution_count": 19,
     "metadata": {},
     "output_type": "execute_result"
    }
   ],
   "source": [
    "scaler = StandardScaler()\n",
    "scaler.fit(features_train[numeric])"
   ]
  },
  {
   "cell_type": "code",
   "execution_count": 20,
   "metadata": {},
   "outputs": [],
   "source": [
    "features_train[numeric] = scaler.transform(features_train[numeric])\n",
    "features_valid[numeric] = scaler.transform(features_valid[numeric])\n",
    "features_test[numeric] = scaler.transform(features_test[numeric])"
   ]
  },
  {
   "cell_type": "markdown",
   "metadata": {},
   "source": [
    "Проверим результат"
   ]
  },
  {
   "cell_type": "code",
   "execution_count": 21,
   "metadata": {
    "scrolled": true
   },
   "outputs": [
    {
     "data": {
      "text/html": [
       "<div>\n",
       "<style scoped>\n",
       "    .dataframe tbody tr th:only-of-type {\n",
       "        vertical-align: middle;\n",
       "    }\n",
       "\n",
       "    .dataframe tbody tr th {\n",
       "        vertical-align: top;\n",
       "    }\n",
       "\n",
       "    .dataframe thead th {\n",
       "        text-align: right;\n",
       "    }\n",
       "</style>\n",
       "<table border=\"1\" class=\"dataframe\">\n",
       "  <thead>\n",
       "    <tr style=\"text-align: right;\">\n",
       "      <th></th>\n",
       "      <th>credit_score</th>\n",
       "      <th>age</th>\n",
       "      <th>tenure</th>\n",
       "      <th>balance</th>\n",
       "      <th>num_of_products</th>\n",
       "      <th>has_cr_card</th>\n",
       "      <th>is_active_member</th>\n",
       "      <th>estimated_salary</th>\n",
       "      <th>geography_Germany</th>\n",
       "      <th>geography_Spain</th>\n",
       "      <th>gender_Male</th>\n",
       "    </tr>\n",
       "  </thead>\n",
       "  <tbody>\n",
       "    <tr>\n",
       "      <th>7479</th>\n",
       "      <td>-0.886751</td>\n",
       "      <td>-0.373192</td>\n",
       "      <td>1.027273</td>\n",
       "      <td>1.232271</td>\n",
       "      <td>-0.891560</td>\n",
       "      <td>0.642466</td>\n",
       "      <td>-1.055187</td>\n",
       "      <td>-0.187705</td>\n",
       "      <td>0</td>\n",
       "      <td>1</td>\n",
       "      <td>1</td>\n",
       "    </tr>\n",
       "    <tr>\n",
       "      <th>3411</th>\n",
       "      <td>0.608663</td>\n",
       "      <td>-0.183385</td>\n",
       "      <td>1.027273</td>\n",
       "      <td>0.600563</td>\n",
       "      <td>-0.891560</td>\n",
       "      <td>-1.556504</td>\n",
       "      <td>-1.055187</td>\n",
       "      <td>-0.333945</td>\n",
       "      <td>0</td>\n",
       "      <td>0</td>\n",
       "      <td>0</td>\n",
       "    </tr>\n",
       "    <tr>\n",
       "      <th>6027</th>\n",
       "      <td>2.052152</td>\n",
       "      <td>0.480939</td>\n",
       "      <td>-0.707790</td>\n",
       "      <td>1.027098</td>\n",
       "      <td>0.830152</td>\n",
       "      <td>-1.556504</td>\n",
       "      <td>0.947699</td>\n",
       "      <td>1.503095</td>\n",
       "      <td>1</td>\n",
       "      <td>0</td>\n",
       "      <td>1</td>\n",
       "    </tr>\n",
       "    <tr>\n",
       "      <th>1247</th>\n",
       "      <td>-1.457915</td>\n",
       "      <td>-1.417129</td>\n",
       "      <td>0.333248</td>\n",
       "      <td>-1.233163</td>\n",
       "      <td>0.830152</td>\n",
       "      <td>0.642466</td>\n",
       "      <td>-1.055187</td>\n",
       "      <td>-1.071061</td>\n",
       "      <td>0</td>\n",
       "      <td>0</td>\n",
       "      <td>1</td>\n",
       "    </tr>\n",
       "    <tr>\n",
       "      <th>3716</th>\n",
       "      <td>0.130961</td>\n",
       "      <td>-1.132419</td>\n",
       "      <td>-1.054802</td>\n",
       "      <td>1.140475</td>\n",
       "      <td>-0.891560</td>\n",
       "      <td>-1.556504</td>\n",
       "      <td>-1.055187</td>\n",
       "      <td>1.524268</td>\n",
       "      <td>1</td>\n",
       "      <td>0</td>\n",
       "      <td>0</td>\n",
       "    </tr>\n",
       "  </tbody>\n",
       "</table>\n",
       "</div>"
      ],
      "text/plain": [
       "      credit_score       age    tenure   balance  num_of_products  \\\n",
       "7479     -0.886751 -0.373192  1.027273  1.232271        -0.891560   \n",
       "3411      0.608663 -0.183385  1.027273  0.600563        -0.891560   \n",
       "6027      2.052152  0.480939 -0.707790  1.027098         0.830152   \n",
       "1247     -1.457915 -1.417129  0.333248 -1.233163         0.830152   \n",
       "3716      0.130961 -1.132419 -1.054802  1.140475        -0.891560   \n",
       "\n",
       "      has_cr_card  is_active_member  estimated_salary  geography_Germany  \\\n",
       "7479     0.642466         -1.055187         -0.187705                  0   \n",
       "3411    -1.556504         -1.055187         -0.333945                  0   \n",
       "6027    -1.556504          0.947699          1.503095                  1   \n",
       "1247     0.642466         -1.055187         -1.071061                  0   \n",
       "3716    -1.556504         -1.055187          1.524268                  1   \n",
       "\n",
       "      geography_Spain  gender_Male  \n",
       "7479                1            1  \n",
       "3411                0            0  \n",
       "6027                0            1  \n",
       "1247                0            1  \n",
       "3716                0            0  "
      ]
     },
     "execution_count": 21,
     "metadata": {},
     "output_type": "execute_result"
    }
   ],
   "source": [
    "features_train.head()"
   ]
  },
  {
   "cell_type": "markdown",
   "metadata": {},
   "source": [
    "## Исследование задачи"
   ]
  },
  {
   "cell_type": "markdown",
   "metadata": {},
   "source": [
    "### Обучение модели и метрика accuracy"
   ]
  },
  {
   "cell_type": "markdown",
   "metadata": {},
   "source": [
    "Исследуем первую модель: **решающее дерево**. В ней выстраивается дерево с ответами «Да»/«Нет» и различными вариантами действий. Создаём объект этой структуры данных. В переменной model будет храниться модель, обучим её на обучающей выборке."
   ]
  },
  {
   "cell_type": "code",
   "execution_count": 22,
   "metadata": {},
   "outputs": [],
   "source": [
    "model = DecisionTreeClassifier() \n",
    "model.fit(features_train, target_train) # выполняем обучение \n",
    "predicted_train = model.predict(features_train) # предсказание"
   ]
  },
  {
   "cell_type": "markdown",
   "metadata": {},
   "source": [
    "Возьмём валидационную выборку. Проверим, как модель справится."
   ]
  },
  {
   "cell_type": "code",
   "execution_count": 23,
   "metadata": {},
   "outputs": [],
   "source": [
    "predicted_valid = model.predict(features_valid)"
   ]
  },
  {
   "cell_type": "markdown",
   "metadata": {},
   "source": [
    "Основной метрикой качества модели является отношение числа правильных ответов к размеру тестируемой выборки и называется accuracy."
   ]
  },
  {
   "cell_type": "code",
   "execution_count": 24,
   "metadata": {},
   "outputs": [
    {
     "data": {
      "text/plain": [
       "0.7925"
      ]
     },
     "execution_count": 24,
     "metadata": {},
     "output_type": "execute_result"
    }
   ],
   "source": [
    "accuracy_score(target_valid, predicted_valid) "
   ]
  },
  {
   "cell_type": "markdown",
   "metadata": {},
   "source": [
    "Модель показала высокое значение точности "
   ]
  },
  {
   "cell_type": "markdown",
   "metadata": {},
   "source": [
    "Исследуем модель **случайный лес**. Алгоритм обучает большое количество независимых друг от друга деревьев, а потом принимает решение на основе голосования. Случайный лес помогает улучшить результат предсказания и избежать переобучения."
   ]
  },
  {
   "cell_type": "markdown",
   "metadata": {},
   "source": [
    "Обучим модель и проверим результаты на валидационной выборке."
   ]
  },
  {
   "cell_type": "code",
   "execution_count": 25,
   "metadata": {},
   "outputs": [
    {
     "data": {
      "text/plain": [
       "0.9646666666666667"
      ]
     },
     "execution_count": 25,
     "metadata": {},
     "output_type": "execute_result"
    }
   ],
   "source": [
    "model = RandomForestClassifier(random_state=12345, n_estimators=3) \n",
    "model.fit(features_train, target_train)\n",
    "predicted_train = model.predict(features_train)\n",
    "model.score(features_train, target_train)"
   ]
  },
  {
   "cell_type": "code",
   "execution_count": 26,
   "metadata": {},
   "outputs": [
    {
     "data": {
      "text/plain": [
       "0.824"
      ]
     },
     "execution_count": 26,
     "metadata": {},
     "output_type": "execute_result"
    }
   ],
   "source": [
    "predicted_valid = model.predict(features_valid) \n",
    "model.score(features_valid, target_valid) "
   ]
  },
  {
   "cell_type": "markdown",
   "metadata": {},
   "source": [
    "Модель показала высокое значение точности."
   ]
  },
  {
   "cell_type": "markdown",
   "metadata": {},
   "source": [
    "Перейдем к следующей модели **логистическая регрессия**. Добавим дополнительные гиперпараметры: solver='lbfgs' и max_iter=1000. Первый гиперпараметр позволяет выбрать алгоритм, который будет строить модель. Алгоритм 'lbfgs' — один из самых распространённых. Гиперпараметром max_iter задаётся максимальное количество итераций обучения."
   ]
  },
  {
   "cell_type": "code",
   "execution_count": 27,
   "metadata": {},
   "outputs": [
    {
     "data": {
      "text/plain": [
       "0.818"
      ]
     },
     "execution_count": 27,
     "metadata": {},
     "output_type": "execute_result"
    }
   ],
   "source": [
    "model = LogisticRegression(random_state=12345, solver='lbfgs', max_iter=1000) \n",
    "model.fit(features_train, target_train) \n",
    "predicted_train = model.predict(features_train) \n",
    "model.score(features_train, target_train) "
   ]
  },
  {
   "cell_type": "code",
   "execution_count": 28,
   "metadata": {},
   "outputs": [
    {
     "data": {
      "text/plain": [
       "0.8025"
      ]
     },
     "execution_count": 28,
     "metadata": {},
     "output_type": "execute_result"
    }
   ],
   "source": [
    "predicted_valid = model.predict(features_valid) \n",
    "model.score(features_valid, target_valid) "
   ]
  },
  {
   "cell_type": "markdown",
   "metadata": {},
   "source": [
    "Значение точности также достаточно высокое"
   ]
  },
  {
   "cell_type": "markdown",
   "metadata": {},
   "source": [
    "### Проверка адекватности модели"
   ]
  },
  {
   "cell_type": "markdown",
   "metadata": {},
   "source": [
    "Чтобы оценить адекватность модели, проверим, как часто в целевом признаке встречается класс «1» или «0»."
   ]
  },
  {
   "cell_type": "code",
   "execution_count": 29,
   "metadata": {},
   "outputs": [
    {
     "name": "stdout",
     "output_type": "stream",
     "text": [
      "0    0.7963\n",
      "1    0.2037\n",
      "Name: exited, dtype: float64\n"
     ]
    }
   ],
   "source": [
    "class_frequency = data_0['exited'].value_counts(normalize=True)\n",
    "print(class_frequency)"
   ]
  },
  {
   "cell_type": "markdown",
   "metadata": {},
   "source": [
    "Класс «0» в целевом признаке встречается в 4 раза чаще, чем класс «1». Можно говорить о дисбалансе классов, что негативно отражается на обучении модели и итоговом результате."
   ]
  },
  {
   "cell_type": "code",
   "execution_count": 30,
   "metadata": {},
   "outputs": [
    {
     "data": {
      "image/png": "[encoded data removed]",
      "text/plain": [
       "<Figure size 432x288 with 1 Axes>"
      ]
     },
     "metadata": {
      "needs_background": "light"
     },
     "output_type": "display_data"
    }
   ],
   "source": [
    "class_frequency.plot(kind='bar');"
   ]
  },
  {
   "cell_type": "markdown",
   "metadata": {},
   "source": [
    "Проанализируем частоты классов в результатах предсказаний наших моделей."
   ]
  },
  {
   "cell_type": "markdown",
   "metadata": {},
   "source": [
    "- **Решающее дерево**"
   ]
  },
  {
   "cell_type": "code",
   "execution_count": 31,
   "metadata": {},
   "outputs": [],
   "source": [
    "model = DecisionTreeClassifier() \n",
    "model.fit(features_train, target_train) # выполняем обучение \n",
    "predicted_train = model.predict(features_train) # предсказание"
   ]
  },
  {
   "cell_type": "code",
   "execution_count": 32,
   "metadata": {},
   "outputs": [
    {
     "data": {
      "text/plain": [
       "0    0.7885\n",
       "1    0.2115\n",
       "dtype: float64"
      ]
     },
     "execution_count": 32,
     "metadata": {},
     "output_type": "execute_result"
    }
   ],
   "source": [
    "predicted_valid = pd.Series(model.predict(features_valid))\n",
    "class_frequency = predicted_valid.value_counts(normalize=True)\n",
    "class_frequency"
   ]
  },
  {
   "cell_type": "code",
   "execution_count": 33,
   "metadata": {},
   "outputs": [
    {
     "data": {
      "image/png": "[encoded data removed]",
      "text/plain": [
       "<Figure size 432x288 with 1 Axes>"
      ]
     },
     "metadata": {
      "needs_background": "light"
     },
     "output_type": "display_data"
    }
   ],
   "source": [
    "class_frequency.plot(kind='bar');"
   ]
  },
  {
   "cell_type": "markdown",
   "metadata": {},
   "source": [
    "- **Случайный лес**"
   ]
  },
  {
   "cell_type": "code",
   "execution_count": 34,
   "metadata": {},
   "outputs": [],
   "source": [
    "model = RandomForestClassifier(random_state=12345, n_estimators=3) \n",
    "model.fit(features_train, target_train)\n",
    "predicted_train = model.predict(features_train)"
   ]
  },
  {
   "cell_type": "code",
   "execution_count": 35,
   "metadata": {},
   "outputs": [
    {
     "data": {
      "text/plain": [
       "0    0.828\n",
       "1    0.172\n",
       "dtype: float64"
      ]
     },
     "execution_count": 35,
     "metadata": {},
     "output_type": "execute_result"
    }
   ],
   "source": [
    "predicted_valid = pd.Series(model.predict(features_valid))\n",
    "class_frequency = predicted_valid.value_counts(normalize=True)\n",
    "class_frequency"
   ]
  },
  {
   "cell_type": "code",
   "execution_count": 36,
   "metadata": {},
   "outputs": [
    {
     "data": {
      "image/png": "[encoded data removed]",
      "text/plain": [
       "<Figure size 432x288 with 1 Axes>"
      ]
     },
     "metadata": {
      "needs_background": "light"
     },
     "output_type": "display_data"
    }
   ],
   "source": [
    "class_frequency.plot(kind='bar');"
   ]
  },
  {
   "cell_type": "markdown",
   "metadata": {},
   "source": [
    "- **Логистическая регрессия**"
   ]
  },
  {
   "cell_type": "code",
   "execution_count": 37,
   "metadata": {},
   "outputs": [],
   "source": [
    "model = LogisticRegression(random_state=12345, solver='lbfgs', max_iter=1000) \n",
    "model.fit(features_train, target_train) \n",
    "predicted_train = model.predict(features_train) "
   ]
  },
  {
   "cell_type": "code",
   "execution_count": 38,
   "metadata": {},
   "outputs": [
    {
     "data": {
      "text/plain": [
       "0    0.9135\n",
       "1    0.0865\n",
       "dtype: float64"
      ]
     },
     "execution_count": 38,
     "metadata": {},
     "output_type": "execute_result"
    }
   ],
   "source": [
    "predicted_valid = pd.Series(model.predict(features_valid))\n",
    "class_frequency = predicted_valid.value_counts(normalize=True)\n",
    "class_frequency"
   ]
  },
  {
   "cell_type": "code",
   "execution_count": 39,
   "metadata": {},
   "outputs": [
    {
     "data": {
      "image/png": "[encoded data removed]",
      "text/plain": [
       "<Figure size 432x288 with 1 Axes>"
      ]
     },
     "metadata": {
      "needs_background": "light"
     },
     "output_type": "display_data"
    }
   ],
   "source": [
    "class_frequency.plot(kind='bar');"
   ]
  },
  {
   "cell_type": "markdown",
   "metadata": {},
   "source": [
    "Во всех моделях наблюдается серьезный дисбаланс классов. "
   ]
  },
  {
   "cell_type": "markdown",
   "metadata": {},
   "source": [
    "Создадим константную модель и проверим уровень точности. "
   ]
  },
  {
   "cell_type": "code",
   "execution_count": 40,
   "metadata": {},
   "outputs": [
    {
     "data": {
      "text/plain": [
       "0.791"
      ]
     },
     "execution_count": 40,
     "metadata": {},
     "output_type": "execute_result"
    }
   ],
   "source": [
    "target_pred_constant = pd.Series([0]*len(target_valid))\n",
    "\n",
    "accuracy_score(target_valid, target_pred_constant)"
   ]
  },
  {
   "cell_type": "markdown",
   "metadata": {},
   "source": [
    "Резульат константной модели почти не отличается от результата у используемых моделей. Модель не прошла проверку на адекватность. Высокая доля правильных ответов, не дает понимания уйдет клиент или нет. Наблюдается сильный дисбаланс классов, что плохо сказывается на обучении модели. Классы несбалансированны, когда их соотношение далеко от 1:1. Баланс классов наблюдается, если их количество примерно равно. Accuracy не подходит для оценки качества модели."
   ]
  },
  {
   "cell_type": "markdown",
   "metadata": {},
   "source": [
    "### Оценка качества"
   ]
  },
  {
   "cell_type": "markdown",
   "metadata": {},
   "source": [
    "#### Решающее дерево"
   ]
  },
  {
   "cell_type": "code",
   "execution_count": 41,
   "metadata": {},
   "outputs": [],
   "source": [
    "model = DecisionTreeClassifier() \n",
    "model.fit(features_train, target_train) \n",
    "predicted_train = model.predict(features_train) \n",
    "predicted_valid = model.predict(features_valid)"
   ]
  },
  {
   "cell_type": "markdown",
   "metadata": {},
   "source": [
    "- Полнота"
   ]
  },
  {
   "cell_type": "markdown",
   "metadata": {},
   "source": [
    "Полнота выявляет, какую долю положительных среди всех ответов выделила модель."
   ]
  },
  {
   "cell_type": "code",
   "execution_count": 42,
   "metadata": {},
   "outputs": [
    {
     "data": {
      "text/plain": [
       "0.5023923444976076"
      ]
     },
     "execution_count": 42,
     "metadata": {},
     "output_type": "execute_result"
    }
   ],
   "source": [
    "recall_score(target_valid, predicted_valid)"
   ]
  },
  {
   "cell_type": "markdown",
   "metadata": {},
   "source": [
    "Чем ближе значение к единице, тем лучше (модель хорошо ищет положительные объекты). "
   ]
  },
  {
   "cell_type": "markdown",
   "metadata": {},
   "source": [
    "- Точность"
   ]
  },
  {
   "cell_type": "markdown",
   "metadata": {},
   "source": [
    "Точность определяет, как много отрицательных ответов нашла модель, пока искала положительные. Чем больше отрицательных, тем ниже точность."
   ]
  },
  {
   "cell_type": "code",
   "execution_count": 43,
   "metadata": {},
   "outputs": [
    {
     "data": {
      "text/plain": [
       "0.5072463768115942"
      ]
     },
     "execution_count": 43,
     "metadata": {},
     "output_type": "execute_result"
    }
   ],
   "source": [
    "precision_score(target_valid, predicted_valid)"
   ]
  },
  {
   "cell_type": "markdown",
   "metadata": {},
   "source": [
    "Чем ближе значение к единице, тем лучше. "
   ]
  },
  {
   "cell_type": "markdown",
   "metadata": {},
   "source": [
    "- F-1 мера"
   ]
  },
  {
   "cell_type": "markdown",
   "metadata": {},
   "source": [
    "F1-мера - это среднее гармоническое полноты и точности. Когда полнота или точность близки к нулю, то к 0 приближается и само среднее гармоническое."
   ]
  },
  {
   "cell_type": "code",
   "execution_count": 44,
   "metadata": {},
   "outputs": [
    {
     "data": {
      "text/plain": [
       "0.5048076923076923"
      ]
     },
     "execution_count": 44,
     "metadata": {},
     "output_type": "execute_result"
    }
   ],
   "source": [
    "f1_score(target_valid, predicted_valid)"
   ]
  },
  {
   "cell_type": "markdown",
   "metadata": {},
   "source": [
    "Если положительный класс плохо прогнозируется по одной из метрик (Полнота или Точность), то близкая к нулю F1-мера покажет, что прогноз класса 1 не удался."
   ]
  },
  {
   "cell_type": "markdown",
   "metadata": {},
   "source": [
    "- ROC-кривая"
   ]
  },
  {
   "cell_type": "code",
   "execution_count": 45,
   "metadata": {},
   "outputs": [
    {
     "data": {
      "image/png": "[encoded data removed]",
      "text/plain": [
       "<Figure size 432x288 with 1 Axes>"
      ]
     },
     "metadata": {
      "needs_background": "light"
     },
     "output_type": "display_data"
    }
   ],
   "source": [
    "probabilities_valid = model.predict_proba(features_valid)\n",
    "probabilities_one_valid = probabilities_valid[:, 1]\n",
    "\n",
    "fpr, tpr, thresholds = roc_curve(target_valid, probabilities_one_valid)\n",
    "plt.figure()\n",
    "plt.plot([0, 1], [0, 1], linestyle='--')\n",
    "plt.plot(fpr, tpr)\n",
    "# < применим функции plt.xlim() и plt.ylim(), чтобы\n",
    "#   установим границы осей от 0 до 1 >\n",
    "plt.xlim([0.0, 1.0])\n",
    "plt.ylim([0.0, 1.0])\n",
    "# < применим функции plt.xlabel() и plt.ylabel(), чтобы\n",
    "#   подписать оси \"False Positive Rate\" и \"True Positive Rate\" >\n",
    "plt.xlabel('False Positive Rate')\n",
    "plt.ylabel('True Positive Rate')\n",
    "# < добавим к графику заголовок plt.title() >\n",
    "plt.title('ROC-кривая')\n",
    "plt.show()"
   ]
  },
  {
   "cell_type": "markdown",
   "metadata": {},
   "source": [
    "Для модели, которая всегда отвечает случайно, ROC-кривая выглядит как прямая, идущая из левого нижнего угла в верхний правый. Чем график выше, тем лучше качество модели."
   ]
  },
  {
   "cell_type": "markdown",
   "metadata": {},
   "source": [
    "- AUC-ROC"
   ]
  },
  {
   "cell_type": "markdown",
   "metadata": {},
   "source": [
    "Чтобы выявить, как сильно наша модель отличается от случайной, посчитаем площадь под ROC-кривой — **AUC-ROC**. Это метрика качества, которая изменяется от 0 до 1. **AUC-ROC** случайной модели равна 0.5."
   ]
  },
  {
   "cell_type": "code",
   "execution_count": 46,
   "metadata": {},
   "outputs": [
    {
     "data": {
      "text/plain": [
       "0.6867208245876155"
      ]
     },
     "execution_count": 46,
     "metadata": {},
     "output_type": "execute_result"
    }
   ],
   "source": [
    "roc_auc_score(target_valid, probabilities_one_valid)"
   ]
  },
  {
   "cell_type": "markdown",
   "metadata": {},
   "source": [
    "#### Случайный лес"
   ]
  },
  {
   "cell_type": "code",
   "execution_count": 47,
   "metadata": {},
   "outputs": [],
   "source": [
    "model = RandomForestClassifier(random_state=12345, n_estimators=3) \n",
    "model.fit(features_train, target_train)\n",
    "predicted_train = model.predict(features_train)\n",
    "predicted_valid = pd.Series(model.predict(features_valid))"
   ]
  },
  {
   "cell_type": "markdown",
   "metadata": {},
   "source": [
    "- Полнота"
   ]
  },
  {
   "cell_type": "code",
   "execution_count": 48,
   "metadata": {},
   "outputs": [
    {
     "data": {
      "text/plain": [
       "0.4904306220095694"
      ]
     },
     "execution_count": 48,
     "metadata": {},
     "output_type": "execute_result"
    }
   ],
   "source": [
    "recall_score(target_valid, predicted_valid)"
   ]
  },
  {
   "cell_type": "markdown",
   "metadata": {},
   "source": [
    "- Точность"
   ]
  },
  {
   "cell_type": "code",
   "execution_count": 49,
   "metadata": {},
   "outputs": [
    {
     "data": {
      "text/plain": [
       "0.5959302325581395"
      ]
     },
     "execution_count": 49,
     "metadata": {},
     "output_type": "execute_result"
    }
   ],
   "source": [
    "precision_score(target_valid, predicted_valid)"
   ]
  },
  {
   "cell_type": "markdown",
   "metadata": {},
   "source": [
    "- F-1 мера"
   ]
  },
  {
   "cell_type": "code",
   "execution_count": 50,
   "metadata": {},
   "outputs": [
    {
     "data": {
      "text/plain": [
       "0.5380577427821522"
      ]
     },
     "execution_count": 50,
     "metadata": {},
     "output_type": "execute_result"
    }
   ],
   "source": [
    "f1_score(target_valid, predicted_valid)"
   ]
  },
  {
   "cell_type": "markdown",
   "metadata": {},
   "source": [
    "- ROC-кривая"
   ]
  },
  {
   "cell_type": "code",
   "execution_count": 51,
   "metadata": {},
   "outputs": [
    {
     "data": {
      "image/png": "[encoded data removed]",
      "text/plain": [
       "<Figure size 432x288 with 1 Axes>"
      ]
     },
     "metadata": {
      "needs_background": "light"
     },
     "output_type": "display_data"
    }
   ],
   "source": [
    "probabilities_valid = model.predict_proba(features_valid)\n",
    "probabilities_one_valid = probabilities_valid[:, 1]\n",
    "\n",
    "fpr, tpr, thresholds = roc_curve(target_valid, probabilities_one_valid)\n",
    "plt.figure()\n",
    "plt.plot([0, 1], [0, 1], linestyle='--')\n",
    "plt.plot(fpr, tpr)\n",
    "# < применим функции plt.xlim() и plt.ylim(), чтобы\n",
    "#   установим границы осей от 0 до 1 >\n",
    "plt.xlim([0.0, 1.0])\n",
    "plt.ylim([0.0, 1.0])\n",
    "# < применим функции plt.xlabel() и plt.ylabel(), чтобы\n",
    "#   подписать оси \"False Positive Rate\" и \"True Positive Rate\" >\n",
    "plt.xlabel('False Positive Rate')\n",
    "plt.ylabel('True Positive Rate')\n",
    "# < добавим к графику заголовок plt.title() >\n",
    "plt.title('ROC-кривая')\n",
    "plt.show()"
   ]
  },
  {
   "cell_type": "markdown",
   "metadata": {},
   "source": [
    "- AUC-ROC"
   ]
  },
  {
   "cell_type": "code",
   "execution_count": 52,
   "metadata": {},
   "outputs": [
    {
     "data": {
      "text/plain": [
       "0.7573335490778434"
      ]
     },
     "execution_count": 52,
     "metadata": {},
     "output_type": "execute_result"
    }
   ],
   "source": [
    "roc_auc_score(target_valid, probabilities_one_valid)"
   ]
  },
  {
   "cell_type": "markdown",
   "metadata": {},
   "source": [
    "#### Логистическая регрессия"
   ]
  },
  {
   "cell_type": "code",
   "execution_count": 53,
   "metadata": {},
   "outputs": [],
   "source": [
    "model = LogisticRegression(random_state=12345, solver='lbfgs', max_iter=1000) \n",
    "model.fit(features_train, target_train) \n",
    "predicted_train = model.predict(features_train) \n",
    "predicted_valid = pd.Series(model.predict(features_valid))"
   ]
  },
  {
   "cell_type": "markdown",
   "metadata": {},
   "source": [
    "- Полнота"
   ]
  },
  {
   "cell_type": "code",
   "execution_count": 54,
   "metadata": {},
   "outputs": [
    {
     "data": {
      "text/plain": [
       "0.23444976076555024"
      ]
     },
     "execution_count": 54,
     "metadata": {},
     "output_type": "execute_result"
    }
   ],
   "source": [
    "recall_score(target_valid, predicted_valid)"
   ]
  },
  {
   "cell_type": "markdown",
   "metadata": {},
   "source": [
    "- Точность"
   ]
  },
  {
   "cell_type": "code",
   "execution_count": 55,
   "metadata": {},
   "outputs": [
    {
     "data": {
      "text/plain": [
       "0.5664739884393064"
      ]
     },
     "execution_count": 55,
     "metadata": {},
     "output_type": "execute_result"
    }
   ],
   "source": [
    "precision_score(target_valid, predicted_valid)"
   ]
  },
  {
   "cell_type": "markdown",
   "metadata": {},
   "source": [
    "- F-1 мера"
   ]
  },
  {
   "cell_type": "code",
   "execution_count": 56,
   "metadata": {},
   "outputs": [
    {
     "data": {
      "text/plain": [
       "0.3316412859560068"
      ]
     },
     "execution_count": 56,
     "metadata": {},
     "output_type": "execute_result"
    }
   ],
   "source": [
    "f1_score(target_valid, predicted_valid)"
   ]
  },
  {
   "cell_type": "markdown",
   "metadata": {},
   "source": [
    "- ROC-кривая"
   ]
  },
  {
   "cell_type": "code",
   "execution_count": 57,
   "metadata": {},
   "outputs": [
    {
     "data": {
      "image/png": "[encoded data removed]",
      "text/plain": [
       "<Figure size 432x288 with 1 Axes>"
      ]
     },
     "metadata": {
      "needs_background": "light"
     },
     "output_type": "display_data"
    }
   ],
   "source": [
    "probabilities_valid = model.predict_proba(features_valid)\n",
    "probabilities_one_valid = probabilities_valid[:, 1]\n",
    "\n",
    "fpr, tpr, thresholds = roc_curve(target_valid, probabilities_one_valid)\n",
    "plt.figure()\n",
    "plt.plot([0, 1], [0, 1], linestyle='--')\n",
    "plt.plot(fpr, tpr)\n",
    "# < применим функции plt.xlim() и plt.ylim(), чтобы\n",
    "#   установим границы осей от 0 до 1 >\n",
    "plt.xlim([0.0, 1.0])\n",
    "plt.ylim([0.0, 1.0])\n",
    "# < применим функции plt.xlabel() и plt.ylabel(), чтобы\n",
    "#   подписать оси \"False Positive Rate\" и \"True Positive Rate\" >\n",
    "plt.xlabel('False Positive Rate')\n",
    "plt.ylabel('True Positive Rate')\n",
    "# < добавим к графику заголовок plt.title() >\n",
    "plt.title('ROC-кривая')\n",
    "plt.show()"
   ]
  },
  {
   "cell_type": "markdown",
   "metadata": {},
   "source": [
    "- AUC-ROC"
   ]
  },
  {
   "cell_type": "code",
   "execution_count": 58,
   "metadata": {},
   "outputs": [
    {
     "data": {
      "text/plain": [
       "0.7583822791088743"
      ]
     },
     "execution_count": 58,
     "metadata": {},
     "output_type": "execute_result"
    }
   ],
   "source": [
    "roc_auc_score(target_valid, probabilities_one_valid)"
   ]
  },
  {
   "cell_type": "markdown",
   "metadata": {},
   "source": [
    "Все модели показали значение метрики F-1 ниже необходимого по условию проекта(0.59). Поправим баланс классов, чтобы улучшить значение данного показателя."
   ]
  },
  {
   "cell_type": "markdown",
   "metadata": {},
   "source": [
    "## Борьба с дисбалансом"
   ]
  },
  {
   "cell_type": "markdown",
   "metadata": {},
   "source": [
    "Сделаем объекты редкого класса не такими редкими. Значения класса '1' повторим по несколько раз, чтобы их легче запомнить.\n",
    "Такая техника называется **upsampling**."
   ]
  },
  {
   "cell_type": "markdown",
   "metadata": {},
   "source": [
    "Преобразование проведем в несколько этапов:\n",
    "- Разделим обучающую выборку на отрицательные и положительные объекты;\n",
    "- Скопируем несколько раз положительные объекты;\n",
    "- С учётом полученных данных создадим новую обучающую выборку;\n",
    "- Перемешаем данные: идущие друг за другом одинаковые вопросы не помогут обучению."
   ]
  },
  {
   "cell_type": "markdown",
   "metadata": {},
   "source": [
    "Разделим обучающую выборку на отрицательные и положительные объекты."
   ]
  },
  {
   "cell_type": "code",
   "execution_count": 59,
   "metadata": {},
   "outputs": [
    {
     "name": "stdout",
     "output_type": "stream",
     "text": [
      "(4804, 11)\n",
      "(1196, 11)\n",
      "(4804,)\n",
      "(1196,)\n"
     ]
    }
   ],
   "source": [
    "features_zeros = features_train[target_train == 0] \n",
    "features_ones = features_train[target_train == 1] \n",
    "target_zeros = target_train[target_train == 0] \n",
    "target_ones = target_train[target_train == 1] \n",
    "\n",
    "print(features_zeros.shape)\n",
    "print(features_ones.shape)\n",
    "print(target_zeros.shape)\n",
    "print(target_ones.shape)"
   ]
  },
  {
   "cell_type": "markdown",
   "metadata": {},
   "source": [
    "Положительных объектов в выборке в четыре раза меньше."
   ]
  },
  {
   "cell_type": "markdown",
   "metadata": {},
   "source": [
    "Создадим функцию, которая вернёт признаки и целевой признак после операции **upsampling**. Затем перемешаем данные, используя функцию `shuffle()`."
   ]
  },
  {
   "cell_type": "code",
   "execution_count": 60,
   "metadata": {},
   "outputs": [
    {
     "name": "stdout",
     "output_type": "stream",
     "text": [
      "(9588, 11)\n",
      "(9588,)\n"
     ]
    }
   ],
   "source": [
    "def upsample(features, target, repeat):\n",
    "    features_zeros = features[target == 0]\n",
    "    features_ones = features[target == 1]\n",
    "    features_upsampled = pd.concat([features_zeros] + [features_ones] * repeat)\n",
    "    target_upsampled = pd.concat([target_zeros] + [target_ones] * repeat)\n",
    "    \n",
    "    return features_upsampled, target_upsampled\n",
    "\n",
    "features_upsampled, target_upsampled = upsample(features_train, target_train, 4)\n",
    "\n",
    "features_upsampled, target_upsampled = shuffle(features_upsampled, target_upsampled, random_state=12345)\n",
    "\n",
    "print(features_upsampled.shape)\n",
    "print(target_upsampled.shape)"
   ]
  },
  {
   "cell_type": "markdown",
   "metadata": {},
   "source": [
    "Проверим результат."
   ]
  },
  {
   "cell_type": "code",
   "execution_count": 61,
   "metadata": {},
   "outputs": [
    {
     "name": "stdout",
     "output_type": "stream",
     "text": [
      "0    0.501043\n",
      "1    0.498957\n",
      "Name: exited, dtype: float64\n"
     ]
    }
   ],
   "source": [
    "class_frequency = target_upsampled.value_counts(normalize=True)\n",
    "print(class_frequency)"
   ]
  },
  {
   "cell_type": "markdown",
   "metadata": {},
   "source": [
    " Количество положительных объектов примерно равно количеству отрицательных. Теперь обучим модели на получившихся данных и подберем оптимальные гипперпараметры, чтобы получить максимально точные результаты."
   ]
  },
  {
   "cell_type": "markdown",
   "metadata": {},
   "source": [
    "### Решающее дерево"
   ]
  },
  {
   "cell_type": "code",
   "execution_count": 62,
   "metadata": {},
   "outputs": [],
   "source": [
    "model = DecisionTreeClassifier() \n",
    "model.fit(features_upsampled, target_upsampled)\n",
    "predicted_valid = model.predict(features_valid)"
   ]
  },
  {
   "cell_type": "markdown",
   "metadata": {},
   "source": [
    "С помощью цикла подберем оптимальное количество деревьев"
   ]
  },
  {
   "cell_type": "code",
   "execution_count": 63,
   "metadata": {},
   "outputs": [],
   "source": [
    "best_model = None\n",
    "best_result = 0\n",
    "for depth in range(1, 11):\n",
    "    model = DecisionTreeClassifier(random_state=12345, max_depth=depth) # обучим модель с заданным количеством деревьев\n",
    "    model.fit(features_upsampled, target_upsampled) # обучим модель на тренировочной выборке\n",
    "    result = model.score(features_valid, target_valid) # посчитаем качество модели на валидационной выборке\n",
    "    if result > best_result:\n",
    "        best_depth = depth # сохраним лучшее значение глубины\n",
    "        best_model = model # сохраним наилучшую модель\n",
    "        best_result = result #  сохраним наилучшее значение метрики accuracy на валидационных данных"
   ]
  },
  {
   "cell_type": "code",
   "execution_count": 64,
   "metadata": {},
   "outputs": [
    {
     "data": {
      "text/plain": [
       "5"
      ]
     },
     "execution_count": 64,
     "metadata": {},
     "output_type": "execute_result"
    }
   ],
   "source": [
    "best_depth"
   ]
  },
  {
   "cell_type": "code",
   "execution_count": 65,
   "metadata": {},
   "outputs": [
    {
     "data": {
      "text/plain": [
       "0.8105"
      ]
     },
     "execution_count": 65,
     "metadata": {},
     "output_type": "execute_result"
    }
   ],
   "source": [
    "best_result"
   ]
  },
  {
   "cell_type": "code",
   "execution_count": 66,
   "metadata": {},
   "outputs": [],
   "source": [
    "model = DecisionTreeClassifier(random_state=12345, max_depth=5)\n",
    "model.fit(features_upsampled, target_upsampled)\n",
    "predicted_valid = model.predict(features_valid)"
   ]
  },
  {
   "cell_type": "markdown",
   "metadata": {},
   "source": [
    "- Полнота"
   ]
  },
  {
   "cell_type": "code",
   "execution_count": 67,
   "metadata": {},
   "outputs": [
    {
     "data": {
      "text/plain": [
       "0.6698564593301436"
      ]
     },
     "execution_count": 67,
     "metadata": {},
     "output_type": "execute_result"
    }
   ],
   "source": [
    "recall_score(target_valid, predicted_valid)"
   ]
  },
  {
   "cell_type": "markdown",
   "metadata": {},
   "source": [
    "- Точность"
   ]
  },
  {
   "cell_type": "code",
   "execution_count": 68,
   "metadata": {},
   "outputs": [
    {
     "data": {
      "text/plain": [
       "0.5374280230326296"
      ]
     },
     "execution_count": 68,
     "metadata": {},
     "output_type": "execute_result"
    }
   ],
   "source": [
    "precision_score(target_valid, predicted_valid)"
   ]
  },
  {
   "cell_type": "markdown",
   "metadata": {},
   "source": [
    "- F-1 мера"
   ]
  },
  {
   "cell_type": "code",
   "execution_count": 69,
   "metadata": {},
   "outputs": [
    {
     "data": {
      "text/plain": [
       "0.5963791267305644"
      ]
     },
     "execution_count": 69,
     "metadata": {},
     "output_type": "execute_result"
    }
   ],
   "source": [
    "f1_score(target_valid, predicted_valid)"
   ]
  },
  {
   "cell_type": "markdown",
   "metadata": {},
   "source": [
    "- ROC-кривая"
   ]
  },
  {
   "cell_type": "code",
   "execution_count": 70,
   "metadata": {},
   "outputs": [
    {
     "data": {
      "image/png": "[encoded data removed]",
      "text/plain": [
       "<Figure size 432x288 with 1 Axes>"
      ]
     },
     "metadata": {
      "needs_background": "light"
     },
     "output_type": "display_data"
    }
   ],
   "source": [
    "probabilities_valid = model.predict_proba(features_valid)\n",
    "probabilities_one_valid = probabilities_valid[:, 1]\n",
    "\n",
    "fpr, tpr, thresholds = roc_curve(target_valid, probabilities_one_valid)\n",
    "plt.figure()\n",
    "plt.plot([0, 1], [0, 1], linestyle='--')\n",
    "plt.plot(fpr, tpr)\n",
    "# < применим функции plt.xlim() и plt.ylim(), чтобы\n",
    "#   установим границы осей от 0 до 1 >\n",
    "plt.xlim([0.0, 1.0])\n",
    "plt.ylim([0.0, 1.0])\n",
    "# < применим функции plt.xlabel() и plt.ylabel(), чтобы\n",
    "#   подписать оси \"False Positive Rate\" и \"True Positive Rate\" >\n",
    "plt.xlabel('False Positive Rate')\n",
    "plt.ylabel('True Positive Rate')\n",
    "# < добавим к графику заголовок plt.title() >\n",
    "plt.title('ROC-кривая')\n",
    "plt.show()"
   ]
  },
  {
   "cell_type": "markdown",
   "metadata": {},
   "source": [
    "- AUC-ROC"
   ]
  },
  {
   "cell_type": "code",
   "execution_count": 71,
   "metadata": {},
   "outputs": [
    {
     "data": {
      "text/plain": [
       "0.8310244134068074"
      ]
     },
     "execution_count": 71,
     "metadata": {},
     "output_type": "execute_result"
    }
   ],
   "source": [
    "roc_auc_score(target_valid, probabilities_one_valid)"
   ]
  },
  {
   "cell_type": "markdown",
   "metadata": {},
   "source": [
    "### Случайный лес"
   ]
  },
  {
   "cell_type": "code",
   "execution_count": 72,
   "metadata": {},
   "outputs": [],
   "source": [
    "model = RandomForestClassifier(random_state=12345, n_estimators=3) \n",
    "model.fit(features_upsampled, target_upsampled)\n",
    "predicted_valid = model.predict(features_valid)"
   ]
  },
  {
   "cell_type": "markdown",
   "metadata": {},
   "source": [
    "С помощью цикла подберем оптимальное количество деревьев"
   ]
  },
  {
   "cell_type": "code",
   "execution_count": 73,
   "metadata": {},
   "outputs": [],
   "source": [
    "best_model = None\n",
    "best_result = 0\n",
    "for est in range(1, 101):\n",
    "    model = RandomForestClassifier(random_state=12345, n_estimators=est) # обучим модель с заданным количеством деревьев\n",
    "    model.fit(features_upsampled, target_upsampled) # обучим модель на тренировочной выборке\n",
    "    result = model.score(features_valid, target_valid) # посчитаем качество модели на валидационной выборке\n",
    "    if result > best_result:\n",
    "        best_est = est  # сохраним лучшее значение количества деревьев\n",
    "        best_model = model # сохраним наилучшую модель\n",
    "        best_result = result #  сохраним наилучшее значение метрики accuracy на валидационных данных"
   ]
  },
  {
   "cell_type": "code",
   "execution_count": 74,
   "metadata": {},
   "outputs": [
    {
     "data": {
      "text/plain": [
       "99"
      ]
     },
     "execution_count": 74,
     "metadata": {},
     "output_type": "execute_result"
    }
   ],
   "source": [
    "best_est"
   ]
  },
  {
   "cell_type": "code",
   "execution_count": 75,
   "metadata": {},
   "outputs": [
    {
     "data": {
      "text/plain": [
       "0.8545"
      ]
     },
     "execution_count": 75,
     "metadata": {},
     "output_type": "execute_result"
    }
   ],
   "source": [
    "best_result"
   ]
  },
  {
   "cell_type": "code",
   "execution_count": 76,
   "metadata": {},
   "outputs": [],
   "source": [
    "model = RandomForestClassifier(random_state=12345, n_estimators=99) \n",
    "model.fit(features_upsampled, target_upsampled)\n",
    "predicted_valid = model.predict(features_valid)"
   ]
  },
  {
   "cell_type": "markdown",
   "metadata": {},
   "source": [
    "- Полнота"
   ]
  },
  {
   "cell_type": "code",
   "execution_count": 77,
   "metadata": {},
   "outputs": [
    {
     "data": {
      "text/plain": [
       "0.562200956937799"
      ]
     },
     "execution_count": 77,
     "metadata": {},
     "output_type": "execute_result"
    }
   ],
   "source": [
    "recall_score(target_valid, predicted_valid)"
   ]
  },
  {
   "cell_type": "markdown",
   "metadata": {},
   "source": [
    "- Точность"
   ]
  },
  {
   "cell_type": "code",
   "execution_count": 78,
   "metadata": {},
   "outputs": [
    {
     "data": {
      "text/plain": [
       "0.685131195335277"
      ]
     },
     "execution_count": 78,
     "metadata": {},
     "output_type": "execute_result"
    }
   ],
   "source": [
    "precision_score(target_valid, predicted_valid)"
   ]
  },
  {
   "cell_type": "markdown",
   "metadata": {},
   "source": [
    "- F-1 мера"
   ]
  },
  {
   "cell_type": "code",
   "execution_count": 79,
   "metadata": {},
   "outputs": [
    {
     "data": {
      "text/plain": [
       "0.6176084099868594"
      ]
     },
     "execution_count": 79,
     "metadata": {},
     "output_type": "execute_result"
    }
   ],
   "source": [
    "f1_score(target_valid, predicted_valid)"
   ]
  },
  {
   "cell_type": "markdown",
   "metadata": {},
   "source": [
    "- ROC-кривая"
   ]
  },
  {
   "cell_type": "code",
   "execution_count": 80,
   "metadata": {},
   "outputs": [
    {
     "data": {
      "image/png": "[encoded data removed]",
      "text/plain": [
       "<Figure size 432x288 with 1 Axes>"
      ]
     },
     "metadata": {
      "needs_background": "light"
     },
     "output_type": "display_data"
    }
   ],
   "source": [
    "probabilities_valid = model.predict_proba(features_valid)\n",
    "probabilities_one_valid = probabilities_valid[:, 1]\n",
    "\n",
    "fpr, tpr, thresholds = roc_curve(target_valid, probabilities_one_valid)\n",
    "plt.figure()\n",
    "plt.plot([0, 1], [0, 1], linestyle='--')\n",
    "plt.plot(fpr, tpr)\n",
    "# < применим функции plt.xlim() и plt.ylim(), чтобы\n",
    "#   установим границы осей от 0 до 1 >\n",
    "plt.xlim([0.0, 1.0])\n",
    "plt.ylim([0.0, 1.0])\n",
    "# < применим функции plt.xlabel() и plt.ylabel(), чтобы\n",
    "#   подписать оси \"False Positive Rate\" и \"True Positive Rate\" >\n",
    "plt.xlabel('False Positive Rate')\n",
    "plt.ylabel('True Positive Rate')\n",
    "# < добавим к графику заголовок plt.title() >\n",
    "plt.title('ROC-кривая')\n",
    "plt.show()"
   ]
  },
  {
   "cell_type": "markdown",
   "metadata": {},
   "source": [
    "- AUC-ROC"
   ]
  },
  {
   "cell_type": "code",
   "execution_count": 81,
   "metadata": {},
   "outputs": [
    {
     "data": {
      "text/plain": [
       "0.838921267367937"
      ]
     },
     "execution_count": 81,
     "metadata": {},
     "output_type": "execute_result"
    }
   ],
   "source": [
    "roc_auc_score(target_valid, probabilities_one_valid)"
   ]
  },
  {
   "cell_type": "markdown",
   "metadata": {},
   "source": [
    "### Логистическая регрессия"
   ]
  },
  {
   "cell_type": "code",
   "execution_count": 82,
   "metadata": {},
   "outputs": [],
   "source": [
    "model = LogisticRegression(random_state=12345, solver='lbfgs', max_iter=1000) \n",
    "model.fit(features_upsampled, target_upsampled) \n",
    "predicted_valid = model.predict(features_valid)"
   ]
  },
  {
   "cell_type": "code",
   "execution_count": 83,
   "metadata": {},
   "outputs": [],
   "source": [
    "best_model = None\n",
    "best_result = 0\n",
    "for optimal_iter in range(100, 5000, 200):\n",
    "    model = LogisticRegression(random_state=12345, solver='lbfgs', max_iter=optimal_iter) \n",
    "    model.fit(features_upsampled, target_upsampled) # обучим модель на тренировочной выборке\n",
    "    result = model.score(features_valid, target_valid) # посчитаем качество модели на валидационной выборке\n",
    "    if result > best_result:\n",
    "        best_iter = optimal_iter  # сохраним лучшее значение количества итераций обучения\n",
    "        best_model = model # сохраним наилучшую модель\n",
    "        best_result = result #  сохраним наилучшее значение метрики accuracy на валидационных данных"
   ]
  },
  {
   "cell_type": "code",
   "execution_count": 84,
   "metadata": {},
   "outputs": [
    {
     "data": {
      "text/plain": [
       "100"
      ]
     },
     "execution_count": 84,
     "metadata": {},
     "output_type": "execute_result"
    }
   ],
   "source": [
    "best_iter"
   ]
  },
  {
   "cell_type": "code",
   "execution_count": 85,
   "metadata": {},
   "outputs": [
    {
     "data": {
      "text/plain": [
       "0.699"
      ]
     },
     "execution_count": 85,
     "metadata": {},
     "output_type": "execute_result"
    }
   ],
   "source": [
    "best_result"
   ]
  },
  {
   "cell_type": "code",
   "execution_count": 86,
   "metadata": {},
   "outputs": [],
   "source": [
    "model = LogisticRegression(random_state=12345, solver='lbfgs', max_iter=100) \n",
    "model.fit(features_upsampled, target_upsampled) \n",
    "predicted_valid = model.predict(features_valid)"
   ]
  },
  {
   "cell_type": "markdown",
   "metadata": {},
   "source": [
    "- Полнота"
   ]
  },
  {
   "cell_type": "code",
   "execution_count": 87,
   "metadata": {},
   "outputs": [
    {
     "data": {
      "text/plain": [
       "0.6770334928229665"
      ]
     },
     "execution_count": 87,
     "metadata": {},
     "output_type": "execute_result"
    }
   ],
   "source": [
    "recall_score(target_valid, predicted_valid)"
   ]
  },
  {
   "cell_type": "markdown",
   "metadata": {},
   "source": [
    "- Точность"
   ]
  },
  {
   "cell_type": "code",
   "execution_count": 88,
   "metadata": {},
   "outputs": [
    {
     "data": {
      "text/plain": [
       "0.37733333333333335"
      ]
     },
     "execution_count": 88,
     "metadata": {},
     "output_type": "execute_result"
    }
   ],
   "source": [
    "precision_score(target_valid, predicted_valid)"
   ]
  },
  {
   "cell_type": "markdown",
   "metadata": {},
   "source": [
    "- F-1 мера"
   ]
  },
  {
   "cell_type": "code",
   "execution_count": 89,
   "metadata": {},
   "outputs": [
    {
     "data": {
      "text/plain": [
       "0.4845890410958904"
      ]
     },
     "execution_count": 89,
     "metadata": {},
     "output_type": "execute_result"
    }
   ],
   "source": [
    "f1_score(target_valid, predicted_valid)"
   ]
  },
  {
   "cell_type": "markdown",
   "metadata": {},
   "source": [
    "- ROC-кривая"
   ]
  },
  {
   "cell_type": "code",
   "execution_count": 90,
   "metadata": {},
   "outputs": [
    {
     "data": {
      "image/png": "[encoded data removed]",
      "text/plain": [
       "<Figure size 432x288 with 1 Axes>"
      ]
     },
     "metadata": {
      "needs_background": "light"
     },
     "output_type": "display_data"
    }
   ],
   "source": [
    "probabilities_valid = model.predict_proba(features_valid)\n",
    "probabilities_one_valid = probabilities_valid[:, 1]\n",
    "\n",
    "fpr, tpr, thresholds = roc_curve(target_valid, probabilities_one_valid)\n",
    "plt.figure()\n",
    "plt.plot([0, 1], [0, 1], linestyle='--')\n",
    "plt.plot(fpr, tpr)\n",
    "# < применим функции plt.xlim() и plt.ylim(), чтобы\n",
    "#   установим границы осей от 0 до 1 >\n",
    "plt.xlim([0.0, 1.0])\n",
    "plt.ylim([0.0, 1.0])\n",
    "# < применим функции plt.xlabel() и plt.ylabel(), чтобы\n",
    "#   подписать оси \"False Positive Rate\" и \"True Positive Rate\" >\n",
    "plt.xlabel('False Positive Rate')\n",
    "plt.ylabel('True Positive Rate')\n",
    "# < добавим к графику заголовок plt.title() >\n",
    "plt.title('ROC-кривая')\n",
    "plt.show()"
   ]
  },
  {
   "cell_type": "markdown",
   "metadata": {},
   "source": [
    "- AUC-ROC"
   ]
  },
  {
   "cell_type": "code",
   "execution_count": 91,
   "metadata": {},
   "outputs": [
    {
     "data": {
      "text/plain": [
       "0.7632501406371922"
      ]
     },
     "execution_count": 91,
     "metadata": {},
     "output_type": "execute_result"
    }
   ],
   "source": [
    "roc_auc_score(target_valid, probabilities_one_valid)"
   ]
  },
  {
   "cell_type": "markdown",
   "metadata": {},
   "source": [
    "Можно сказать, что после того, как мы сбалансировали выборку все показатели улучшились. Показатель f-1 у моделей решающее дерево и случайный лес соответствуют минимуму, который был указан в задании. Отдадим предпочтение модели случайный лес, из-за более высокого значения f-1 и других метрик качества."
   ]
  },
  {
   "cell_type": "markdown",
   "metadata": {},
   "source": [
    "### Уменьшение выборки"
   ]
  },
  {
   "cell_type": "markdown",
   "metadata": {},
   "source": [
    "Произведем преобразования, чтобы сделать объекты частого класса не такими частыми. Это можно сделать техникой **downsampling**.\n",
    "\n",
    "Преобразование проходит в несколько этапов:\n",
    "- Разделить обучающую выборку на отрицательные и положительные объекты;\n",
    "- Случайным образом отбросить часть из отрицательных объектов;\n",
    "- С учётом полученных данных создать новую обучающую выборку;\n",
    "- Перемешать данные. Положительные не должны идти следом за отрицательными: алгоритмам будет сложнее обучаться.\n",
    "\n",
    "Чтобы выбросить из таблицы случайные элементы, примените функцию `sample()`."
   ]
  },
  {
   "cell_type": "markdown",
   "metadata": {},
   "source": [
    "Создадим функцию, которая вернёт признаки и целевой признак после операции **downsamplin**. Затем перемешаем данные, используя функцию `shuffle()`."
   ]
  },
  {
   "cell_type": "code",
   "execution_count": 132,
   "metadata": {},
   "outputs": [],
   "source": [
    "def downsample(features, target, fraction):\n",
    "    features_zeros = features[target_train == 0]\n",
    "    features_ones = features[target_train == 1]\n",
    "    target_zeros = target[target_train == 0]\n",
    "    target_ones = target[target_train == 1]\n",
    "\n",
    "    features_downsampled = pd.concat(\n",
    "        [features_zeros.sample(frac=fraction, random_state=12345)] + [features_ones])\n",
    "    target_downsampled = pd.concat(\n",
    "        [target_zeros.sample(frac=fraction, random_state=12345)] + [target_ones])\n",
    "    \n",
    "    features_downsampled, target_downsampled = shuffle(\n",
    "        features_downsampled, target_downsampled, random_state=12345)\n",
    "    \n",
    "    return features_downsampled, target_downsampled\n",
    "\n",
    "features_downsampled, target_downsampled = downsample(features_train, target_train, 0.25)"
   ]
  },
  {
   "cell_type": "code",
   "execution_count": 133,
   "metadata": {},
   "outputs": [
    {
     "name": "stdout",
     "output_type": "stream",
     "text": [
      "(2397, 11)\n",
      "(2397,)\n"
     ]
    }
   ],
   "source": [
    "print(features_downsampled.shape)\n",
    "print(target_downsampled.shape)"
   ]
  },
  {
   "cell_type": "markdown",
   "metadata": {},
   "source": [
    "Проверим результат."
   ]
  },
  {
   "cell_type": "code",
   "execution_count": 134,
   "metadata": {},
   "outputs": [
    {
     "name": "stdout",
     "output_type": "stream",
     "text": [
      "0    0.501043\n",
      "1    0.498957\n",
      "Name: exited, dtype: float64\n"
     ]
    }
   ],
   "source": [
    "class_frequency = target_downsampled.value_counts(normalize=True)\n",
    "print(class_frequency)"
   ]
  },
  {
   "cell_type": "markdown",
   "metadata": {},
   "source": [
    "- Решающее дерево"
   ]
  },
  {
   "cell_type": "code",
   "execution_count": 139,
   "metadata": {},
   "outputs": [],
   "source": [
    "model = DecisionTreeClassifier(random_state=12345, max_depth=5)\n",
    "model.fit(features_downsampled, target_downsampled)\n",
    "predicted_valid = model.predict(features_valid)"
   ]
  },
  {
   "cell_type": "code",
   "execution_count": 140,
   "metadata": {},
   "outputs": [
    {
     "data": {
      "text/plain": [
       "0.5931174089068827"
      ]
     },
     "execution_count": 140,
     "metadata": {},
     "output_type": "execute_result"
    }
   ],
   "source": [
    "f1_score(target_valid, predicted_valid)"
   ]
  },
  {
   "cell_type": "code",
   "execution_count": 154,
   "metadata": {},
   "outputs": [
    {
     "data": {
      "text/plain": [
       "0.7632501406371922"
      ]
     },
     "execution_count": 154,
     "metadata": {},
     "output_type": "execute_result"
    }
   ],
   "source": [
    "roc_auc_score(target_valid, probabilities_one_valid)"
   ]
  },
  {
   "cell_type": "markdown",
   "metadata": {},
   "source": [
    "Модель показала примерно такие же результаты, как и при увеличении выборки"
   ]
  },
  {
   "cell_type": "markdown",
   "metadata": {},
   "source": [
    "- Случайный лес"
   ]
  },
  {
   "cell_type": "code",
   "execution_count": null,
   "metadata": {},
   "outputs": [],
   "source": [
    "model = RandomForestClassifier(random_state=12345, n_estimators=3) \n",
    "model.fit(features_upsampled, target_upsampled)\n",
    "predicted_valid = model.predict(features_valid)"
   ]
  },
  {
   "cell_type": "code",
   "execution_count": 148,
   "metadata": {},
   "outputs": [],
   "source": [
    "best_model = None\n",
    "best_result = 0\n",
    "for est in range(1, 101):\n",
    "    model = RandomForestClassifier(random_state=12345, n_estimators=est) # обучим модель с заданным количеством деревьев\n",
    "    model.fit(features_downsampled, target_downsampled) # обучим модель на тренировочной выборке\n",
    "    result = model.score(features_valid, target_valid) # посчитаем качество модели на валидационной выборке\n",
    "    if result > best_result:\n",
    "        best_est = est  # сохраним лучшее значение количества деревьев\n",
    "        best_model = model # сохраним наилучшую модель\n",
    "        best_result = result #  сохраним наилучшее значение метрики accuracy на валидационных данных"
   ]
  },
  {
   "cell_type": "code",
   "execution_count": 149,
   "metadata": {},
   "outputs": [
    {
     "data": {
      "text/plain": [
       "10"
      ]
     },
     "execution_count": 149,
     "metadata": {},
     "output_type": "execute_result"
    }
   ],
   "source": [
    "best_est"
   ]
  },
  {
   "cell_type": "code",
   "execution_count": 150,
   "metadata": {},
   "outputs": [
    {
     "data": {
      "text/plain": [
       "0.786"
      ]
     },
     "execution_count": 150,
     "metadata": {},
     "output_type": "execute_result"
    }
   ],
   "source": [
    "best_result"
   ]
  },
  {
   "cell_type": "code",
   "execution_count": 151,
   "metadata": {},
   "outputs": [],
   "source": [
    "model = RandomForestClassifier(random_state=12345, n_estimators=10) \n",
    "model.fit(features_downsampled, target_downsampled)\n",
    "predicted_valid = model.predict(features_valid)"
   ]
  },
  {
   "cell_type": "code",
   "execution_count": 152,
   "metadata": {},
   "outputs": [
    {
     "data": {
      "text/plain": [
       "0.5753968253968254"
      ]
     },
     "execution_count": 152,
     "metadata": {},
     "output_type": "execute_result"
    }
   ],
   "source": [
    "f1_score(target_valid, predicted_valid)"
   ]
  },
  {
   "cell_type": "code",
   "execution_count": 153,
   "metadata": {},
   "outputs": [
    {
     "data": {
      "text/plain": [
       "0.7632501406371922"
      ]
     },
     "execution_count": 153,
     "metadata": {},
     "output_type": "execute_result"
    }
   ],
   "source": [
    "roc_auc_score(target_valid, probabilities_one_valid)"
   ]
  },
  {
   "cell_type": "markdown",
   "metadata": {},
   "source": [
    "При уменьшении выборки результат модели ухудшился"
   ]
  },
  {
   "cell_type": "markdown",
   "metadata": {},
   "source": [
    "- Логистическая решрессия"
   ]
  },
  {
   "cell_type": "code",
   "execution_count": 145,
   "metadata": {},
   "outputs": [],
   "source": [
    "model = LogisticRegression(random_state=12345, solver='lbfgs', max_iter=100) \n",
    "model.fit(features_upsampled, target_upsampled) \n",
    "predicted_valid = model.predict(features_valid)"
   ]
  },
  {
   "cell_type": "code",
   "execution_count": 146,
   "metadata": {},
   "outputs": [
    {
     "data": {
      "text/plain": [
       "0.4845890410958904"
      ]
     },
     "execution_count": 146,
     "metadata": {},
     "output_type": "execute_result"
    }
   ],
   "source": [
    "f1_score(target_valid, predicted_valid)"
   ]
  },
  {
   "cell_type": "code",
   "execution_count": 147,
   "metadata": {},
   "outputs": [
    {
     "data": {
      "text/plain": [
       "0.7632501406371922"
      ]
     },
     "execution_count": 147,
     "metadata": {},
     "output_type": "execute_result"
    }
   ],
   "source": [
    "roc_auc_score(target_valid, probabilities_one_valid)"
   ]
  },
  {
   "cell_type": "markdown",
   "metadata": {},
   "source": [
    "Результат примерно такой же как и при увеличении выборки"
   ]
  },
  {
   "cell_type": "markdown",
   "metadata": {},
   "source": [
    "В итоге наиболее эффективной оказалась модель **случайный лес**, обученная на увеличенной выборке."
   ]
  },
  {
   "cell_type": "markdown",
   "metadata": {},
   "source": [
    "## Тестирование модели"
   ]
  },
  {
   "cell_type": "markdown",
   "metadata": {},
   "source": [
    "Протестируем выбранную модель на тестовых данных."
   ]
  },
  {
   "cell_type": "code",
   "execution_count": 93,
   "metadata": {},
   "outputs": [],
   "source": [
    "model = RandomForestClassifier(random_state=12345, n_estimators=99) \n",
    "model.fit(features_upsampled, target_upsampled)\n",
    "predicted_test = model.predict(features_test)"
   ]
  },
  {
   "cell_type": "code",
   "execution_count": 94,
   "metadata": {},
   "outputs": [
    {
     "data": {
      "text/plain": [
       "0.8425"
      ]
     },
     "execution_count": 94,
     "metadata": {},
     "output_type": "execute_result"
    }
   ],
   "source": [
    "model.score(features_test, target_test)"
   ]
  },
  {
   "cell_type": "markdown",
   "metadata": {},
   "source": [
    "- Полнота"
   ]
  },
  {
   "cell_type": "code",
   "execution_count": 95,
   "metadata": {},
   "outputs": [
    {
     "data": {
      "text/plain": [
       "0.5390070921985816"
      ]
     },
     "execution_count": 95,
     "metadata": {},
     "output_type": "execute_result"
    }
   ],
   "source": [
    "recall_score(target_test, predicted_test)"
   ]
  },
  {
   "cell_type": "markdown",
   "metadata": {},
   "source": [
    "- Точность"
   ]
  },
  {
   "cell_type": "code",
   "execution_count": 96,
   "metadata": {},
   "outputs": [
    {
     "data": {
      "text/plain": [
       "0.6551724137931034"
      ]
     },
     "execution_count": 96,
     "metadata": {},
     "output_type": "execute_result"
    }
   ],
   "source": [
    "precision_score(target_test, predicted_test)"
   ]
  },
  {
   "cell_type": "markdown",
   "metadata": {},
   "source": [
    "- F-1 мера"
   ]
  },
  {
   "cell_type": "code",
   "execution_count": 97,
   "metadata": {},
   "outputs": [
    {
     "data": {
      "text/plain": [
       "0.5914396887159532"
      ]
     },
     "execution_count": 97,
     "metadata": {},
     "output_type": "execute_result"
    }
   ],
   "source": [
    "f1_score(target_test, predicted_test)"
   ]
  },
  {
   "cell_type": "markdown",
   "metadata": {},
   "source": [
    "- ROC-кривая"
   ]
  },
  {
   "cell_type": "code",
   "execution_count": 98,
   "metadata": {},
   "outputs": [
    {
     "data": {
      "image/png": "[encoded data removed]",
      "text/plain": [
       "<Figure size 432x288 with 1 Axes>"
      ]
     },
     "metadata": {
      "needs_background": "light"
     },
     "output_type": "display_data"
    }
   ],
   "source": [
    "probabilities_test = model.predict_proba(features_test)\n",
    "probabilities_one_test = probabilities_test[:, 1]\n",
    "\n",
    "fpr, tpr, thresholds = roc_curve(target_test, probabilities_one_test)\n",
    "plt.figure()\n",
    "plt.plot([0, 1], [0, 1], linestyle='--')\n",
    "plt.plot(fpr, tpr)\n",
    "# < применим функции plt.xlim() и plt.ylim(), чтобы\n",
    "#   установим границы осей от 0 до 1 >\n",
    "plt.xlim([0.0, 1.0])\n",
    "plt.ylim([0.0, 1.0])\n",
    "# < применим функции plt.xlabel() и plt.ylabel(), чтобы\n",
    "#   подписать оси \"False Positive Rate\" и \"True Positive Rate\" >\n",
    "plt.xlabel('False Positive Rate')\n",
    "plt.ylabel('True Positive Rate')\n",
    "# < добавим к графику заголовок plt.title() >\n",
    "plt.title('ROC-кривая')\n",
    "plt.show()"
   ]
  },
  {
   "cell_type": "markdown",
   "metadata": {},
   "source": [
    "- AUC-ROC"
   ]
  },
  {
   "cell_type": "code",
   "execution_count": 99,
   "metadata": {},
   "outputs": [
    {
     "data": {
      "text/plain": [
       "0.8467314573711044"
      ]
     },
     "execution_count": 99,
     "metadata": {},
     "output_type": "execute_result"
    }
   ],
   "source": [
    "roc_auc_score(target_test, probabilities_one_test)"
   ]
  },
  {
   "cell_type": "markdown",
   "metadata": {},
   "source": [
    "Мы получили необходимое нам значение показателя f-1, а также максимальное значение AUC-ROC."
   ]
  },
  {
   "cell_type": "markdown",
   "metadata": {},
   "source": [
    "## Чек-лист готовности проекта"
   ]
  },
  {
   "cell_type": "markdown",
   "metadata": {},
   "source": [
    "Поставьте 'x' в выполненных пунктах. Далее нажмите Shift+Enter."
   ]
  },
  {
   "cell_type": "markdown",
   "metadata": {},
   "source": [
    "- [x]  Jupyter Notebook открыт\n",
    "- [x]  Весь код выполняется без ошибок\n",
    "- [x]  Ячейки с кодом расположены в порядке исполнения\n",
    "- [x]  Выполнен шаг 1: данные подготовлены\n",
    "- [x]  Выполнен шаг 2: задача исследована\n",
    "    - [x]  Исследован баланс классов\n",
    "    - [x]  Изучены модели без учёта дисбаланса\n",
    "    - [x]  Написаны выводы по результатам исследования\n",
    "- [x]  Выполнен шаг 3: учтён дисбаланс\n",
    "    - [x]  Применено несколько способов борьбы с дисбалансом\n",
    "    - [x]  Написаны выводы по результатам исследования\n",
    "- [x]  Выполнен шаг 4: проведено тестирование\n",
    "- [x]  Удалось достичь *F1*-меры не менее 0.59\n",
    "- [x]  Исследована метрика *AUC-ROC*"
   ]
  }
 ],
 "metadata": {
  "ExecuteTimeLog": [
   {
    "duration": 429,
    "start_time": "2022-09-30T14:50:07.433Z"
   },
   {
    "duration": 1837,
    "start_time": "2022-09-30T14:50:59.690Z"
   },
   {
    "duration": 34,
    "start_time": "2022-09-30T14:53:30.432Z"
   },
   {
    "duration": 15,
    "start_time": "2022-09-30T14:53:40.254Z"
   },
   {
    "duration": 20,
    "start_time": "2022-09-30T14:54:46.872Z"
   },
   {
    "duration": 23,
    "start_time": "2022-09-30T14:55:23.573Z"
   },
   {
    "duration": 98,
    "start_time": "2022-09-30T14:59:55.777Z"
   },
   {
    "duration": 125,
    "start_time": "2022-09-30T15:00:06.396Z"
   },
   {
    "duration": 58,
    "start_time": "2022-09-30T15:00:15.316Z"
   },
   {
    "duration": 14,
    "start_time": "2022-09-30T15:00:28.824Z"
   },
   {
    "duration": 114,
    "start_time": "2022-09-30T15:02:51.413Z"
   },
   {
    "duration": 17,
    "start_time": "2022-09-30T15:03:41.032Z"
   },
   {
    "duration": 16,
    "start_time": "2022-09-30T15:05:02.931Z"
   },
   {
    "duration": 22,
    "start_time": "2022-09-30T15:07:41.093Z"
   },
   {
    "duration": 16,
    "start_time": "2022-09-30T15:08:20.138Z"
   },
   {
    "duration": 3,
    "start_time": "2022-09-30T15:08:47.808Z"
   },
   {
    "duration": 195,
    "start_time": "2022-09-30T15:08:54.624Z"
   },
   {
    "duration": 21,
    "start_time": "2022-09-30T15:08:55.824Z"
   },
   {
    "duration": 80,
    "start_time": "2022-09-30T15:09:13.168Z"
   },
   {
    "duration": 23,
    "start_time": "2022-09-30T15:09:14.414Z"
   },
   {
    "duration": 3,
    "start_time": "2022-09-30T15:09:24.445Z"
   },
   {
    "duration": 27,
    "start_time": "2022-09-30T15:09:25.190Z"
   },
   {
    "duration": 349,
    "start_time": "2022-09-30T15:17:56.985Z"
   },
   {
    "duration": 46,
    "start_time": "2022-09-30T15:17:57.336Z"
   },
   {
    "duration": 260,
    "start_time": "2022-09-30T15:18:52.895Z"
   },
   {
    "duration": 1237,
    "start_time": "2022-09-30T15:19:31.460Z"
   },
   {
    "duration": 1294,
    "start_time": "2022-09-30T15:19:38.219Z"
   },
   {
    "duration": 1275,
    "start_time": "2022-09-30T15:44:04.353Z"
   },
   {
    "duration": 21,
    "start_time": "2022-09-30T15:44:21.998Z"
   },
   {
    "duration": 56,
    "start_time": "2022-09-30T15:46:07.015Z"
   },
   {
    "duration": 7,
    "start_time": "2022-09-30T15:51:16.777Z"
   },
   {
    "duration": 7,
    "start_time": "2022-09-30T15:56:44.687Z"
   },
   {
    "duration": 4,
    "start_time": "2022-09-30T15:57:07.110Z"
   },
   {
    "duration": 4,
    "start_time": "2022-09-30T16:03:26.409Z"
   },
   {
    "duration": 21,
    "start_time": "2022-09-30T16:03:32.025Z"
   },
   {
    "duration": 21,
    "start_time": "2022-09-30T16:07:12.485Z"
   },
   {
    "duration": 9,
    "start_time": "2022-09-30T16:07:17.038Z"
   },
   {
    "duration": 1212,
    "start_time": "2022-09-30T16:07:20.786Z"
   },
   {
    "duration": 1176,
    "start_time": "2022-09-30T16:07:32.926Z"
   },
   {
    "duration": 7,
    "start_time": "2022-09-30T16:07:39.117Z"
   },
   {
    "duration": 19,
    "start_time": "2022-09-30T16:11:18.945Z"
   },
   {
    "duration": 2035,
    "start_time": "2022-09-30T16:13:21.004Z"
   },
   {
    "duration": 2005,
    "start_time": "2022-09-30T16:13:25.475Z"
   },
   {
    "duration": 1665,
    "start_time": "2022-09-30T16:13:35.315Z"
   },
   {
    "duration": 7,
    "start_time": "2022-09-30T16:13:38.693Z"
   },
   {
    "duration": 6,
    "start_time": "2022-09-30T16:17:05.803Z"
   },
   {
    "duration": 356,
    "start_time": "2022-10-01T18:06:12.231Z"
   },
   {
    "duration": 2320,
    "start_time": "2022-10-01T18:06:12.589Z"
   },
   {
    "duration": 18,
    "start_time": "2022-10-01T18:06:14.910Z"
   },
   {
    "duration": 39,
    "start_time": "2022-10-01T18:06:14.929Z"
   },
   {
    "duration": 6,
    "start_time": "2022-10-01T18:06:14.970Z"
   },
   {
    "duration": 24,
    "start_time": "2022-10-01T18:06:14.977Z"
   },
   {
    "duration": 23,
    "start_time": "2022-10-01T18:06:15.003Z"
   },
   {
    "duration": 8,
    "start_time": "2022-10-01T18:06:15.027Z"
   },
   {
    "duration": 15,
    "start_time": "2022-10-01T18:06:15.036Z"
   },
   {
    "duration": 10,
    "start_time": "2022-10-01T18:06:15.053Z"
   },
   {
    "duration": 6,
    "start_time": "2022-10-01T18:06:15.064Z"
   },
   {
    "duration": 14,
    "start_time": "2022-10-01T18:10:25.988Z"
   },
   {
    "duration": 16,
    "start_time": "2022-10-01T18:10:33.323Z"
   },
   {
    "duration": 49,
    "start_time": "2022-10-02T09:07:40.548Z"
   },
   {
    "duration": 430,
    "start_time": "2022-10-02T09:07:45.635Z"
   },
   {
    "duration": 2294,
    "start_time": "2022-10-02T09:07:46.067Z"
   },
   {
    "duration": 18,
    "start_time": "2022-10-02T09:07:48.363Z"
   },
   {
    "duration": 17,
    "start_time": "2022-10-02T09:07:48.383Z"
   },
   {
    "duration": 7,
    "start_time": "2022-10-02T09:07:48.402Z"
   },
   {
    "duration": 22,
    "start_time": "2022-10-02T09:07:48.410Z"
   },
   {
    "duration": 8,
    "start_time": "2022-10-02T09:07:48.434Z"
   },
   {
    "duration": 10,
    "start_time": "2022-10-02T09:07:48.444Z"
   },
   {
    "duration": 16,
    "start_time": "2022-10-02T09:07:48.456Z"
   },
   {
    "duration": 13,
    "start_time": "2022-10-02T09:07:48.474Z"
   },
   {
    "duration": 9,
    "start_time": "2022-10-02T09:07:48.489Z"
   },
   {
    "duration": 12,
    "start_time": "2022-10-02T09:07:48.499Z"
   },
   {
    "duration": 17,
    "start_time": "2022-10-02T09:07:48.513Z"
   },
   {
    "duration": 4,
    "start_time": "2022-10-02T09:07:48.533Z"
   },
   {
    "duration": 683,
    "start_time": "2022-10-02T09:58:10.346Z"
   },
   {
    "duration": 10,
    "start_time": "2022-10-02T09:59:47.090Z"
   },
   {
    "duration": 4,
    "start_time": "2022-10-02T10:00:53.748Z"
   },
   {
    "duration": 6,
    "start_time": "2022-10-02T10:02:07.960Z"
   },
   {
    "duration": 3,
    "start_time": "2022-10-02T10:08:25.666Z"
   },
   {
    "duration": 130,
    "start_time": "2022-10-02T10:12:10.947Z"
   },
   {
    "duration": 13,
    "start_time": "2022-10-02T10:12:24.840Z"
   },
   {
    "duration": 58,
    "start_time": "2022-10-02T10:12:36.974Z"
   },
   {
    "duration": 13,
    "start_time": "2022-10-02T10:12:56.645Z"
   },
   {
    "duration": 66,
    "start_time": "2022-10-02T10:14:01.232Z"
   },
   {
    "duration": 6,
    "start_time": "2022-10-02T10:14:09.079Z"
   },
   {
    "duration": 6,
    "start_time": "2022-10-02T10:14:20.919Z"
   },
   {
    "duration": 4,
    "start_time": "2022-10-02T10:17:30.634Z"
   },
   {
    "duration": 11,
    "start_time": "2022-10-02T10:18:18.205Z"
   },
   {
    "duration": 3,
    "start_time": "2022-10-02T10:18:33.285Z"
   },
   {
    "duration": 11,
    "start_time": "2022-10-02T10:18:36.939Z"
   },
   {
    "duration": 3,
    "start_time": "2022-10-02T10:19:04.592Z"
   },
   {
    "duration": 10,
    "start_time": "2022-10-02T10:19:20.816Z"
   },
   {
    "duration": 1124,
    "start_time": "2022-10-02T10:19:30.508Z"
   },
   {
    "duration": 1506,
    "start_time": "2022-10-02T10:19:31.634Z"
   },
   {
    "duration": 26,
    "start_time": "2022-10-02T10:19:33.143Z"
   },
   {
    "duration": 19,
    "start_time": "2022-10-02T10:19:33.172Z"
   },
   {
    "duration": 5,
    "start_time": "2022-10-02T10:19:33.193Z"
   },
   {
    "duration": 8,
    "start_time": "2022-10-02T10:19:33.199Z"
   },
   {
    "duration": 21,
    "start_time": "2022-10-02T10:19:33.208Z"
   },
   {
    "duration": 24,
    "start_time": "2022-10-02T10:19:33.231Z"
   },
   {
    "duration": 14,
    "start_time": "2022-10-02T10:19:33.257Z"
   },
   {
    "duration": 18,
    "start_time": "2022-10-02T10:19:33.275Z"
   },
   {
    "duration": 23,
    "start_time": "2022-10-02T10:19:33.295Z"
   },
   {
    "duration": 25,
    "start_time": "2022-10-02T10:19:33.320Z"
   },
   {
    "duration": 20,
    "start_time": "2022-10-02T10:19:33.347Z"
   },
   {
    "duration": 5,
    "start_time": "2022-10-02T10:19:33.370Z"
   },
   {
    "duration": 15,
    "start_time": "2022-10-02T10:19:33.376Z"
   },
   {
    "duration": 23,
    "start_time": "2022-10-02T10:19:33.393Z"
   },
   {
    "duration": 10,
    "start_time": "2022-10-02T10:19:33.418Z"
   },
   {
    "duration": 10,
    "start_time": "2022-10-02T10:19:33.430Z"
   },
   {
    "duration": 119,
    "start_time": "2022-10-02T10:19:33.441Z"
   },
   {
    "duration": 10,
    "start_time": "2022-10-02T10:20:12.034Z"
   },
   {
    "duration": 32,
    "start_time": "2022-10-02T10:20:14.594Z"
   },
   {
    "duration": 11,
    "start_time": "2022-10-02T10:21:01.552Z"
   },
   {
    "duration": 27,
    "start_time": "2022-10-02T10:21:01.839Z"
   },
   {
    "duration": 13,
    "start_time": "2022-10-02T10:21:20.527Z"
   },
   {
    "duration": 66,
    "start_time": "2022-10-02T13:26:41.525Z"
   },
   {
    "duration": 3,
    "start_time": "2022-10-02T13:27:42.032Z"
   },
   {
    "duration": 35,
    "start_time": "2022-10-02T13:28:01.818Z"
   },
   {
    "duration": 8,
    "start_time": "2022-10-02T13:30:04.646Z"
   },
   {
    "duration": 5,
    "start_time": "2022-10-02T13:30:55.081Z"
   },
   {
    "duration": 5,
    "start_time": "2022-10-02T13:31:08.232Z"
   },
   {
    "duration": 8,
    "start_time": "2022-10-02T13:33:56.475Z"
   },
   {
    "duration": 6,
    "start_time": "2022-10-02T13:34:10.842Z"
   },
   {
    "duration": 6,
    "start_time": "2022-10-02T13:34:39.303Z"
   },
   {
    "duration": 9,
    "start_time": "2022-10-02T13:34:43.735Z"
   },
   {
    "duration": 665,
    "start_time": "2022-10-02T13:35:11.776Z"
   },
   {
    "duration": 685,
    "start_time": "2022-10-02T13:35:29.922Z"
   },
   {
    "duration": 628,
    "start_time": "2022-10-02T13:35:39.396Z"
   },
   {
    "duration": 15,
    "start_time": "2022-10-02T13:36:31.535Z"
   },
   {
    "duration": 698,
    "start_time": "2022-10-02T13:36:49.844Z"
   },
   {
    "duration": 6,
    "start_time": "2022-10-02T13:37:20.914Z"
   },
   {
    "duration": 8,
    "start_time": "2022-10-02T13:40:23.861Z"
   },
   {
    "duration": 9,
    "start_time": "2022-10-02T13:40:49.441Z"
   },
   {
    "duration": 6,
    "start_time": "2022-10-02T13:46:37.501Z"
   },
   {
    "duration": 162,
    "start_time": "2022-10-02T13:46:38.445Z"
   },
   {
    "duration": 5,
    "start_time": "2022-10-02T13:46:41.606Z"
   },
   {
    "duration": 4,
    "start_time": "2022-10-02T13:46:42.037Z"
   },
   {
    "duration": 490,
    "start_time": "2022-10-02T13:46:52.165Z"
   },
   {
    "duration": 5,
    "start_time": "2022-10-02T13:46:52.658Z"
   },
   {
    "duration": 5,
    "start_time": "2022-10-02T13:46:53.357Z"
   },
   {
    "duration": 2947,
    "start_time": "2022-10-02T13:46:59.459Z"
   },
   {
    "duration": 4,
    "start_time": "2022-10-02T13:47:02.408Z"
   },
   {
    "duration": 4,
    "start_time": "2022-10-02T13:47:04.043Z"
   },
   {
    "duration": 155,
    "start_time": "2022-10-02T13:47:07.611Z"
   },
   {
    "duration": 3,
    "start_time": "2022-10-02T13:47:07.947Z"
   },
   {
    "duration": 4,
    "start_time": "2022-10-02T13:47:08.362Z"
   },
   {
    "duration": 1189,
    "start_time": "2022-10-02T17:31:53.366Z"
   },
   {
    "duration": 1835,
    "start_time": "2022-10-02T17:31:54.557Z"
   },
   {
    "duration": 18,
    "start_time": "2022-10-02T17:31:56.394Z"
   },
   {
    "duration": 14,
    "start_time": "2022-10-02T17:31:56.414Z"
   },
   {
    "duration": 4,
    "start_time": "2022-10-02T17:31:56.430Z"
   },
   {
    "duration": 7,
    "start_time": "2022-10-02T17:31:56.436Z"
   },
   {
    "duration": 7,
    "start_time": "2022-10-02T17:31:56.444Z"
   },
   {
    "duration": 8,
    "start_time": "2022-10-02T17:31:56.453Z"
   },
   {
    "duration": 14,
    "start_time": "2022-10-02T17:31:56.464Z"
   },
   {
    "duration": 29,
    "start_time": "2022-10-02T17:31:56.482Z"
   },
   {
    "duration": 6,
    "start_time": "2022-10-02T17:31:56.514Z"
   },
   {
    "duration": 24,
    "start_time": "2022-10-02T17:31:56.521Z"
   },
   {
    "duration": 17,
    "start_time": "2022-10-02T17:31:56.546Z"
   },
   {
    "duration": 3,
    "start_time": "2022-10-02T17:31:56.564Z"
   },
   {
    "duration": 9,
    "start_time": "2022-10-02T17:31:56.569Z"
   },
   {
    "duration": 31,
    "start_time": "2022-10-02T17:31:56.579Z"
   },
   {
    "duration": 12,
    "start_time": "2022-10-02T17:31:56.612Z"
   },
   {
    "duration": 8,
    "start_time": "2022-10-02T17:31:56.626Z"
   },
   {
    "duration": 12,
    "start_time": "2022-10-02T17:31:56.636Z"
   },
   {
    "duration": 37,
    "start_time": "2022-10-02T17:31:56.650Z"
   },
   {
    "duration": 28,
    "start_time": "2022-10-02T17:31:56.689Z"
   },
   {
    "duration": 5,
    "start_time": "2022-10-02T17:31:56.718Z"
   },
   {
    "duration": 44,
    "start_time": "2022-10-02T17:31:56.724Z"
   },
   {
    "duration": 4,
    "start_time": "2022-10-02T17:31:56.770Z"
   },
   {
    "duration": 7,
    "start_time": "2022-10-02T17:31:56.776Z"
   },
   {
    "duration": 26,
    "start_time": "2022-10-02T17:31:56.785Z"
   },
   {
    "duration": 1205,
    "start_time": "2022-10-02T17:31:56.812Z"
   },
   {
    "duration": 9,
    "start_time": "2022-10-02T17:33:22.323Z"
   },
   {
    "duration": 99,
    "start_time": "2022-10-02T17:33:23.168Z"
   },
   {
    "duration": 113,
    "start_time": "2022-10-02T17:33:30.832Z"
   },
   {
    "duration": 154,
    "start_time": "2022-10-02T17:33:33.040Z"
   },
   {
    "duration": 167,
    "start_time": "2022-10-02T17:33:51.527Z"
   },
   {
    "duration": 9,
    "start_time": "2022-10-02T17:34:20.996Z"
   },
   {
    "duration": 6,
    "start_time": "2022-10-02T17:34:24.628Z"
   },
   {
    "duration": 101,
    "start_time": "2022-10-02T17:34:28.092Z"
   },
   {
    "duration": 9,
    "start_time": "2022-10-02T17:34:29.019Z"
   },
   {
    "duration": 106,
    "start_time": "2022-10-02T17:34:29.707Z"
   },
   {
    "duration": 10,
    "start_time": "2022-10-02T17:34:30.756Z"
   },
   {
    "duration": 10,
    "start_time": "2022-10-02T17:34:41.939Z"
   },
   {
    "duration": 6,
    "start_time": "2022-10-02T17:34:46.821Z"
   },
   {
    "duration": 3,
    "start_time": "2022-10-02T17:50:07.704Z"
   },
   {
    "duration": 7,
    "start_time": "2022-10-02T17:50:49.705Z"
   },
   {
    "duration": 100,
    "start_time": "2022-10-02T17:50:50.879Z"
   },
   {
    "duration": 7,
    "start_time": "2022-10-02T17:51:13.366Z"
   },
   {
    "duration": 60,
    "start_time": "2022-10-02T17:51:59.355Z"
   },
   {
    "duration": 6,
    "start_time": "2022-10-02T17:52:03.682Z"
   },
   {
    "duration": 3,
    "start_time": "2022-10-02T17:53:17.845Z"
   },
   {
    "duration": 45,
    "start_time": "2022-10-02T17:53:28.979Z"
   },
   {
    "duration": 7,
    "start_time": "2022-10-02T17:53:32.155Z"
   },
   {
    "duration": 4,
    "start_time": "2022-10-02T17:54:20.015Z"
   },
   {
    "duration": 55,
    "start_time": "2022-10-02T17:54:45.006Z"
   },
   {
    "duration": 6,
    "start_time": "2022-10-02T17:54:49.381Z"
   },
   {
    "duration": 9,
    "start_time": "2022-10-02T17:59:04.816Z"
   },
   {
    "duration": 5,
    "start_time": "2022-10-02T18:01:08.865Z"
   },
   {
    "duration": 7,
    "start_time": "2022-10-02T18:01:21.447Z"
   },
   {
    "duration": 13,
    "start_time": "2022-10-02T18:01:28.929Z"
   },
   {
    "duration": 4,
    "start_time": "2022-10-02T18:01:54.756Z"
   },
   {
    "duration": 22,
    "start_time": "2022-10-02T18:01:58.404Z"
   },
   {
    "duration": 122,
    "start_time": "2022-10-02T18:02:17.228Z"
   },
   {
    "duration": 10,
    "start_time": "2022-10-02T18:03:12.478Z"
   },
   {
    "duration": 4,
    "start_time": "2022-10-02T18:03:55.614Z"
   },
   {
    "duration": 7,
    "start_time": "2022-10-02T18:04:02.772Z"
   },
   {
    "duration": 5,
    "start_time": "2022-10-02T18:06:39.488Z"
   },
   {
    "duration": 6,
    "start_time": "2022-10-02T18:07:06.028Z"
   },
   {
    "duration": 16,
    "start_time": "2022-10-02T18:07:34.222Z"
   },
   {
    "duration": 4,
    "start_time": "2022-10-02T18:07:44.187Z"
   },
   {
    "duration": 11,
    "start_time": "2022-10-02T18:07:47.674Z"
   },
   {
    "duration": 6,
    "start_time": "2022-10-02T18:08:11.385Z"
   },
   {
    "duration": 13,
    "start_time": "2022-10-02T18:08:12.447Z"
   },
   {
    "duration": 9,
    "start_time": "2022-10-02T18:08:23.494Z"
   },
   {
    "duration": 30,
    "start_time": "2022-10-02T18:08:43.947Z"
   },
   {
    "duration": 42,
    "start_time": "2022-10-02T18:08:50.828Z"
   },
   {
    "duration": 49,
    "start_time": "2022-10-02T18:09:15.267Z"
   },
   {
    "duration": 8,
    "start_time": "2022-10-02T18:09:54.775Z"
   },
   {
    "duration": 9,
    "start_time": "2022-10-02T18:10:06.998Z"
   },
   {
    "duration": 7,
    "start_time": "2022-10-02T18:10:07.830Z"
   },
   {
    "duration": 7,
    "start_time": "2022-10-02T18:10:26.266Z"
   },
   {
    "duration": 7,
    "start_time": "2022-10-02T18:10:26.708Z"
   },
   {
    "duration": 9,
    "start_time": "2022-10-02T18:10:27.309Z"
   },
   {
    "duration": 45,
    "start_time": "2022-10-02T18:10:30.750Z"
   },
   {
    "duration": 50,
    "start_time": "2022-10-03T14:56:24.925Z"
   },
   {
    "duration": 1654,
    "start_time": "2022-10-03T14:56:41.547Z"
   },
   {
    "duration": 3010,
    "start_time": "2022-10-03T14:56:43.203Z"
   },
   {
    "duration": 19,
    "start_time": "2022-10-03T14:56:46.215Z"
   },
   {
    "duration": 15,
    "start_time": "2022-10-03T14:56:46.236Z"
   },
   {
    "duration": 5,
    "start_time": "2022-10-03T14:56:46.253Z"
   },
   {
    "duration": 33,
    "start_time": "2022-10-03T14:56:46.260Z"
   },
   {
    "duration": 13,
    "start_time": "2022-10-03T14:56:46.295Z"
   },
   {
    "duration": 8,
    "start_time": "2022-10-03T14:56:46.309Z"
   },
   {
    "duration": 14,
    "start_time": "2022-10-03T14:56:46.319Z"
   },
   {
    "duration": 7,
    "start_time": "2022-10-03T14:56:46.336Z"
   },
   {
    "duration": 9,
    "start_time": "2022-10-03T14:56:46.345Z"
   },
   {
    "duration": 45,
    "start_time": "2022-10-03T14:56:46.355Z"
   },
   {
    "duration": 20,
    "start_time": "2022-10-03T14:56:46.402Z"
   },
   {
    "duration": 3,
    "start_time": "2022-10-03T14:56:46.424Z"
   },
   {
    "duration": 12,
    "start_time": "2022-10-03T14:56:46.429Z"
   },
   {
    "duration": 7,
    "start_time": "2022-10-03T14:56:46.443Z"
   },
   {
    "duration": 16,
    "start_time": "2022-10-03T14:56:46.452Z"
   },
   {
    "duration": 22,
    "start_time": "2022-10-03T14:56:46.470Z"
   },
   {
    "duration": 16,
    "start_time": "2022-10-03T14:56:46.494Z"
   },
   {
    "duration": 31,
    "start_time": "2022-10-03T14:56:46.512Z"
   },
   {
    "duration": 13,
    "start_time": "2022-10-03T14:56:46.545Z"
   },
   {
    "duration": 9,
    "start_time": "2022-10-03T14:56:46.560Z"
   },
   {
    "duration": 40,
    "start_time": "2022-10-03T14:56:46.602Z"
   },
   {
    "duration": 5,
    "start_time": "2022-10-03T14:56:46.644Z"
   },
   {
    "duration": 8,
    "start_time": "2022-10-03T14:56:46.651Z"
   },
   {
    "duration": 58,
    "start_time": "2022-10-03T14:56:46.661Z"
   },
   {
    "duration": 13,
    "start_time": "2022-10-03T14:56:46.721Z"
   },
   {
    "duration": 7,
    "start_time": "2022-10-03T14:56:46.738Z"
   },
   {
    "duration": 165,
    "start_time": "2022-10-03T14:56:46.746Z"
   },
   {
    "duration": 12,
    "start_time": "2022-10-03T14:56:46.913Z"
   },
   {
    "duration": 139,
    "start_time": "2022-10-03T14:56:46.927Z"
   },
   {
    "duration": 7,
    "start_time": "2022-10-03T14:56:47.068Z"
   },
   {
    "duration": 22,
    "start_time": "2022-10-03T14:56:47.077Z"
   },
   {
    "duration": 8,
    "start_time": "2022-10-03T14:56:47.101Z"
   },
   {
    "duration": 8,
    "start_time": "2022-10-03T14:56:47.110Z"
   },
   {
    "duration": 157,
    "start_time": "2022-10-03T14:56:47.119Z"
   },
   {
    "duration": 7,
    "start_time": "2022-10-03T14:56:47.278Z"
   },
   {
    "duration": 15,
    "start_time": "2022-10-03T14:56:47.287Z"
   },
   {
    "duration": 10,
    "start_time": "2022-10-03T14:56:47.304Z"
   },
   {
    "duration": 98,
    "start_time": "2022-10-03T14:56:47.316Z"
   },
   {
    "duration": 41,
    "start_time": "2022-10-03T14:56:47.416Z"
   },
   {
    "duration": 46,
    "start_time": "2022-10-03T14:58:17.670Z"
   },
   {
    "duration": 14,
    "start_time": "2022-10-03T14:58:18.496Z"
   },
   {
    "duration": 356,
    "start_time": "2022-10-03T14:59:07.443Z"
   },
   {
    "duration": 13,
    "start_time": "2022-10-03T14:59:13.916Z"
   },
   {
    "duration": 48,
    "start_time": "2022-10-03T15:04:11.868Z"
   },
   {
    "duration": 8,
    "start_time": "2022-10-03T15:04:12.444Z"
   },
   {
    "duration": 37,
    "start_time": "2022-10-03T15:04:14.730Z"
   },
   {
    "duration": 8,
    "start_time": "2022-10-03T15:04:15.436Z"
   },
   {
    "duration": 36,
    "start_time": "2022-10-03T15:04:16.851Z"
   },
   {
    "duration": 11,
    "start_time": "2022-10-03T15:04:17.197Z"
   },
   {
    "duration": 41,
    "start_time": "2022-10-03T15:04:18.371Z"
   },
   {
    "duration": 9,
    "start_time": "2022-10-03T15:04:18.610Z"
   },
   {
    "duration": 42,
    "start_time": "2022-10-03T15:04:20.458Z"
   },
   {
    "duration": 11,
    "start_time": "2022-10-03T15:04:20.754Z"
   },
   {
    "duration": 46,
    "start_time": "2022-10-03T15:04:22.066Z"
   },
   {
    "duration": 8,
    "start_time": "2022-10-03T15:04:22.322Z"
   },
   {
    "duration": 41,
    "start_time": "2022-10-03T15:04:23.386Z"
   },
   {
    "duration": 11,
    "start_time": "2022-10-03T15:04:23.586Z"
   },
   {
    "duration": 43,
    "start_time": "2022-10-03T15:04:25.057Z"
   },
   {
    "duration": 8,
    "start_time": "2022-10-03T15:04:25.242Z"
   },
   {
    "duration": 39,
    "start_time": "2022-10-03T15:05:43.028Z"
   },
   {
    "duration": 11,
    "start_time": "2022-10-03T15:05:43.668Z"
   },
   {
    "duration": 131,
    "start_time": "2022-10-03T15:05:44.372Z"
   },
   {
    "duration": 106,
    "start_time": "2022-10-03T15:06:06.602Z"
   },
   {
    "duration": 10,
    "start_time": "2022-10-03T15:06:11.274Z"
   },
   {
    "duration": 96,
    "start_time": "2022-10-03T15:06:16.058Z"
   },
   {
    "duration": 6,
    "start_time": "2022-10-03T15:06:34.041Z"
   },
   {
    "duration": 48,
    "start_time": "2022-10-03T17:03:26.886Z"
   },
   {
    "duration": 6,
    "start_time": "2022-10-03T17:03:27.910Z"
   },
   {
    "duration": 40,
    "start_time": "2022-10-03T17:03:32.966Z"
   },
   {
    "duration": 7,
    "start_time": "2022-10-03T17:03:38.669Z"
   },
   {
    "duration": 7,
    "start_time": "2022-10-03T17:03:40.365Z"
   },
   {
    "duration": 6,
    "start_time": "2022-10-03T17:03:41.165Z"
   },
   {
    "duration": 41,
    "start_time": "2022-10-03T17:04:13.100Z"
   },
   {
    "duration": 8,
    "start_time": "2022-10-03T17:04:13.802Z"
   },
   {
    "duration": 37,
    "start_time": "2022-10-03T17:05:58.227Z"
   },
   {
    "duration": 12,
    "start_time": "2022-10-03T17:05:58.892Z"
   },
   {
    "duration": 5,
    "start_time": "2022-10-03T17:05:59.562Z"
   },
   {
    "duration": 41,
    "start_time": "2022-10-03T17:06:47.063Z"
   },
   {
    "duration": 13,
    "start_time": "2022-10-03T17:07:34.324Z"
   },
   {
    "duration": 283,
    "start_time": "2022-10-03T17:07:58.129Z"
   },
   {
    "duration": 25,
    "start_time": "2022-10-03T17:07:59.576Z"
   },
   {
    "duration": 38,
    "start_time": "2022-10-03T17:08:35.127Z"
   },
   {
    "duration": 9,
    "start_time": "2022-10-03T17:08:35.525Z"
   },
   {
    "duration": 35,
    "start_time": "2022-10-03T17:09:05.205Z"
   },
   {
    "duration": 11,
    "start_time": "2022-10-03T17:09:06.332Z"
   },
   {
    "duration": 377,
    "start_time": "2022-10-03T17:09:26.035Z"
   },
   {
    "duration": 12,
    "start_time": "2022-10-03T17:09:28.146Z"
   },
   {
    "duration": 8,
    "start_time": "2022-10-03T17:09:37.506Z"
   },
   {
    "duration": 42,
    "start_time": "2022-10-03T17:10:06.477Z"
   },
   {
    "duration": 6,
    "start_time": "2022-10-03T17:10:07.318Z"
   },
   {
    "duration": 7,
    "start_time": "2022-10-03T17:10:09.208Z"
   },
   {
    "duration": 6,
    "start_time": "2022-10-03T17:10:10.517Z"
   },
   {
    "duration": 126,
    "start_time": "2022-10-03T17:10:22.983Z"
   },
   {
    "duration": 6,
    "start_time": "2022-10-03T17:10:26.141Z"
   },
   {
    "duration": 34,
    "start_time": "2022-10-03T17:11:18.818Z"
   },
   {
    "duration": 43,
    "start_time": "2022-10-03T17:11:22.018Z"
   },
   {
    "duration": 38,
    "start_time": "2022-10-03T17:11:38.625Z"
   },
   {
    "duration": 6,
    "start_time": "2022-10-03T17:11:38.928Z"
   },
   {
    "duration": 9,
    "start_time": "2022-10-03T17:11:39.401Z"
   },
   {
    "duration": 7,
    "start_time": "2022-10-03T17:11:39.905Z"
   },
   {
    "duration": 131,
    "start_time": "2022-10-03T17:11:48.752Z"
   },
   {
    "duration": 8,
    "start_time": "2022-10-03T17:11:55.664Z"
   },
   {
    "duration": 362,
    "start_time": "2022-10-03T17:12:23.446Z"
   },
   {
    "duration": 145,
    "start_time": "2022-10-03T17:12:48.066Z"
   },
   {
    "duration": 6,
    "start_time": "2022-10-03T17:12:48.434Z"
   },
   {
    "duration": 7,
    "start_time": "2022-10-03T17:12:48.940Z"
   },
   {
    "duration": 7,
    "start_time": "2022-10-03T17:12:49.555Z"
   },
   {
    "duration": 247,
    "start_time": "2022-10-03T17:12:50.250Z"
   },
   {
    "duration": 6,
    "start_time": "2022-10-03T17:12:51.533Z"
   },
   {
    "duration": 7,
    "start_time": "2022-10-03T17:43:00.448Z"
   },
   {
    "duration": 7,
    "start_time": "2022-10-03T17:43:01.062Z"
   },
   {
    "duration": 9,
    "start_time": "2022-10-03T17:44:50.809Z"
   },
   {
    "duration": 10,
    "start_time": "2022-10-03T17:45:00.295Z"
   },
   {
    "duration": 7,
    "start_time": "2022-10-03T17:45:07.932Z"
   },
   {
    "duration": 8,
    "start_time": "2022-10-03T17:45:08.829Z"
   },
   {
    "duration": 6,
    "start_time": "2022-10-03T17:45:13.444Z"
   },
   {
    "duration": 8,
    "start_time": "2022-10-03T17:45:14.253Z"
   },
   {
    "duration": 17,
    "start_time": "2022-10-03T17:45:24.765Z"
   },
   {
    "duration": 7,
    "start_time": "2022-10-03T17:45:52.635Z"
   },
   {
    "duration": 11,
    "start_time": "2022-10-03T17:46:04.266Z"
   },
   {
    "duration": 10,
    "start_time": "2022-10-03T17:46:42.105Z"
   },
   {
    "duration": 10,
    "start_time": "2022-10-03T17:46:42.750Z"
   },
   {
    "duration": 48,
    "start_time": "2022-10-03T17:46:43.766Z"
   },
   {
    "duration": 48,
    "start_time": "2022-10-03T17:47:41.682Z"
   },
   {
    "duration": 603,
    "start_time": "2022-10-03T17:49:00.388Z"
   },
   {
    "duration": 5,
    "start_time": "2022-10-03T17:51:25.235Z"
   },
   {
    "duration": 22,
    "start_time": "2022-10-03T17:51:36.048Z"
   },
   {
    "duration": 5,
    "start_time": "2022-10-03T17:51:43.583Z"
   },
   {
    "duration": 54,
    "start_time": "2022-10-03T18:04:53.650Z"
   },
   {
    "duration": 41,
    "start_time": "2022-10-03T18:05:09.032Z"
   },
   {
    "duration": 178,
    "start_time": "2022-10-03T18:05:09.472Z"
   },
   {
    "duration": 172,
    "start_time": "2022-10-03T18:05:24.296Z"
   },
   {
    "duration": 4,
    "start_time": "2022-10-03T18:05:24.622Z"
   },
   {
    "duration": 4,
    "start_time": "2022-10-03T18:05:25.063Z"
   },
   {
    "duration": 81,
    "start_time": "2022-10-03T18:05:51.750Z"
   },
   {
    "duration": 31,
    "start_time": "2022-10-03T18:05:59.468Z"
   },
   {
    "duration": 12,
    "start_time": "2022-10-03T18:06:00.188Z"
   },
   {
    "duration": 29,
    "start_time": "2022-10-03T18:06:47.968Z"
   },
   {
    "duration": 7,
    "start_time": "2022-10-03T18:06:48.272Z"
   },
   {
    "duration": 6,
    "start_time": "2022-10-03T18:06:48.720Z"
   },
   {
    "duration": 7,
    "start_time": "2022-10-03T18:06:49.864Z"
   },
   {
    "duration": 135,
    "start_time": "2022-10-03T18:06:50.417Z"
   },
   {
    "duration": 9,
    "start_time": "2022-10-03T18:07:00.194Z"
   },
   {
    "duration": 512,
    "start_time": "2022-10-03T18:08:12.843Z"
   },
   {
    "duration": 5,
    "start_time": "2022-10-03T18:08:13.358Z"
   },
   {
    "duration": 4,
    "start_time": "2022-10-03T18:08:13.866Z"
   },
   {
    "duration": 117,
    "start_time": "2022-10-03T18:08:25.705Z"
   },
   {
    "duration": 113,
    "start_time": "2022-10-03T18:09:05.726Z"
   },
   {
    "duration": 12,
    "start_time": "2022-10-03T18:09:05.998Z"
   },
   {
    "duration": 6,
    "start_time": "2022-10-03T18:09:06.525Z"
   },
   {
    "duration": 6,
    "start_time": "2022-10-03T18:09:07.125Z"
   },
   {
    "duration": 126,
    "start_time": "2022-10-03T18:09:07.917Z"
   },
   {
    "duration": 6,
    "start_time": "2022-10-03T18:09:10.909Z"
   },
   {
    "duration": 451,
    "start_time": "2022-10-03T18:09:38.148Z"
   },
   {
    "duration": 7599,
    "start_time": "2022-10-03T18:09:38.804Z"
   },
   {
    "duration": 5234,
    "start_time": "2022-10-03T18:09:47.770Z"
   },
   {
    "duration": 101,
    "start_time": "2022-10-03T18:09:53.009Z"
   },
   {
    "duration": 19,
    "start_time": "2022-10-03T18:09:53.191Z"
   },
   {
    "duration": 352,
    "start_time": "2022-10-03T18:10:29.849Z"
   },
   {
    "duration": 9,
    "start_time": "2022-10-03T18:10:41.399Z"
   },
   {
    "duration": 7,
    "start_time": "2022-10-03T18:10:47.910Z"
   },
   {
    "duration": 6,
    "start_time": "2022-10-03T18:10:48.566Z"
   },
   {
    "duration": 300,
    "start_time": "2022-10-03T18:10:57.118Z"
   },
   {
    "duration": 6,
    "start_time": "2022-10-03T18:11:04.150Z"
   },
   {
    "duration": 39041,
    "start_time": "2022-10-03T18:12:02.025Z"
   },
   {
    "duration": 4,
    "start_time": "2022-10-03T18:12:41.069Z"
   },
   {
    "duration": 16,
    "start_time": "2022-10-03T18:12:41.075Z"
   },
   {
    "duration": 389,
    "start_time": "2022-10-03T18:13:00.661Z"
   },
   {
    "duration": 7,
    "start_time": "2022-10-03T18:13:01.703Z"
   },
   {
    "duration": 7,
    "start_time": "2022-10-03T18:13:02.400Z"
   },
   {
    "duration": 6,
    "start_time": "2022-10-03T18:13:03.035Z"
   },
   {
    "duration": 144,
    "start_time": "2022-10-03T18:13:04.485Z"
   },
   {
    "duration": 7,
    "start_time": "2022-10-03T18:13:07.778Z"
   },
   {
    "duration": 16492,
    "start_time": "2022-10-03T18:13:15.699Z"
   },
   {
    "duration": 5,
    "start_time": "2022-10-03T18:13:32.194Z"
   },
   {
    "duration": 95,
    "start_time": "2022-10-03T18:13:32.201Z"
   },
   {
    "duration": 340,
    "start_time": "2022-10-03T18:14:50.404Z"
   },
   {
    "duration": 27,
    "start_time": "2022-10-03T18:15:39.896Z"
   },
   {
    "duration": 140,
    "start_time": "2022-10-03T18:15:49.880Z"
   },
   {
    "duration": 365,
    "start_time": "2022-10-03T18:15:54.415Z"
   },
   {
    "duration": 24,
    "start_time": "2022-10-03T18:15:54.824Z"
   },
   {
    "duration": 10,
    "start_time": "2022-10-03T18:15:55.463Z"
   },
   {
    "duration": 365,
    "start_time": "2022-10-03T18:16:04.790Z"
   },
   {
    "duration": 36,
    "start_time": "2022-10-03T18:16:05.157Z"
   },
   {
    "duration": 6,
    "start_time": "2022-10-03T18:16:05.445Z"
   },
   {
    "duration": 6,
    "start_time": "2022-10-03T18:16:27.469Z"
   },
   {
    "duration": 6,
    "start_time": "2022-10-03T18:16:44.531Z"
   },
   {
    "duration": 1172,
    "start_time": "2022-10-03T18:17:11.913Z"
   },
   {
    "duration": 68,
    "start_time": "2022-10-03T18:17:13.087Z"
   },
   {
    "duration": 6,
    "start_time": "2022-10-03T18:17:14.145Z"
   },
   {
    "duration": 8,
    "start_time": "2022-10-03T18:17:15.000Z"
   },
   {
    "duration": 6,
    "start_time": "2022-10-03T18:17:15.664Z"
   },
   {
    "duration": 1603,
    "start_time": "2022-10-03T18:17:21.528Z"
   },
   {
    "duration": 89,
    "start_time": "2022-10-03T18:17:23.134Z"
   },
   {
    "duration": 6,
    "start_time": "2022-10-03T18:17:23.225Z"
   },
   {
    "duration": 9,
    "start_time": "2022-10-03T18:17:23.232Z"
   },
   {
    "duration": 7,
    "start_time": "2022-10-03T18:17:23.408Z"
   },
   {
    "duration": 547,
    "start_time": "2022-10-03T18:17:28.553Z"
   },
   {
    "duration": 35,
    "start_time": "2022-10-03T18:17:29.103Z"
   },
   {
    "duration": 7,
    "start_time": "2022-10-03T18:17:29.375Z"
   },
   {
    "duration": 8,
    "start_time": "2022-10-03T18:17:29.840Z"
   },
   {
    "duration": 7,
    "start_time": "2022-10-03T18:17:30.431Z"
   },
   {
    "duration": 416,
    "start_time": "2022-10-03T18:17:35.799Z"
   },
   {
    "duration": 27,
    "start_time": "2022-10-03T18:17:36.230Z"
   },
   {
    "duration": 8,
    "start_time": "2022-10-03T18:17:36.702Z"
   },
   {
    "duration": 7,
    "start_time": "2022-10-03T18:17:37.170Z"
   },
   {
    "duration": 9,
    "start_time": "2022-10-03T18:17:37.885Z"
   },
   {
    "duration": 38361,
    "start_time": "2022-10-03T18:17:55.661Z"
   },
   {
    "duration": 3,
    "start_time": "2022-10-03T18:18:34.024Z"
   },
   {
    "duration": 10,
    "start_time": "2022-10-03T18:18:34.028Z"
   },
   {
    "duration": 22,
    "start_time": "2022-10-03T18:20:04.692Z"
   },
   {
    "duration": 39326,
    "start_time": "2022-10-03T18:20:04.716Z"
   },
   {
    "duration": 3,
    "start_time": "2022-10-03T18:20:44.044Z"
   },
   {
    "duration": 9,
    "start_time": "2022-10-03T18:20:44.049Z"
   },
   {
    "duration": 224,
    "start_time": "2022-10-03T18:20:44.060Z"
   },
   {
    "duration": 4,
    "start_time": "2022-10-03T18:20:45.040Z"
   },
   {
    "duration": 4,
    "start_time": "2022-10-03T18:20:46.423Z"
   },
   {
    "duration": 30,
    "start_time": "2022-10-03T18:20:52.393Z"
   },
   {
    "duration": 6,
    "start_time": "2022-10-03T18:20:52.847Z"
   },
   {
    "duration": 6,
    "start_time": "2022-10-03T18:20:53.535Z"
   },
   {
    "duration": 6,
    "start_time": "2022-10-03T18:20:54.127Z"
   },
   {
    "duration": 142,
    "start_time": "2022-10-03T18:20:55.079Z"
   },
   {
    "duration": 7,
    "start_time": "2022-10-03T18:20:58.358Z"
   },
   {
    "duration": 42,
    "start_time": "2022-10-03T18:20:58.935Z"
   },
   {
    "duration": 53674,
    "start_time": "2022-10-03T18:21:20.933Z"
   },
   {
    "duration": 4,
    "start_time": "2022-10-03T18:22:14.609Z"
   },
   {
    "duration": 11,
    "start_time": "2022-10-03T18:22:14.615Z"
   },
   {
    "duration": 1047,
    "start_time": "2022-10-03T18:22:22.474Z"
   },
   {
    "duration": 6,
    "start_time": "2022-10-03T18:22:23.523Z"
   },
   {
    "duration": 6,
    "start_time": "2022-10-03T18:22:24.329Z"
   },
   {
    "duration": 7,
    "start_time": "2022-10-03T18:22:25.105Z"
   },
   {
    "duration": 181,
    "start_time": "2022-10-03T18:22:27.080Z"
   },
   {
    "duration": 7,
    "start_time": "2022-10-03T18:22:30.224Z"
   },
   {
    "duration": 24046,
    "start_time": "2022-10-03T18:22:37.753Z"
   },
   {
    "duration": 6,
    "start_time": "2022-10-03T18:23:01.807Z"
   },
   {
    "duration": 114,
    "start_time": "2022-10-03T18:23:01.891Z"
   },
   {
    "duration": 354,
    "start_time": "2022-10-03T18:23:07.957Z"
   },
   {
    "duration": 176,
    "start_time": "2022-10-03T18:23:08.315Z"
   },
   {
    "duration": 6,
    "start_time": "2022-10-03T18:23:08.645Z"
   },
   {
    "duration": 8,
    "start_time": "2022-10-03T18:23:09.084Z"
   },
   {
    "duration": 305,
    "start_time": "2022-10-03T18:23:10.069Z"
   },
   {
    "duration": 7,
    "start_time": "2022-10-03T18:23:10.556Z"
   },
   {
    "duration": 993,
    "start_time": "2022-10-03T18:23:16.012Z"
   },
   {
    "duration": 64,
    "start_time": "2022-10-03T18:23:18.492Z"
   },
   {
    "duration": 7,
    "start_time": "2022-10-03T18:23:19.284Z"
   },
   {
    "duration": 12,
    "start_time": "2022-10-03T18:23:19.892Z"
   },
   {
    "duration": 7,
    "start_time": "2022-10-03T18:23:20.539Z"
   },
   {
    "duration": 26,
    "start_time": "2022-10-03T18:23:57.010Z"
   },
   {
    "duration": 6,
    "start_time": "2022-10-03T18:23:57.377Z"
   },
   {
    "duration": 1197,
    "start_time": "2022-10-03T18:24:05.224Z"
   },
   {
    "duration": 66,
    "start_time": "2022-10-03T18:24:06.423Z"
   },
   {
    "duration": 13,
    "start_time": "2022-10-03T18:24:06.493Z"
   },
   {
    "duration": 10,
    "start_time": "2022-10-03T18:24:06.584Z"
   },
   {
    "duration": 7,
    "start_time": "2022-10-03T18:24:07.203Z"
   },
   {
    "duration": 186,
    "start_time": "2022-10-03T18:24:15.785Z"
   },
   {
    "duration": 187,
    "start_time": "2022-10-03T18:25:09.645Z"
   },
   {
    "duration": 8,
    "start_time": "2022-10-03T18:25:18.403Z"
   },
   {
    "duration": 60,
    "start_time": "2022-10-04T15:49:06.205Z"
   },
   {
    "duration": 49,
    "start_time": "2022-10-04T15:53:22.102Z"
   },
   {
    "duration": 6,
    "start_time": "2022-10-04T15:53:22.376Z"
   },
   {
    "duration": 1500,
    "start_time": "2022-10-04T15:53:27.947Z"
   },
   {
    "duration": 2080,
    "start_time": "2022-10-04T15:53:29.448Z"
   },
   {
    "duration": 15,
    "start_time": "2022-10-04T15:53:31.529Z"
   },
   {
    "duration": 18,
    "start_time": "2022-10-04T15:53:31.545Z"
   },
   {
    "duration": 4,
    "start_time": "2022-10-04T15:53:31.564Z"
   },
   {
    "duration": 12,
    "start_time": "2022-10-04T15:53:31.569Z"
   },
   {
    "duration": 8,
    "start_time": "2022-10-04T15:53:31.582Z"
   },
   {
    "duration": 10,
    "start_time": "2022-10-04T15:53:31.591Z"
   },
   {
    "duration": 12,
    "start_time": "2022-10-04T15:53:31.602Z"
   },
   {
    "duration": 23,
    "start_time": "2022-10-04T15:53:31.616Z"
   },
   {
    "duration": 7,
    "start_time": "2022-10-04T15:53:31.640Z"
   },
   {
    "duration": 11,
    "start_time": "2022-10-04T15:53:31.648Z"
   },
   {
    "duration": 42,
    "start_time": "2022-10-04T15:53:31.661Z"
   },
   {
    "duration": 25,
    "start_time": "2022-10-04T15:53:31.704Z"
   },
   {
    "duration": 12,
    "start_time": "2022-10-04T15:53:31.730Z"
   },
   {
    "duration": 7,
    "start_time": "2022-10-04T15:53:31.744Z"
   },
   {
    "duration": 20,
    "start_time": "2022-10-04T15:53:31.752Z"
   },
   {
    "duration": 18,
    "start_time": "2022-10-04T15:53:31.774Z"
   },
   {
    "duration": 27,
    "start_time": "2022-10-04T15:53:31.793Z"
   },
   {
    "duration": 33,
    "start_time": "2022-10-04T15:53:31.822Z"
   },
   {
    "duration": 11,
    "start_time": "2022-10-04T15:53:31.856Z"
   },
   {
    "duration": 55,
    "start_time": "2022-10-04T15:53:31.868Z"
   },
   {
    "duration": 6,
    "start_time": "2022-10-04T15:53:31.925Z"
   },
   {
    "duration": 18,
    "start_time": "2022-10-04T15:53:31.933Z"
   },
   {
    "duration": 48,
    "start_time": "2022-10-04T15:53:31.953Z"
   },
   {
    "duration": 13,
    "start_time": "2022-10-04T15:53:32.003Z"
   },
   {
    "duration": 105,
    "start_time": "2022-10-04T15:53:32.018Z"
   },
   {
    "duration": 114,
    "start_time": "2022-10-04T15:53:32.214Z"
   },
   {
    "duration": 85,
    "start_time": "2022-10-04T15:53:32.330Z"
   },
   {
    "duration": 214,
    "start_time": "2022-10-04T15:53:32.418Z"
   },
   {
    "duration": 38,
    "start_time": "2022-10-04T15:53:32.633Z"
   },
   {
    "duration": 9,
    "start_time": "2022-10-04T15:53:32.673Z"
   },
   {
    "duration": 112,
    "start_time": "2022-10-04T15:53:32.683Z"
   },
   {
    "duration": 42,
    "start_time": "2022-10-04T15:53:32.797Z"
   },
   {
    "duration": 9,
    "start_time": "2022-10-04T15:53:32.841Z"
   },
   {
    "duration": 175,
    "start_time": "2022-10-04T15:53:32.852Z"
   },
   {
    "duration": 101,
    "start_time": "2022-10-04T15:53:33.029Z"
   },
   {
    "duration": 10,
    "start_time": "2022-10-04T15:53:33.211Z"
   },
   {
    "duration": 259,
    "start_time": "2022-10-04T15:53:33.223Z"
   },
   {
    "duration": 6,
    "start_time": "2022-10-04T15:53:33.483Z"
   },
   {
    "duration": 50,
    "start_time": "2022-10-04T15:53:33.490Z"
   },
   {
    "duration": 5,
    "start_time": "2022-10-04T15:53:33.542Z"
   },
   {
    "duration": 7,
    "start_time": "2022-10-04T15:53:33.548Z"
   },
   {
    "duration": 7,
    "start_time": "2022-10-04T15:53:33.556Z"
   },
   {
    "duration": 133,
    "start_time": "2022-10-04T15:53:33.564Z"
   },
   {
    "duration": 12,
    "start_time": "2022-10-04T15:53:33.699Z"
   },
   {
    "duration": 48,
    "start_time": "2022-10-04T15:53:33.712Z"
   },
   {
    "duration": 5,
    "start_time": "2022-10-04T15:53:33.761Z"
   },
   {
    "duration": 5,
    "start_time": "2022-10-04T15:53:33.767Z"
   },
   {
    "duration": 14,
    "start_time": "2022-10-04T15:53:33.774Z"
   },
   {
    "duration": 117,
    "start_time": "2022-10-04T15:53:33.789Z"
   },
   {
    "duration": 7,
    "start_time": "2022-10-04T15:53:33.909Z"
   },
   {
    "duration": 100,
    "start_time": "2022-10-04T15:53:33.917Z"
   },
   {
    "duration": 99,
    "start_time": "2022-10-04T15:53:34.018Z"
   },
   {
    "duration": 100,
    "start_time": "2022-10-04T15:53:34.119Z"
   },
   {
    "duration": 10,
    "start_time": "2022-10-04T15:53:34.221Z"
   },
   {
    "duration": 291,
    "start_time": "2022-10-04T15:53:34.232Z"
   },
   {
    "duration": 7,
    "start_time": "2022-10-04T15:53:34.525Z"
   },
   {
    "duration": 7,
    "start_time": "2022-10-04T15:53:34.534Z"
   },
   {
    "duration": 13,
    "start_time": "2022-10-04T15:53:34.542Z"
   },
   {
    "duration": 5,
    "start_time": "2022-10-04T15:53:34.557Z"
   },
   {
    "duration": 69,
    "start_time": "2022-10-04T15:53:34.564Z"
   },
   {
    "duration": 235,
    "start_time": "2022-10-04T15:53:34.634Z"
   },
   {
    "duration": 4,
    "start_time": "2022-10-04T15:53:34.870Z"
   },
   {
    "duration": 7,
    "start_time": "2022-10-04T15:53:34.875Z"
   },
   {
    "duration": 30,
    "start_time": "2022-10-04T15:53:34.884Z"
   },
   {
    "duration": 6,
    "start_time": "2022-10-04T15:53:34.916Z"
   },
   {
    "duration": 31,
    "start_time": "2022-10-04T15:53:34.923Z"
   },
   {
    "duration": 7,
    "start_time": "2022-10-04T15:53:34.955Z"
   },
   {
    "duration": 111,
    "start_time": "2022-10-04T15:53:34.963Z"
   },
   {
    "duration": 5,
    "start_time": "2022-10-04T15:53:35.075Z"
   },
   {
    "duration": 52,
    "start_time": "2022-10-04T15:53:35.081Z"
   },
   {
    "duration": 51083,
    "start_time": "2022-10-04T15:53:35.135Z"
   },
   {
    "duration": 5,
    "start_time": "2022-10-04T15:54:26.220Z"
   },
   {
    "duration": 9,
    "start_time": "2022-10-04T15:54:26.227Z"
   },
   {
    "duration": 1033,
    "start_time": "2022-10-04T15:54:26.238Z"
   },
   {
    "duration": 5,
    "start_time": "2022-10-04T15:54:27.273Z"
   },
   {
    "duration": 6,
    "start_time": "2022-10-04T15:54:27.280Z"
   },
   {
    "duration": 26,
    "start_time": "2022-10-04T15:54:27.287Z"
   },
   {
    "duration": 161,
    "start_time": "2022-10-04T15:54:27.315Z"
   },
   {
    "duration": 6,
    "start_time": "2022-10-04T15:54:27.478Z"
   },
   {
    "duration": 238,
    "start_time": "2022-10-04T15:54:27.489Z"
   },
   {
    "duration": 4381,
    "start_time": "2022-10-04T15:54:27.729Z"
   },
   {
    "duration": 6,
    "start_time": "2022-10-04T15:54:32.116Z"
   },
   {
    "duration": 85,
    "start_time": "2022-10-04T15:54:32.127Z"
   },
   {
    "duration": 106,
    "start_time": "2022-10-04T15:54:32.214Z"
   },
   {
    "duration": 192,
    "start_time": "2022-10-04T15:54:32.323Z"
   },
   {
    "duration": 32,
    "start_time": "2022-10-04T15:54:32.517Z"
   },
   {
    "duration": 6,
    "start_time": "2022-10-04T15:54:32.550Z"
   },
   {
    "duration": 295,
    "start_time": "2022-10-04T15:54:32.558Z"
   },
   {
    "duration": 6,
    "start_time": "2022-10-04T15:54:32.855Z"
   },
   {
    "duration": 1016,
    "start_time": "2022-10-04T15:54:32.862Z"
   },
   {
    "duration": 56,
    "start_time": "2022-10-04T15:54:33.879Z"
   },
   {
    "duration": 5,
    "start_time": "2022-10-04T15:54:33.936Z"
   },
   {
    "duration": 6,
    "start_time": "2022-10-04T15:54:33.942Z"
   },
   {
    "duration": 7,
    "start_time": "2022-10-04T15:54:33.949Z"
   },
   {
    "duration": 173,
    "start_time": "2022-10-04T15:54:33.957Z"
   },
   {
    "duration": 5,
    "start_time": "2022-10-04T15:54:34.131Z"
   },
   {
    "duration": 37,
    "start_time": "2022-10-04T15:54:58.680Z"
   },
   {
    "duration": 8,
    "start_time": "2022-10-04T15:54:59.032Z"
   },
   {
    "duration": 94,
    "start_time": "2022-10-04T15:54:59.871Z"
   },
   {
    "duration": 39,
    "start_time": "2022-10-04T15:55:01.897Z"
   },
   {
    "duration": 9,
    "start_time": "2022-10-04T15:55:02.279Z"
   },
   {
    "duration": 40,
    "start_time": "2022-10-04T15:55:32.645Z"
   },
   {
    "duration": 1351,
    "start_time": "2022-10-04T15:55:42.237Z"
   },
   {
    "duration": 1378,
    "start_time": "2022-10-04T15:55:43.590Z"
   },
   {
    "duration": 46,
    "start_time": "2022-10-04T15:55:44.970Z"
   },
   {
    "duration": 15,
    "start_time": "2022-10-04T15:55:45.018Z"
   },
   {
    "duration": 4,
    "start_time": "2022-10-04T15:55:45.034Z"
   },
   {
    "duration": 6,
    "start_time": "2022-10-04T15:55:45.039Z"
   },
   {
    "duration": 5,
    "start_time": "2022-10-04T15:55:45.046Z"
   },
   {
    "duration": 6,
    "start_time": "2022-10-04T15:55:45.109Z"
   },
   {
    "duration": 22,
    "start_time": "2022-10-04T15:55:45.116Z"
   },
   {
    "duration": 5,
    "start_time": "2022-10-04T15:55:45.140Z"
   },
   {
    "duration": 6,
    "start_time": "2022-10-04T15:55:45.146Z"
   },
   {
    "duration": 56,
    "start_time": "2022-10-04T15:55:45.153Z"
   },
   {
    "duration": 33,
    "start_time": "2022-10-04T15:55:45.211Z"
   },
   {
    "duration": 4,
    "start_time": "2022-10-04T15:55:45.245Z"
   },
   {
    "duration": 12,
    "start_time": "2022-10-04T15:55:45.251Z"
   },
   {
    "duration": 15,
    "start_time": "2022-10-04T15:55:45.310Z"
   },
   {
    "duration": 14,
    "start_time": "2022-10-04T15:55:45.327Z"
   },
   {
    "duration": 5,
    "start_time": "2022-10-04T15:55:45.343Z"
   },
   {
    "duration": 10,
    "start_time": "2022-10-04T15:55:45.349Z"
   },
   {
    "duration": 66,
    "start_time": "2022-10-04T15:55:45.361Z"
   },
   {
    "duration": 11,
    "start_time": "2022-10-04T15:55:45.429Z"
   },
   {
    "duration": 41,
    "start_time": "2022-10-04T15:55:45.442Z"
   },
   {
    "duration": 6,
    "start_time": "2022-10-04T15:55:45.485Z"
   },
   {
    "duration": 5,
    "start_time": "2022-10-04T15:55:45.509Z"
   },
   {
    "duration": 53,
    "start_time": "2022-10-04T15:55:45.516Z"
   },
   {
    "duration": 10,
    "start_time": "2022-10-04T15:55:45.571Z"
   },
   {
    "duration": 127,
    "start_time": "2022-10-04T15:55:45.582Z"
   },
   {
    "duration": 119,
    "start_time": "2022-10-04T15:55:45.714Z"
   },
   {
    "duration": 187,
    "start_time": "2022-10-04T15:55:45.835Z"
   },
   {
    "duration": 117,
    "start_time": "2022-10-04T15:55:46.024Z"
   },
   {
    "duration": 36,
    "start_time": "2022-10-04T15:55:46.142Z"
   },
   {
    "duration": 7,
    "start_time": "2022-10-04T15:55:46.180Z"
   },
   {
    "duration": 130,
    "start_time": "2022-10-04T15:55:46.188Z"
   },
   {
    "duration": 33,
    "start_time": "2022-10-04T15:55:46.320Z"
   },
   {
    "duration": 7,
    "start_time": "2022-10-04T15:55:46.355Z"
   },
   {
    "duration": 115,
    "start_time": "2022-10-04T15:55:46.364Z"
   },
   {
    "duration": 136,
    "start_time": "2022-10-04T15:55:46.481Z"
   },
   {
    "duration": 205,
    "start_time": "2022-10-04T15:55:46.619Z"
   },
   {
    "duration": 320,
    "start_time": "2022-10-04T15:55:46.827Z"
   },
   {
    "duration": 5,
    "start_time": "2022-10-04T15:55:47.149Z"
   },
   {
    "duration": 40,
    "start_time": "2022-10-04T15:55:47.155Z"
   },
   {
    "duration": 14,
    "start_time": "2022-10-04T15:55:47.196Z"
   },
   {
    "duration": 11,
    "start_time": "2022-10-04T15:55:47.212Z"
   },
   {
    "duration": 12,
    "start_time": "2022-10-04T15:55:47.225Z"
   },
   {
    "duration": 132,
    "start_time": "2022-10-04T15:55:47.238Z"
   },
   {
    "duration": 6,
    "start_time": "2022-10-04T15:55:47.372Z"
   },
   {
    "duration": 57,
    "start_time": "2022-10-04T15:55:47.379Z"
   },
   {
    "duration": 6,
    "start_time": "2022-10-04T15:55:47.438Z"
   },
   {
    "duration": 10,
    "start_time": "2022-10-04T15:55:47.446Z"
   },
   {
    "duration": 5,
    "start_time": "2022-10-04T15:55:47.457Z"
   },
   {
    "duration": 127,
    "start_time": "2022-10-04T15:55:47.463Z"
   },
   {
    "duration": 20,
    "start_time": "2022-10-04T15:55:47.591Z"
   },
   {
    "duration": 209,
    "start_time": "2022-10-04T15:55:47.613Z"
   },
   {
    "duration": 89,
    "start_time": "2022-10-04T15:55:47.824Z"
   },
   {
    "duration": 112,
    "start_time": "2022-10-04T15:55:47.915Z"
   },
   {
    "duration": 9,
    "start_time": "2022-10-04T15:55:48.029Z"
   },
   {
    "duration": 256,
    "start_time": "2022-10-04T15:55:48.040Z"
   },
   {
    "duration": 18,
    "start_time": "2022-10-04T15:55:48.298Z"
   },
   {
    "duration": 10,
    "start_time": "2022-10-04T15:55:48.321Z"
   },
   {
    "duration": 10,
    "start_time": "2022-10-04T15:55:48.332Z"
   },
   {
    "duration": 8,
    "start_time": "2022-10-04T15:55:48.344Z"
   },
   {
    "duration": 61,
    "start_time": "2022-10-04T15:55:48.354Z"
   },
   {
    "duration": 222,
    "start_time": "2022-10-04T15:55:48.417Z"
   },
   {
    "duration": 3,
    "start_time": "2022-10-04T15:55:48.641Z"
   },
   {
    "duration": 5,
    "start_time": "2022-10-04T15:55:48.645Z"
   },
   {
    "duration": 25,
    "start_time": "2022-10-04T15:55:48.651Z"
   },
   {
    "duration": 5,
    "start_time": "2022-10-04T15:55:48.677Z"
   },
   {
    "duration": 26,
    "start_time": "2022-10-04T15:55:48.683Z"
   },
   {
    "duration": 13,
    "start_time": "2022-10-04T15:55:48.710Z"
   },
   {
    "duration": 116,
    "start_time": "2022-10-04T15:55:48.724Z"
   },
   {
    "duration": 5,
    "start_time": "2022-10-04T15:55:48.841Z"
   },
   {
    "duration": 42,
    "start_time": "2022-10-04T15:55:48.848Z"
   },
   {
    "duration": 49895,
    "start_time": "2022-10-04T15:55:48.892Z"
   },
   {
    "duration": 4,
    "start_time": "2022-10-04T15:56:38.788Z"
   },
   {
    "duration": 15,
    "start_time": "2022-10-04T15:56:38.794Z"
   },
   {
    "duration": 966,
    "start_time": "2022-10-04T15:56:38.810Z"
   },
   {
    "duration": 5,
    "start_time": "2022-10-04T15:56:39.778Z"
   },
   {
    "duration": 7,
    "start_time": "2022-10-04T15:56:39.785Z"
   },
   {
    "duration": 15,
    "start_time": "2022-10-04T15:56:39.794Z"
   },
   {
    "duration": 147,
    "start_time": "2022-10-04T15:56:39.811Z"
   },
   {
    "duration": 5,
    "start_time": "2022-10-04T15:56:39.959Z"
   },
   {
    "duration": 145,
    "start_time": "2022-10-04T15:56:39.969Z"
   },
   {
    "duration": 5700,
    "start_time": "2022-10-04T15:56:40.116Z"
   },
   {
    "duration": 100,
    "start_time": "2022-10-04T15:56:45.818Z"
   },
   {
    "duration": 13,
    "start_time": "2022-10-04T15:56:46.009Z"
   },
   {
    "duration": 91,
    "start_time": "2022-10-04T15:56:46.024Z"
   },
   {
    "duration": 92,
    "start_time": "2022-10-04T15:56:46.120Z"
   },
   {
    "duration": 103,
    "start_time": "2022-10-04T15:56:46.214Z"
   },
   {
    "duration": 5,
    "start_time": "2022-10-04T15:56:46.318Z"
   },
   {
    "duration": 271,
    "start_time": "2022-10-04T15:56:46.324Z"
   },
   {
    "duration": 16,
    "start_time": "2022-10-04T15:56:46.597Z"
   },
   {
    "duration": 976,
    "start_time": "2022-10-04T15:56:46.615Z"
   },
   {
    "duration": 51,
    "start_time": "2022-10-04T15:56:47.593Z"
   },
   {
    "duration": 7,
    "start_time": "2022-10-04T15:56:47.645Z"
   },
   {
    "duration": 9,
    "start_time": "2022-10-04T15:56:47.653Z"
   },
   {
    "duration": 4,
    "start_time": "2022-10-04T15:56:47.663Z"
   },
   {
    "duration": 165,
    "start_time": "2022-10-04T15:56:47.668Z"
   },
   {
    "duration": 5,
    "start_time": "2022-10-04T15:56:47.834Z"
   },
   {
    "duration": 0,
    "start_time": "2022-10-04T15:56:47.992Z"
   },
   {
    "duration": 0,
    "start_time": "2022-10-04T15:56:47.992Z"
   },
   {
    "duration": 0,
    "start_time": "2022-10-04T15:56:47.993Z"
   },
   {
    "duration": 0,
    "start_time": "2022-10-04T15:56:47.994Z"
   },
   {
    "duration": 1282,
    "start_time": "2022-10-04T15:56:59.730Z"
   },
   {
    "duration": 1531,
    "start_time": "2022-10-04T15:57:01.014Z"
   },
   {
    "duration": 17,
    "start_time": "2022-10-04T15:57:02.547Z"
   },
   {
    "duration": 12,
    "start_time": "2022-10-04T15:57:02.566Z"
   },
   {
    "duration": 5,
    "start_time": "2022-10-04T15:57:02.580Z"
   },
   {
    "duration": 5,
    "start_time": "2022-10-04T15:57:02.587Z"
   },
   {
    "duration": 9,
    "start_time": "2022-10-04T15:57:02.594Z"
   },
   {
    "duration": 13,
    "start_time": "2022-10-04T15:57:02.605Z"
   },
   {
    "duration": 16,
    "start_time": "2022-10-04T15:57:02.619Z"
   },
   {
    "duration": 14,
    "start_time": "2022-10-04T15:57:02.639Z"
   },
   {
    "duration": 10,
    "start_time": "2022-10-04T15:57:02.654Z"
   },
   {
    "duration": 18,
    "start_time": "2022-10-04T15:57:02.665Z"
   },
   {
    "duration": 22,
    "start_time": "2022-10-04T15:57:02.685Z"
   },
   {
    "duration": 4,
    "start_time": "2022-10-04T15:57:02.708Z"
   },
   {
    "duration": 18,
    "start_time": "2022-10-04T15:57:02.714Z"
   },
   {
    "duration": 38,
    "start_time": "2022-10-04T15:57:02.734Z"
   },
   {
    "duration": 9,
    "start_time": "2022-10-04T15:57:02.774Z"
   },
   {
    "duration": 9,
    "start_time": "2022-10-04T15:57:02.785Z"
   },
   {
    "duration": 19,
    "start_time": "2022-10-04T15:57:02.795Z"
   },
   {
    "duration": 31,
    "start_time": "2022-10-04T15:57:02.815Z"
   },
   {
    "duration": 11,
    "start_time": "2022-10-04T15:57:02.847Z"
   },
   {
    "duration": 83,
    "start_time": "2022-10-04T15:57:02.859Z"
   },
   {
    "duration": 5,
    "start_time": "2022-10-04T15:57:02.944Z"
   },
   {
    "duration": 14,
    "start_time": "2022-10-04T15:57:02.950Z"
   },
   {
    "duration": 51,
    "start_time": "2022-10-04T15:57:02.965Z"
   },
   {
    "duration": 9,
    "start_time": "2022-10-04T15:57:03.018Z"
   },
   {
    "duration": 92,
    "start_time": "2022-10-04T15:57:03.029Z"
   },
   {
    "duration": 191,
    "start_time": "2022-10-04T15:57:03.125Z"
   },
   {
    "duration": 94,
    "start_time": "2022-10-04T15:57:03.318Z"
   },
   {
    "duration": 201,
    "start_time": "2022-10-04T15:57:03.416Z"
   },
   {
    "duration": 34,
    "start_time": "2022-10-04T15:57:03.619Z"
   },
   {
    "duration": 7,
    "start_time": "2022-10-04T15:57:03.654Z"
   },
   {
    "duration": 108,
    "start_time": "2022-10-04T15:57:03.663Z"
   },
   {
    "duration": 43,
    "start_time": "2022-10-04T15:57:03.772Z"
   },
   {
    "duration": 9,
    "start_time": "2022-10-04T15:57:03.816Z"
   },
   {
    "duration": 106,
    "start_time": "2022-10-04T15:57:03.826Z"
   },
   {
    "duration": 82,
    "start_time": "2022-10-04T15:57:03.933Z"
   },
   {
    "duration": 8,
    "start_time": "2022-10-04T15:57:04.017Z"
   },
   {
    "duration": 238,
    "start_time": "2022-10-04T15:57:04.110Z"
   },
   {
    "duration": 5,
    "start_time": "2022-10-04T15:57:04.350Z"
   },
   {
    "duration": 57,
    "start_time": "2022-10-04T15:57:04.356Z"
   },
   {
    "duration": 10,
    "start_time": "2022-10-04T15:57:04.415Z"
   },
   {
    "duration": 9,
    "start_time": "2022-10-04T15:57:04.427Z"
   },
   {
    "duration": 12,
    "start_time": "2022-10-04T15:57:04.438Z"
   },
   {
    "duration": 153,
    "start_time": "2022-10-04T15:57:04.452Z"
   },
   {
    "duration": 19,
    "start_time": "2022-10-04T15:57:04.607Z"
   },
   {
    "duration": 62,
    "start_time": "2022-10-04T15:57:04.627Z"
   },
   {
    "duration": 8,
    "start_time": "2022-10-04T15:57:04.691Z"
   },
   {
    "duration": 8,
    "start_time": "2022-10-04T15:57:04.701Z"
   },
   {
    "duration": 38,
    "start_time": "2022-10-04T15:57:04.710Z"
   },
   {
    "duration": 120,
    "start_time": "2022-10-04T15:57:04.749Z"
   },
   {
    "duration": 6,
    "start_time": "2022-10-04T15:57:04.870Z"
   },
   {
    "duration": 352,
    "start_time": "2022-10-04T15:57:04.877Z"
   },
   {
    "duration": 96,
    "start_time": "2022-10-04T15:57:05.231Z"
   },
   {
    "duration": 104,
    "start_time": "2022-10-04T15:57:05.329Z"
   },
   {
    "duration": 9,
    "start_time": "2022-10-04T15:57:05.434Z"
   },
   {
    "duration": 287,
    "start_time": "2022-10-04T15:57:05.445Z"
   },
   {
    "duration": 7,
    "start_time": "2022-10-04T15:57:05.733Z"
   },
   {
    "duration": 7,
    "start_time": "2022-10-04T15:57:05.741Z"
   },
   {
    "duration": 73,
    "start_time": "2022-10-04T15:57:05.750Z"
   },
   {
    "duration": 5,
    "start_time": "2022-10-04T15:57:05.826Z"
   },
   {
    "duration": 91,
    "start_time": "2022-10-04T15:57:05.832Z"
   },
   {
    "duration": 488,
    "start_time": "2022-10-04T15:57:05.927Z"
   },
   {
    "duration": 4,
    "start_time": "2022-10-04T15:57:06.416Z"
   },
   {
    "duration": 5,
    "start_time": "2022-10-04T15:57:06.421Z"
   },
   {
    "duration": 302,
    "start_time": "2022-10-04T15:57:06.428Z"
   },
   {
    "duration": 0,
    "start_time": "2022-10-04T15:57:06.732Z"
   },
   {
    "duration": 0,
    "start_time": "2022-10-04T15:57:06.733Z"
   },
   {
    "duration": 0,
    "start_time": "2022-10-04T15:57:06.734Z"
   },
   {
    "duration": 0,
    "start_time": "2022-10-04T15:57:06.735Z"
   },
   {
    "duration": 0,
    "start_time": "2022-10-04T15:57:06.735Z"
   },
   {
    "duration": 0,
    "start_time": "2022-10-04T15:57:06.736Z"
   },
   {
    "duration": 0,
    "start_time": "2022-10-04T15:57:06.737Z"
   },
   {
    "duration": 0,
    "start_time": "2022-10-04T15:57:06.737Z"
   },
   {
    "duration": 0,
    "start_time": "2022-10-04T15:57:06.738Z"
   },
   {
    "duration": 0,
    "start_time": "2022-10-04T15:57:06.739Z"
   },
   {
    "duration": 0,
    "start_time": "2022-10-04T15:57:06.740Z"
   },
   {
    "duration": 0,
    "start_time": "2022-10-04T15:57:06.741Z"
   },
   {
    "duration": 0,
    "start_time": "2022-10-04T15:57:06.742Z"
   },
   {
    "duration": 0,
    "start_time": "2022-10-04T15:57:06.742Z"
   },
   {
    "duration": 0,
    "start_time": "2022-10-04T15:57:06.743Z"
   },
   {
    "duration": 0,
    "start_time": "2022-10-04T15:57:06.743Z"
   },
   {
    "duration": 0,
    "start_time": "2022-10-04T15:57:06.744Z"
   },
   {
    "duration": 0,
    "start_time": "2022-10-04T15:57:06.745Z"
   },
   {
    "duration": 0,
    "start_time": "2022-10-04T15:57:06.746Z"
   },
   {
    "duration": 0,
    "start_time": "2022-10-04T15:57:06.746Z"
   },
   {
    "duration": 0,
    "start_time": "2022-10-04T15:57:06.747Z"
   },
   {
    "duration": 0,
    "start_time": "2022-10-04T15:57:06.748Z"
   },
   {
    "duration": 0,
    "start_time": "2022-10-04T15:57:06.749Z"
   },
   {
    "duration": 0,
    "start_time": "2022-10-04T15:57:06.750Z"
   },
   {
    "duration": 0,
    "start_time": "2022-10-04T15:57:06.750Z"
   },
   {
    "duration": 0,
    "start_time": "2022-10-04T15:57:06.751Z"
   },
   {
    "duration": 0,
    "start_time": "2022-10-04T15:57:06.809Z"
   },
   {
    "duration": 0,
    "start_time": "2022-10-04T15:57:06.810Z"
   },
   {
    "duration": 0,
    "start_time": "2022-10-04T15:57:06.810Z"
   },
   {
    "duration": 0,
    "start_time": "2022-10-04T15:57:06.811Z"
   },
   {
    "duration": 0,
    "start_time": "2022-10-04T15:57:06.812Z"
   },
   {
    "duration": 1,
    "start_time": "2022-10-04T15:57:06.812Z"
   },
   {
    "duration": 25,
    "start_time": "2022-10-04T15:57:27.622Z"
   },
   {
    "duration": 5,
    "start_time": "2022-10-04T15:57:30.534Z"
   },
   {
    "duration": 5,
    "start_time": "2022-10-04T15:57:30.941Z"
   },
   {
    "duration": 6,
    "start_time": "2022-10-04T15:57:31.333Z"
   },
   {
    "duration": 1302,
    "start_time": "2022-10-04T15:57:40.321Z"
   },
   {
    "duration": 1363,
    "start_time": "2022-10-04T15:57:41.625Z"
   },
   {
    "duration": 15,
    "start_time": "2022-10-04T15:57:42.990Z"
   },
   {
    "duration": 14,
    "start_time": "2022-10-04T15:57:43.007Z"
   },
   {
    "duration": 7,
    "start_time": "2022-10-04T15:57:43.023Z"
   },
   {
    "duration": 5,
    "start_time": "2022-10-04T15:57:43.032Z"
   },
   {
    "duration": 4,
    "start_time": "2022-10-04T15:57:43.038Z"
   },
   {
    "duration": 6,
    "start_time": "2022-10-04T15:57:43.044Z"
   },
   {
    "duration": 13,
    "start_time": "2022-10-04T15:57:43.052Z"
   },
   {
    "duration": 8,
    "start_time": "2022-10-04T15:57:43.066Z"
   },
   {
    "duration": 5,
    "start_time": "2022-10-04T15:57:43.075Z"
   },
   {
    "duration": 39,
    "start_time": "2022-10-04T15:57:43.081Z"
   },
   {
    "duration": 17,
    "start_time": "2022-10-04T15:57:43.122Z"
   },
   {
    "duration": 3,
    "start_time": "2022-10-04T15:57:43.142Z"
   },
   {
    "duration": 14,
    "start_time": "2022-10-04T15:57:43.147Z"
   },
   {
    "duration": 12,
    "start_time": "2022-10-04T15:57:43.162Z"
   },
   {
    "duration": 7,
    "start_time": "2022-10-04T15:57:43.175Z"
   },
   {
    "duration": 9,
    "start_time": "2022-10-04T15:57:43.184Z"
   },
   {
    "duration": 24,
    "start_time": "2022-10-04T15:57:43.195Z"
   },
   {
    "duration": 25,
    "start_time": "2022-10-04T15:57:43.221Z"
   },
   {
    "duration": 12,
    "start_time": "2022-10-04T15:57:43.247Z"
   },
   {
    "duration": 39,
    "start_time": "2022-10-04T15:57:43.260Z"
   },
   {
    "duration": 10,
    "start_time": "2022-10-04T15:57:43.300Z"
   },
   {
    "duration": 14,
    "start_time": "2022-10-04T15:57:43.312Z"
   },
   {
    "duration": 38,
    "start_time": "2022-10-04T15:57:43.327Z"
   },
   {
    "duration": 9,
    "start_time": "2022-10-04T15:57:43.367Z"
   },
   {
    "duration": 456,
    "start_time": "2022-10-04T15:57:43.377Z"
   },
   {
    "duration": 93,
    "start_time": "2022-10-04T15:57:43.834Z"
   },
   {
    "duration": 92,
    "start_time": "2022-10-04T15:57:43.931Z"
   },
   {
    "duration": 195,
    "start_time": "2022-10-04T15:57:44.026Z"
   },
   {
    "duration": 35,
    "start_time": "2022-10-04T15:57:44.223Z"
   },
   {
    "duration": 7,
    "start_time": "2022-10-04T15:57:44.260Z"
   },
   {
    "duration": 101,
    "start_time": "2022-10-04T15:57:44.269Z"
   },
   {
    "duration": 55,
    "start_time": "2022-10-04T15:57:44.372Z"
   },
   {
    "duration": 11,
    "start_time": "2022-10-04T15:57:44.429Z"
   },
   {
    "duration": 115,
    "start_time": "2022-10-04T15:57:44.441Z"
   },
   {
    "duration": 266,
    "start_time": "2022-10-04T15:57:44.557Z"
   },
   {
    "duration": 92,
    "start_time": "2022-10-04T15:57:44.827Z"
   },
   {
    "duration": 222,
    "start_time": "2022-10-04T15:57:44.920Z"
   },
   {
    "duration": 6,
    "start_time": "2022-10-04T15:57:45.143Z"
   },
   {
    "duration": 36,
    "start_time": "2022-10-04T15:57:45.153Z"
   },
   {
    "duration": 29,
    "start_time": "2022-10-04T15:57:45.190Z"
   },
   {
    "duration": 7,
    "start_time": "2022-10-04T15:57:45.221Z"
   },
   {
    "duration": 5,
    "start_time": "2022-10-04T15:57:45.229Z"
   },
   {
    "duration": 123,
    "start_time": "2022-10-04T15:57:45.235Z"
   },
   {
    "duration": 7,
    "start_time": "2022-10-04T15:57:45.359Z"
   },
   {
    "duration": 51,
    "start_time": "2022-10-04T15:57:45.368Z"
   },
   {
    "duration": 6,
    "start_time": "2022-10-04T15:57:45.421Z"
   },
   {
    "duration": 8,
    "start_time": "2022-10-04T15:57:45.429Z"
   },
   {
    "duration": 5,
    "start_time": "2022-10-04T15:57:45.438Z"
   },
   {
    "duration": 120,
    "start_time": "2022-10-04T15:57:45.444Z"
   },
   {
    "duration": 5,
    "start_time": "2022-10-04T15:57:45.566Z"
   },
   {
    "duration": 451,
    "start_time": "2022-10-04T15:57:45.572Z"
   },
   {
    "duration": 92,
    "start_time": "2022-10-04T15:57:46.027Z"
   },
   {
    "duration": 7,
    "start_time": "2022-10-04T15:57:46.124Z"
   },
   {
    "duration": 11,
    "start_time": "2022-10-04T15:57:46.210Z"
   },
   {
    "duration": 281,
    "start_time": "2022-10-04T15:57:46.222Z"
   },
   {
    "duration": 17,
    "start_time": "2022-10-04T15:57:46.504Z"
   },
   {
    "duration": 8,
    "start_time": "2022-10-04T15:57:46.522Z"
   },
   {
    "duration": 10,
    "start_time": "2022-10-04T15:57:46.532Z"
   },
   {
    "duration": 19,
    "start_time": "2022-10-04T15:57:46.544Z"
   },
   {
    "duration": 55,
    "start_time": "2022-10-04T15:57:46.565Z"
   },
   {
    "duration": 225,
    "start_time": "2022-10-04T15:57:46.622Z"
   },
   {
    "duration": 3,
    "start_time": "2022-10-04T15:57:46.849Z"
   },
   {
    "duration": 6,
    "start_time": "2022-10-04T15:57:46.853Z"
   },
   {
    "duration": 29,
    "start_time": "2022-10-04T15:57:46.860Z"
   },
   {
    "duration": 25,
    "start_time": "2022-10-04T15:57:46.890Z"
   },
   {
    "duration": 7,
    "start_time": "2022-10-04T15:57:46.917Z"
   },
   {
    "duration": 7,
    "start_time": "2022-10-04T15:57:46.925Z"
   },
   {
    "duration": 118,
    "start_time": "2022-10-04T15:57:46.933Z"
   },
   {
    "duration": 5,
    "start_time": "2022-10-04T15:57:47.053Z"
   },
   {
    "duration": 56,
    "start_time": "2022-10-04T15:57:47.059Z"
   },
   {
    "duration": 51304,
    "start_time": "2022-10-04T15:57:47.116Z"
   },
   {
    "duration": 4,
    "start_time": "2022-10-04T15:58:38.421Z"
   },
   {
    "duration": 5,
    "start_time": "2022-10-04T15:58:38.426Z"
   },
   {
    "duration": 973,
    "start_time": "2022-10-04T15:58:38.432Z"
   },
   {
    "duration": 16,
    "start_time": "2022-10-04T15:58:39.407Z"
   },
   {
    "duration": 10,
    "start_time": "2022-10-04T15:58:39.424Z"
   },
   {
    "duration": 7,
    "start_time": "2022-10-04T15:58:39.435Z"
   },
   {
    "duration": 159,
    "start_time": "2022-10-04T15:58:39.443Z"
   },
   {
    "duration": 18,
    "start_time": "2022-10-04T15:58:39.603Z"
   },
   {
    "duration": 105,
    "start_time": "2022-10-04T15:58:39.623Z"
   },
   {
    "duration": 15589,
    "start_time": "2022-10-04T15:58:39.731Z"
   },
   {
    "duration": 90,
    "start_time": "2022-10-04T15:58:55.329Z"
   },
   {
    "duration": 9,
    "start_time": "2022-10-04T15:58:55.421Z"
   },
   {
    "duration": 280,
    "start_time": "2022-10-04T15:58:55.431Z"
   },
   {
    "duration": 101,
    "start_time": "2022-10-04T15:58:55.719Z"
   },
   {
    "duration": 9,
    "start_time": "2022-10-04T15:58:55.822Z"
   },
   {
    "duration": 5,
    "start_time": "2022-10-04T15:58:55.832Z"
   },
   {
    "duration": 253,
    "start_time": "2022-10-04T15:58:55.839Z"
   },
   {
    "duration": 5,
    "start_time": "2022-10-04T15:58:56.094Z"
   },
   {
    "duration": 1017,
    "start_time": "2022-10-04T15:58:56.108Z"
   },
   {
    "duration": 45,
    "start_time": "2022-10-04T15:58:57.127Z"
   },
   {
    "duration": 5,
    "start_time": "2022-10-04T15:58:57.173Z"
   },
   {
    "duration": 6,
    "start_time": "2022-10-04T15:58:57.180Z"
   },
   {
    "duration": 24,
    "start_time": "2022-10-04T15:58:57.187Z"
   },
   {
    "duration": 162,
    "start_time": "2022-10-04T15:58:57.212Z"
   },
   {
    "duration": 7,
    "start_time": "2022-10-04T15:58:57.380Z"
   },
   {
    "duration": 49,
    "start_time": "2022-10-04T15:58:59.658Z"
   },
   {
    "duration": 38,
    "start_time": "2022-10-04T15:59:02.793Z"
   },
   {
    "duration": 8,
    "start_time": "2022-10-04T15:59:03.058Z"
   },
   {
    "duration": 86,
    "start_time": "2022-10-04T15:59:05.233Z"
   },
   {
    "duration": 10,
    "start_time": "2022-10-04T15:59:05.441Z"
   },
   {
    "duration": 19,
    "start_time": "2022-10-04T15:59:07.345Z"
   },
   {
    "duration": 11,
    "start_time": "2022-10-04T15:59:07.569Z"
   },
   {
    "duration": 40,
    "start_time": "2022-10-04T16:01:52.109Z"
   },
   {
    "duration": 101,
    "start_time": "2022-10-04T16:59:08.271Z"
   },
   {
    "duration": 204,
    "start_time": "2022-10-04T17:00:09.531Z"
   },
   {
    "duration": 3,
    "start_time": "2022-10-04T17:00:12.794Z"
   },
   {
    "duration": 3,
    "start_time": "2022-10-04T17:00:16.841Z"
   },
   {
    "duration": 40,
    "start_time": "2022-10-04T17:00:24.392Z"
   },
   {
    "duration": 5,
    "start_time": "2022-10-04T17:00:26.617Z"
   },
   {
    "duration": 5,
    "start_time": "2022-10-04T17:00:27.235Z"
   },
   {
    "duration": 5,
    "start_time": "2022-10-04T17:00:28.176Z"
   },
   {
    "duration": 203,
    "start_time": "2022-10-04T17:00:31.759Z"
   },
   {
    "duration": 3,
    "start_time": "2022-10-04T17:00:32.223Z"
   },
   {
    "duration": 3,
    "start_time": "2022-10-04T17:00:34.360Z"
   },
   {
    "duration": 37,
    "start_time": "2022-10-04T17:00:51.214Z"
   },
   {
    "duration": 6,
    "start_time": "2022-10-04T17:00:51.734Z"
   },
   {
    "duration": 5,
    "start_time": "2022-10-04T17:00:52.249Z"
   },
   {
    "duration": 6,
    "start_time": "2022-10-04T17:00:52.743Z"
   },
   {
    "duration": 216,
    "start_time": "2022-10-04T17:01:40.644Z"
   },
   {
    "duration": 4,
    "start_time": "2022-10-04T17:01:41.154Z"
   },
   {
    "duration": 4,
    "start_time": "2022-10-04T17:01:41.722Z"
   },
   {
    "duration": 3,
    "start_time": "2022-10-04T17:01:50.059Z"
   },
   {
    "duration": 35,
    "start_time": "2022-10-04T17:01:51.786Z"
   },
   {
    "duration": 5,
    "start_time": "2022-10-04T17:01:52.154Z"
   },
   {
    "duration": 5,
    "start_time": "2022-10-04T17:01:52.722Z"
   },
   {
    "duration": 5,
    "start_time": "2022-10-04T17:01:53.346Z"
   },
   {
    "duration": 211,
    "start_time": "2022-10-04T17:01:56.713Z"
   },
   {
    "duration": 3,
    "start_time": "2022-10-04T17:01:57.185Z"
   },
   {
    "duration": 4,
    "start_time": "2022-10-04T17:01:57.696Z"
   },
   {
    "duration": 41,
    "start_time": "2022-10-04T17:01:58.200Z"
   },
   {
    "duration": 5,
    "start_time": "2022-10-04T17:01:58.616Z"
   },
   {
    "duration": 6,
    "start_time": "2022-10-04T17:01:59.056Z"
   },
   {
    "duration": 6,
    "start_time": "2022-10-04T17:01:59.448Z"
   },
   {
    "duration": 27,
    "start_time": "2022-10-04T17:02:48.966Z"
   },
   {
    "duration": 5,
    "start_time": "2022-10-04T17:02:49.413Z"
   },
   {
    "duration": 5,
    "start_time": "2022-10-04T17:02:49.917Z"
   },
   {
    "duration": 6,
    "start_time": "2022-10-04T17:02:50.524Z"
   },
   {
    "duration": 212,
    "start_time": "2022-10-04T17:03:02.925Z"
   },
   {
    "duration": 3,
    "start_time": "2022-10-04T17:03:03.364Z"
   },
   {
    "duration": 3,
    "start_time": "2022-10-04T17:03:03.973Z"
   },
   {
    "duration": 4,
    "start_time": "2022-10-04T17:03:08.932Z"
   },
   {
    "duration": 24,
    "start_time": "2022-10-04T17:03:10.355Z"
   },
   {
    "duration": 5,
    "start_time": "2022-10-04T17:03:10.891Z"
   },
   {
    "duration": 5,
    "start_time": "2022-10-04T17:03:11.403Z"
   },
   {
    "duration": 6,
    "start_time": "2022-10-04T17:03:11.979Z"
   },
   {
    "duration": 36,
    "start_time": "2022-10-04T17:03:18.994Z"
   },
   {
    "duration": 205,
    "start_time": "2022-10-04T17:03:21.282Z"
   },
   {
    "duration": 3,
    "start_time": "2022-10-04T17:03:22.010Z"
   },
   {
    "duration": 3,
    "start_time": "2022-10-04T17:03:22.562Z"
   },
   {
    "duration": 35,
    "start_time": "2022-10-04T17:03:23.354Z"
   },
   {
    "duration": 7,
    "start_time": "2022-10-04T17:03:24.523Z"
   },
   {
    "duration": 5,
    "start_time": "2022-10-04T17:03:25.379Z"
   },
   {
    "duration": 5,
    "start_time": "2022-10-04T17:03:26.010Z"
   },
   {
    "duration": 135,
    "start_time": "2022-10-04T17:03:53.897Z"
   },
   {
    "duration": 4,
    "start_time": "2022-10-04T17:03:54.392Z"
   },
   {
    "duration": 216,
    "start_time": "2022-10-04T17:04:06.576Z"
   },
   {
    "duration": 4,
    "start_time": "2022-10-04T17:04:07.823Z"
   },
   {
    "duration": 4,
    "start_time": "2022-10-04T17:04:08.295Z"
   },
   {
    "duration": 4,
    "start_time": "2022-10-04T17:04:14.327Z"
   },
   {
    "duration": 36,
    "start_time": "2022-10-04T17:04:15.182Z"
   },
   {
    "duration": 23,
    "start_time": "2022-10-04T17:04:19.582Z"
   },
   {
    "duration": 6,
    "start_time": "2022-10-04T17:04:20.526Z"
   },
   {
    "duration": 6,
    "start_time": "2022-10-04T17:04:20.981Z"
   },
   {
    "duration": 5,
    "start_time": "2022-10-04T17:04:21.429Z"
   },
   {
    "duration": 114,
    "start_time": "2022-10-04T17:04:23.510Z"
   },
   {
    "duration": 8,
    "start_time": "2022-10-04T17:04:24.541Z"
   },
   {
    "duration": 49469,
    "start_time": "2022-10-04T17:04:48.844Z"
   },
   {
    "duration": 3,
    "start_time": "2022-10-04T17:05:38.315Z"
   },
   {
    "duration": 5,
    "start_time": "2022-10-04T17:05:38.320Z"
   },
   {
    "duration": 60,
    "start_time": "2022-10-06T15:42:34.504Z"
   },
   {
    "duration": 1460,
    "start_time": "2022-10-06T15:42:39.912Z"
   },
   {
    "duration": 1861,
    "start_time": "2022-10-06T15:42:41.374Z"
   },
   {
    "duration": 17,
    "start_time": "2022-10-06T15:42:43.236Z"
   },
   {
    "duration": 12,
    "start_time": "2022-10-06T15:42:43.255Z"
   },
   {
    "duration": 4,
    "start_time": "2022-10-06T15:42:43.269Z"
   },
   {
    "duration": 11,
    "start_time": "2022-10-06T15:42:43.275Z"
   },
   {
    "duration": 22,
    "start_time": "2022-10-06T15:42:43.288Z"
   },
   {
    "duration": 5,
    "start_time": "2022-10-06T15:42:43.311Z"
   },
   {
    "duration": 11,
    "start_time": "2022-10-06T15:42:43.318Z"
   },
   {
    "duration": 8,
    "start_time": "2022-10-06T15:42:43.331Z"
   },
   {
    "duration": 14,
    "start_time": "2022-10-06T15:42:43.340Z"
   },
   {
    "duration": 12,
    "start_time": "2022-10-06T15:42:43.356Z"
   },
   {
    "duration": 47,
    "start_time": "2022-10-06T15:42:43.369Z"
   },
   {
    "duration": 4,
    "start_time": "2022-10-06T15:42:43.417Z"
   },
   {
    "duration": 8,
    "start_time": "2022-10-06T15:42:43.422Z"
   },
   {
    "duration": 2,
    "start_time": "2022-10-06T15:42:43.432Z"
   },
   {
    "duration": 7,
    "start_time": "2022-10-06T15:42:43.436Z"
   },
   {
    "duration": 6,
    "start_time": "2022-10-06T15:42:43.444Z"
   },
   {
    "duration": 10,
    "start_time": "2022-10-06T15:42:43.451Z"
   },
   {
    "duration": 59,
    "start_time": "2022-10-06T15:42:43.462Z"
   },
   {
    "duration": 11,
    "start_time": "2022-10-06T15:42:43.522Z"
   },
   {
    "duration": 42,
    "start_time": "2022-10-06T15:42:43.534Z"
   },
   {
    "duration": 5,
    "start_time": "2022-10-06T15:42:43.577Z"
   },
   {
    "duration": 6,
    "start_time": "2022-10-06T15:42:43.584Z"
   },
   {
    "duration": 57,
    "start_time": "2022-10-06T15:42:43.591Z"
   },
   {
    "duration": 10,
    "start_time": "2022-10-06T15:42:43.649Z"
   },
   {
    "duration": 248,
    "start_time": "2022-10-06T15:42:43.661Z"
   },
   {
    "duration": 99,
    "start_time": "2022-10-06T15:42:43.915Z"
   },
   {
    "duration": 98,
    "start_time": "2022-10-06T15:42:44.015Z"
   },
   {
    "duration": 194,
    "start_time": "2022-10-06T15:42:44.115Z"
   },
   {
    "duration": 36,
    "start_time": "2022-10-06T15:42:44.310Z"
   },
   {
    "duration": 7,
    "start_time": "2022-10-06T15:42:44.348Z"
   },
   {
    "duration": 132,
    "start_time": "2022-10-06T15:42:44.357Z"
   },
   {
    "duration": 44,
    "start_time": "2022-10-06T15:42:44.491Z"
   },
   {
    "duration": 11,
    "start_time": "2022-10-06T15:42:44.537Z"
   },
   {
    "duration": 133,
    "start_time": "2022-10-06T15:42:44.550Z"
   },
   {
    "duration": 125,
    "start_time": "2022-10-06T15:42:44.685Z"
   },
   {
    "duration": 103,
    "start_time": "2022-10-06T15:42:44.812Z"
   },
   {
    "duration": 316,
    "start_time": "2022-10-06T15:42:44.917Z"
   },
   {
    "duration": 5,
    "start_time": "2022-10-06T15:42:45.235Z"
   },
   {
    "duration": 38,
    "start_time": "2022-10-06T15:42:45.243Z"
   },
   {
    "duration": 6,
    "start_time": "2022-10-06T15:42:45.283Z"
   },
   {
    "duration": 23,
    "start_time": "2022-10-06T15:42:45.290Z"
   },
   {
    "duration": 6,
    "start_time": "2022-10-06T15:42:45.315Z"
   },
   {
    "duration": 131,
    "start_time": "2022-10-06T15:42:45.323Z"
   },
   {
    "duration": 6,
    "start_time": "2022-10-06T15:42:45.456Z"
   },
   {
    "duration": 53,
    "start_time": "2022-10-06T15:42:45.464Z"
   },
   {
    "duration": 6,
    "start_time": "2022-10-06T15:42:45.519Z"
   },
   {
    "duration": 9,
    "start_time": "2022-10-06T15:42:45.527Z"
   },
   {
    "duration": 8,
    "start_time": "2022-10-06T15:42:45.537Z"
   },
   {
    "duration": 121,
    "start_time": "2022-10-06T15:42:45.546Z"
   },
   {
    "duration": 5,
    "start_time": "2022-10-06T15:42:45.668Z"
   },
   {
    "duration": 137,
    "start_time": "2022-10-06T15:42:45.675Z"
   },
   {
    "duration": 5,
    "start_time": "2022-10-06T15:42:45.814Z"
   },
   {
    "duration": 101,
    "start_time": "2022-10-06T15:42:45.910Z"
   },
   {
    "duration": 6,
    "start_time": "2022-10-06T15:42:46.013Z"
   },
   {
    "duration": 259,
    "start_time": "2022-10-06T15:42:46.020Z"
   },
   {
    "duration": 5,
    "start_time": "2022-10-06T15:42:46.281Z"
   },
   {
    "duration": 23,
    "start_time": "2022-10-06T15:42:46.287Z"
   },
   {
    "duration": 8,
    "start_time": "2022-10-06T15:42:46.312Z"
   },
   {
    "duration": 8,
    "start_time": "2022-10-06T15:42:46.322Z"
   },
   {
    "duration": 41,
    "start_time": "2022-10-06T15:42:46.331Z"
   },
   {
    "duration": 236,
    "start_time": "2022-10-06T15:42:46.373Z"
   },
   {
    "duration": 3,
    "start_time": "2022-10-06T15:42:46.611Z"
   },
   {
    "duration": 4,
    "start_time": "2022-10-06T15:42:46.616Z"
   },
   {
    "duration": 27,
    "start_time": "2022-10-06T15:42:46.622Z"
   },
   {
    "duration": 5,
    "start_time": "2022-10-06T15:42:46.650Z"
   },
   {
    "duration": 5,
    "start_time": "2022-10-06T15:42:46.656Z"
   },
   {
    "duration": 7,
    "start_time": "2022-10-06T15:42:46.662Z"
   },
   {
    "duration": 133,
    "start_time": "2022-10-06T15:42:46.670Z"
   },
   {
    "duration": 7,
    "start_time": "2022-10-06T15:42:46.805Z"
   },
   {
    "duration": 39,
    "start_time": "2022-10-06T15:42:46.814Z"
   },
   {
    "duration": 49308,
    "start_time": "2022-10-06T15:42:46.854Z"
   },
   {
    "duration": 3,
    "start_time": "2022-10-06T15:43:36.164Z"
   },
   {
    "duration": 7,
    "start_time": "2022-10-06T15:43:36.168Z"
   },
   {
    "duration": 987,
    "start_time": "2022-10-06T15:43:36.177Z"
   },
   {
    "duration": 5,
    "start_time": "2022-10-06T15:43:37.166Z"
   },
   {
    "duration": 10,
    "start_time": "2022-10-06T15:43:37.172Z"
   },
   {
    "duration": 6,
    "start_time": "2022-10-06T15:43:37.183Z"
   },
   {
    "duration": 161,
    "start_time": "2022-10-06T15:43:37.190Z"
   },
   {
    "duration": 6,
    "start_time": "2022-10-06T15:43:37.352Z"
   },
   {
    "duration": 247,
    "start_time": "2022-10-06T15:43:37.363Z"
   },
   {
    "duration": 5706,
    "start_time": "2022-10-06T15:43:37.612Z"
   },
   {
    "duration": 5,
    "start_time": "2022-10-06T15:43:43.410Z"
   },
   {
    "duration": 93,
    "start_time": "2022-10-06T15:43:43.418Z"
   },
   {
    "duration": 103,
    "start_time": "2022-10-06T15:43:43.513Z"
   },
   {
    "duration": 6,
    "start_time": "2022-10-06T15:43:43.709Z"
   },
   {
    "duration": 99,
    "start_time": "2022-10-06T15:43:43.718Z"
   },
   {
    "duration": 5,
    "start_time": "2022-10-06T15:43:43.818Z"
   },
   {
    "duration": 286,
    "start_time": "2022-10-06T15:43:43.824Z"
   },
   {
    "duration": 6,
    "start_time": "2022-10-06T15:43:44.111Z"
   },
   {
    "duration": 10,
    "start_time": "2022-10-06T15:43:44.118Z"
   },
   {
    "duration": 1002,
    "start_time": "2022-10-06T15:43:44.129Z"
   },
   {
    "duration": 45,
    "start_time": "2022-10-06T15:43:45.133Z"
   },
   {
    "duration": 5,
    "start_time": "2022-10-06T15:43:45.180Z"
   },
   {
    "duration": 23,
    "start_time": "2022-10-06T15:43:45.187Z"
   },
   {
    "duration": 6,
    "start_time": "2022-10-06T15:43:45.211Z"
   },
   {
    "duration": 161,
    "start_time": "2022-10-06T15:43:45.218Z"
   },
   {
    "duration": 5,
    "start_time": "2022-10-06T15:43:45.381Z"
   },
   {
    "duration": 3,
    "start_time": "2022-10-06T15:44:00.436Z"
   },
   {
    "duration": 9,
    "start_time": "2022-10-06T15:44:10.571Z"
   },
   {
    "duration": 3,
    "start_time": "2022-10-06T15:44:11.402Z"
   },
   {
    "duration": 10,
    "start_time": "2022-10-06T15:44:22.522Z"
   },
   {
    "duration": 4,
    "start_time": "2022-10-06T15:44:22.968Z"
   },
   {
    "duration": 9,
    "start_time": "2022-10-06T15:46:02.307Z"
   },
   {
    "duration": 6,
    "start_time": "2022-10-06T15:47:20.661Z"
   },
   {
    "duration": 9,
    "start_time": "2022-10-06T15:48:36.223Z"
   },
   {
    "duration": 3,
    "start_time": "2022-10-06T15:48:36.750Z"
   },
   {
    "duration": 9,
    "start_time": "2022-10-06T15:48:50.317Z"
   },
   {
    "duration": 9,
    "start_time": "2022-10-06T15:49:05.124Z"
   },
   {
    "duration": 4,
    "start_time": "2022-10-06T15:49:34.394Z"
   },
   {
    "duration": 5,
    "start_time": "2022-10-06T15:49:36.521Z"
   },
   {
    "duration": 5,
    "start_time": "2022-10-06T15:49:47.129Z"
   },
   {
    "duration": 10,
    "start_time": "2022-10-06T15:49:51.208Z"
   },
   {
    "duration": 3,
    "start_time": "2022-10-06T15:49:51.647Z"
   },
   {
    "duration": 5,
    "start_time": "2022-10-06T15:49:52.231Z"
   },
   {
    "duration": 10,
    "start_time": "2022-10-06T15:50:08.271Z"
   },
   {
    "duration": 3,
    "start_time": "2022-10-06T15:50:09.070Z"
   },
   {
    "duration": 4,
    "start_time": "2022-10-06T15:50:09.390Z"
   },
   {
    "duration": 9,
    "start_time": "2022-10-06T15:50:13.118Z"
   },
   {
    "duration": 3,
    "start_time": "2022-10-06T15:50:13.437Z"
   },
   {
    "duration": 5,
    "start_time": "2022-10-06T15:50:13.941Z"
   },
   {
    "duration": 10,
    "start_time": "2022-10-06T15:50:17.487Z"
   },
   {
    "duration": 3,
    "start_time": "2022-10-06T15:50:17.853Z"
   },
   {
    "duration": 5,
    "start_time": "2022-10-06T15:50:18.365Z"
   },
   {
    "duration": 9,
    "start_time": "2022-10-06T15:50:21.749Z"
   },
   {
    "duration": 3,
    "start_time": "2022-10-06T15:50:21.941Z"
   },
   {
    "duration": 5,
    "start_time": "2022-10-06T15:50:22.276Z"
   },
   {
    "duration": 9,
    "start_time": "2022-10-06T15:50:28.188Z"
   },
   {
    "duration": 3,
    "start_time": "2022-10-06T15:50:28.460Z"
   },
   {
    "duration": 4,
    "start_time": "2022-10-06T15:50:28.772Z"
   },
   {
    "duration": 9,
    "start_time": "2022-10-06T15:50:31.757Z"
   },
   {
    "duration": 3,
    "start_time": "2022-10-06T15:50:32.060Z"
   },
   {
    "duration": 4,
    "start_time": "2022-10-06T15:50:32.315Z"
   },
   {
    "duration": 16,
    "start_time": "2022-10-06T15:51:21.754Z"
   },
   {
    "duration": 213,
    "start_time": "2022-10-06T15:51:36.152Z"
   },
   {
    "duration": 4,
    "start_time": "2022-10-06T15:51:48.896Z"
   },
   {
    "duration": 3,
    "start_time": "2022-10-06T15:52:02.151Z"
   },
   {
    "duration": 15,
    "start_time": "2022-10-06T15:52:51.114Z"
   },
   {
    "duration": 5,
    "start_time": "2022-10-06T15:53:19.080Z"
   },
   {
    "duration": 6,
    "start_time": "2022-10-06T15:53:42.775Z"
   },
   {
    "duration": 348,
    "start_time": "2022-10-06T15:54:20.452Z"
   },
   {
    "duration": 5,
    "start_time": "2022-10-06T15:54:21.314Z"
   },
   {
    "duration": 5,
    "start_time": "2022-10-06T15:54:22.131Z"
   },
   {
    "duration": 41,
    "start_time": "2022-10-06T15:54:43.473Z"
   },
   {
    "duration": 7,
    "start_time": "2022-10-06T15:54:43.848Z"
   },
   {
    "duration": 6,
    "start_time": "2022-10-06T15:54:44.281Z"
   },
   {
    "duration": 18222,
    "start_time": "2022-10-06T15:55:30.006Z"
   },
   {
    "duration": 4,
    "start_time": "2022-10-06T15:55:48.230Z"
   },
   {
    "duration": 26,
    "start_time": "2022-10-06T15:55:48.236Z"
   },
   {
    "duration": 58,
    "start_time": "2022-10-06T15:55:57.324Z"
   },
   {
    "duration": 8,
    "start_time": "2022-10-06T15:55:58.044Z"
   },
   {
    "duration": 6,
    "start_time": "2022-10-06T15:55:58.948Z"
   },
   {
    "duration": 5,
    "start_time": "2022-10-06T16:50:42.494Z"
   }
  ],
  "kernelspec": {
   "display_name": "Python 3 (ipykernel)",
   "language": "python",
   "name": "python3"
  },
  "language_info": {
   "codemirror_mode": {
    "name": "ipython",
    "version": 3
   },
   "file_extension": ".py",
   "mimetype": "text/x-python",
   "name": "python",
   "nbconvert_exporter": "python",
   "pygments_lexer": "ipython3",
   "version": "3.9.5"
  },
  "toc": {
   "base_numbering": 1,
   "nav_menu": {},
   "number_sections": true,
   "sideBar": true,
   "skip_h1_title": true,
   "title_cell": "Содержание",
   "title_sidebar": "Contents",
   "toc_cell": true,
   "toc_position": {
    "height": "735px",
    "left": "106px",
    "top": "111.125px",
    "width": "366.188px"
   },
   "toc_section_display": true,
   "toc_window_display": true
  }
 },
 "nbformat": 4,
 "nbformat_minor": 2
}
